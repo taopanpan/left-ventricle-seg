{
 "cells": [
  {
   "cell_type": "markdown",
   "metadata": {},
   "source": [
    "### Imports"
   ]
  },
  {
   "cell_type": "code",
   "execution_count": 1,
   "metadata": {
    "collapsed": true
   },
   "outputs": [],
   "source": [
    "% matplotlib inline\n",
    "\n",
    "import os\n",
    "import sys\n",
    "\n",
    "sys.path.append('../..')\n",
    "os.chdir('../..')\n",
    "\n",
    "import matplotlib.cm as cm\n",
    "import matplotlib.pyplot as plt\n",
    "import scipy.io as sio\n",
    "import skimage.io as io\n",
    "from IPython.display import Image\n",
    "from scipy.sparse import csr_matrix\n",
    "from scipy.spatial.distance import pdist\n",
    "\n",
    "import predict_lv as predict\n",
    "import project.utils.visualisation as visualisation\n",
    "\n",
    "import menpo.io as mio\n",
    "import menpo.visualize\n",
    "from menpowidgets import visualize_images\n",
    "\n",
    "from pathlib import Path"
   ]
  },
  {
   "cell_type": "markdown",
   "metadata": {},
   "source": [
    "# Prepare Images\n",
    "\n",
    "Head on over to the `tfrecords-inference` notebook"
   ]
  },
  {
   "cell_type": "markdown",
   "metadata": {},
   "source": [
    "# Perform Inference\n",
    "\n",
    "Generate some landmark heatmaps from the images!"
   ]
  },
  {
   "cell_type": "markdown",
   "metadata": {},
   "source": [
    "#### Where's the model located?\n",
    "Which trained model do you want to use to perform inference? Please supply the directory in which the TensorFlow checkpoint file is located."
   ]
  },
  {
   "cell_type": "code",
   "execution_count": 2,
   "metadata": {
    "collapsed": true
   },
   "outputs": [],
   "source": [
    "# Where is the model located?\n",
    "model_dir = Path('models/lv/lv_4hg_lr1e-3_decay10')\n",
    "\n",
    "# Where are the .tfrecords?\n",
    "infer_data_dir = Path('data/images/')\n",
    "infer_tfrecords = 'inference.tfrecords'\n",
    "\n",
    "infer_data = infer_data_dir / infer_tfrecords"
   ]
  },
  {
   "cell_type": "markdown",
   "metadata": {},
   "source": [
    "#### Are you ready?\n",
    "Run the next cell to generate predictions. These are returned as a Python dictionary containing a set of input `'images'` and their corresponding `'heatmaps'`."
   ]
  },
  {
   "cell_type": "code",
   "execution_count": 3,
   "metadata": {},
   "outputs": [
    {
     "name": "stdout",
     "output_type": "stream",
     "text": [
      "INFO:tensorflow:Using default config.\n",
      "INFO:tensorflow:Using config: {'_save_checkpoints_secs': 600, '_num_ps_replicas': 0, '_keep_checkpoint_max': 5, '_task_type': None, '_is_chief': True, '_cluster_spec': <tensorflow.python.training.server_lib.ClusterSpec object at 0x7f50b8e67cd0>, '_model_dir': 'models/lv/lv_4hg_lr1e-3_decay10', '_save_checkpoints_steps': None, '_keep_checkpoint_every_n_hours': 10000, '_session_config': None, '_tf_random_seed': None, '_environment': 'local', '_num_worker_replicas': 0, '_task_id': 0, '_save_summary_steps': 100, '_tf_config': gpu_options {\n",
      "  per_process_gpu_memory_fraction: 1.0\n",
      "}\n",
      ", '_evaluation_master': '', '_master': ''}\n",
      "INFO:tensorflow:Restoring parameters from models/lv/lv_4hg_lr1e-3_decay10/model.ckpt-840\n"
     ]
    }
   ],
   "source": [
    "# Predictions is a `dict`, containing a set of input 'images' and their corresponding 'heatmaps' and 'coordinates'\n",
    "\n",
    "import project.hourglass.params as hgparams\n",
    "\n",
    "params = {\n",
    "    hgparams.N_FEATURES: 256,\n",
    "    hgparams.N_HOURGLASS: 4,\n",
    "    hgparams.N_RESIDUALS: 3,\n",
    "}\n",
    "\n",
    "predictions = predict.predict(str(model_dir), str(infer_data), params)"
   ]
  },
  {
   "cell_type": "markdown",
   "metadata": {},
   "source": [
    "## Visualise the Results!"
   ]
  },
  {
   "cell_type": "code",
   "execution_count": 4,
   "metadata": {},
   "outputs": [
    {
     "ename": "LabellingError",
     "evalue": "Label expects exactly 38 points. However, the given pointcloud has 34 points",
     "output_type": "error",
     "traceback": [
      "\u001b[0;31m---------------------------------------------------------------------------\u001b[0m",
      "\u001b[0;31mLabellingError\u001b[0m                            Traceback (most recent call last)",
      "\u001b[0;32m<ipython-input-4-582820a4821f>\u001b[0m in \u001b[0;36m<module>\u001b[0;34m()\u001b[0m\n\u001b[1;32m      4\u001b[0m                                            show_individual_heatmaps=False)\n\u001b[1;32m      5\u001b[0m \u001b[0;34m\u001b[0m\u001b[0m\n\u001b[0;32m----> 6\u001b[0;31m \u001b[0mimages\u001b[0m \u001b[0;34m=\u001b[0m \u001b[0mmenpo\u001b[0m\u001b[0;34m.\u001b[0m\u001b[0mbase\u001b[0m\u001b[0;34m.\u001b[0m\u001b[0mLazyList\u001b[0m\u001b[0;34m.\u001b[0m\u001b[0minit_from_iterable\u001b[0m\u001b[0;34m(\u001b[0m\u001b[0mimages_generator\u001b[0m\u001b[0;34m)\u001b[0m\u001b[0;34m\u001b[0m\u001b[0m\n\u001b[0m\u001b[1;32m      7\u001b[0m \u001b[0mflatten\u001b[0m \u001b[0;34m=\u001b[0m \u001b[0;32mlambda\u001b[0m \u001b[0mlist_of_lists\u001b[0m\u001b[0;34m:\u001b[0m \u001b[0;34m[\u001b[0m\u001b[0mitem\u001b[0m \u001b[0;32mfor\u001b[0m \u001b[0msublist\u001b[0m \u001b[0;32min\u001b[0m \u001b[0mlist_of_lists\u001b[0m \u001b[0;32mfor\u001b[0m \u001b[0mitem\u001b[0m \u001b[0;32min\u001b[0m \u001b[0msublist\u001b[0m\u001b[0;34m]\u001b[0m\u001b[0;34m\u001b[0m\u001b[0m\n\u001b[1;32m      8\u001b[0m \u001b[0mimages\u001b[0m \u001b[0;34m=\u001b[0m \u001b[0mflatten\u001b[0m\u001b[0;34m(\u001b[0m\u001b[0mimages\u001b[0m\u001b[0;34m)\u001b[0m\u001b[0;34m\u001b[0m\u001b[0m\n",
      "\u001b[0;32m/media/taopan/data/develop/menpo/menpo/base.pyc\u001b[0m in \u001b[0;36minit_from_iterable\u001b[0;34m(cls, iterable, f)\u001b[0m\n\u001b[1;32m    529\u001b[0m             \u001b[0;32mdef\u001b[0m \u001b[0mf\u001b[0m\u001b[0;34m(\u001b[0m\u001b[0mi\u001b[0m\u001b[0;34m)\u001b[0m\u001b[0;34m:\u001b[0m\u001b[0;34m\u001b[0m\u001b[0m\n\u001b[1;32m    530\u001b[0m                 \u001b[0;32mreturn\u001b[0m \u001b[0mi\u001b[0m\u001b[0;34m\u001b[0m\u001b[0m\n\u001b[0;32m--> 531\u001b[0;31m         \u001b[0;32mreturn\u001b[0m \u001b[0mcls\u001b[0m\u001b[0;34m(\u001b[0m\u001b[0;34m[\u001b[0m\u001b[0mpartial\u001b[0m\u001b[0;34m(\u001b[0m\u001b[0mf\u001b[0m\u001b[0;34m,\u001b[0m \u001b[0mx\u001b[0m\u001b[0;34m)\u001b[0m \u001b[0;32mfor\u001b[0m \u001b[0mx\u001b[0m \u001b[0;32min\u001b[0m \u001b[0miterable\u001b[0m\u001b[0;34m]\u001b[0m\u001b[0;34m)\u001b[0m\u001b[0;34m\u001b[0m\u001b[0m\n\u001b[0m\u001b[1;32m    532\u001b[0m \u001b[0;34m\u001b[0m\u001b[0m\n\u001b[1;32m    533\u001b[0m     \u001b[0;34m@\u001b[0m\u001b[0mclassmethod\u001b[0m\u001b[0;34m\u001b[0m\u001b[0m\n",
      "\u001b[0;32m/media/taopan/data/landmark/00_project-master/project/utils/visualisation.pyc\u001b[0m in \u001b[0;36mcatface_predictions\u001b[0;34m(predictions, show_input_images, show_combined_heatmap, show_individual_heatmaps)\u001b[0m\n\u001b[1;32m     30\u001b[0m                                       \u001b[0mshow_combined_heatmap\u001b[0m\u001b[0;34m,\u001b[0m\u001b[0;34m\u001b[0m\u001b[0m\n\u001b[1;32m     31\u001b[0m                                       \u001b[0mshow_individual_heatmaps\u001b[0m\u001b[0;34m,\u001b[0m\u001b[0;34m\u001b[0m\u001b[0m\n\u001b[0;32m---> 32\u001b[0;31m                                       labels.catface_index_to_label)\n\u001b[0m\u001b[1;32m     33\u001b[0m \u001b[0;34m\u001b[0m\u001b[0m\n\u001b[1;32m     34\u001b[0m \u001b[0;34m\u001b[0m\u001b[0m\n",
      "\u001b[0;32m/media/taopan/data/landmark/00_project-master/project/utils/visualisation.pyc\u001b[0m in \u001b[0;36m_attach_predictions\u001b[0;34m(template_name, pixels, coordinates, heatmaps, labeller_fn, show_input_images, show_combined_heatmap, show_individual_heatmaps, index_to_label_fn)\u001b[0m\n\u001b[1;32m     64\u001b[0m     \u001b[0minput_image\u001b[0m \u001b[0;34m=\u001b[0m \u001b[0mImage\u001b[0m\u001b[0;34m.\u001b[0m\u001b[0minit_from_channels_at_back\u001b[0m\u001b[0;34m(\u001b[0m\u001b[0mpixels\u001b[0m\u001b[0;34m)\u001b[0m\u001b[0;34m\u001b[0m\u001b[0m\n\u001b[1;32m     65\u001b[0m     \u001b[0minput_image\u001b[0m\u001b[0;34m.\u001b[0m\u001b[0mlandmarks\u001b[0m\u001b[0;34m[\u001b[0m\u001b[0;34m'predictions'\u001b[0m\u001b[0;34m]\u001b[0m \u001b[0;34m=\u001b[0m \u001b[0mPointCloud\u001b[0m\u001b[0;34m(\u001b[0m\u001b[0mcoordinates\u001b[0m\u001b[0;34m)\u001b[0m\u001b[0;34m\u001b[0m\u001b[0m\n\u001b[0;32m---> 66\u001b[0;31m     \u001b[0mlabeller\u001b[0m\u001b[0;34m(\u001b[0m\u001b[0minput_image\u001b[0m\u001b[0;34m,\u001b[0m \u001b[0;34m'predictions'\u001b[0m\u001b[0;34m,\u001b[0m \u001b[0mlabeller_fn\u001b[0m\u001b[0;34m)\u001b[0m\u001b[0;34m\u001b[0m\u001b[0m\n\u001b[0m\u001b[1;32m     67\u001b[0m     \u001b[0;32mdel\u001b[0m \u001b[0minput_image\u001b[0m\u001b[0;34m.\u001b[0m\u001b[0mlandmarks\u001b[0m\u001b[0;34m[\u001b[0m\u001b[0;34m'predictions'\u001b[0m\u001b[0;34m]\u001b[0m\u001b[0;34m\u001b[0m\u001b[0m\n\u001b[1;32m     68\u001b[0m     \u001b[0mimages\u001b[0m \u001b[0;34m=\u001b[0m \u001b[0;34m[\u001b[0m\u001b[0;34m]\u001b[0m\u001b[0;34m\u001b[0m\u001b[0m\n",
      "\u001b[0;32m/media/taopan/data/develop/menpo/menpo/landmark/labels/base.pyc\u001b[0m in \u001b[0;36mlabeller\u001b[0;34m(landmarkable, group, label_func)\u001b[0m\n\u001b[1;32m    222\u001b[0m         the object will actually be modified in place)\n\u001b[1;32m    223\u001b[0m     \"\"\"\n\u001b[0;32m--> 224\u001b[0;31m     \u001b[0mnew_group\u001b[0m \u001b[0;34m=\u001b[0m \u001b[0mlabel_func\u001b[0m\u001b[0;34m(\u001b[0m\u001b[0mlandmarkable\u001b[0m\u001b[0;34m.\u001b[0m\u001b[0mlandmarks\u001b[0m\u001b[0;34m[\u001b[0m\u001b[0mgroup\u001b[0m\u001b[0;34m]\u001b[0m\u001b[0;34m)\u001b[0m\u001b[0;34m\u001b[0m\u001b[0m\n\u001b[0m\u001b[1;32m    225\u001b[0m     \u001b[0mlandmarkable\u001b[0m\u001b[0;34m.\u001b[0m\u001b[0mlandmarks\u001b[0m\u001b[0;34m[\u001b[0m\u001b[0mlabel_func\u001b[0m\u001b[0;34m.\u001b[0m\u001b[0mgroup_label\u001b[0m\u001b[0;34m]\u001b[0m \u001b[0;34m=\u001b[0m \u001b[0mnew_group\u001b[0m\u001b[0;34m\u001b[0m\u001b[0m\n\u001b[1;32m    226\u001b[0m     \u001b[0;32mreturn\u001b[0m \u001b[0mlandmarkable\u001b[0m\u001b[0;34m\u001b[0m\u001b[0m\n",
      "\u001b[0;32m/media/taopan/data/develop/menpo/menpo/landmark/labels/base.pyc\u001b[0m in \u001b[0;36mwrapper\u001b[0;34m(x, return_mapping)\u001b[0m\n\u001b[1;32m    185\u001b[0m                 \u001b[0mx\u001b[0m \u001b[0;34m=\u001b[0m \u001b[0mPointCloud\u001b[0m\u001b[0;34m(\u001b[0m\u001b[0mx\u001b[0m\u001b[0;34m,\u001b[0m \u001b[0mcopy\u001b[0m\u001b[0;34m=\u001b[0m\u001b[0mFalse\u001b[0m\u001b[0;34m)\u001b[0m\u001b[0;34m\u001b[0m\u001b[0m\n\u001b[1;32m    186\u001b[0m \u001b[0;34m\u001b[0m\u001b[0m\n\u001b[0;32m--> 187\u001b[0;31m             \u001b[0mnew_pcloud\u001b[0m\u001b[0;34m,\u001b[0m \u001b[0mmapping\u001b[0m \u001b[0;34m=\u001b[0m \u001b[0mlabelling_method\u001b[0m\u001b[0;34m(\u001b[0m\u001b[0mx\u001b[0m\u001b[0;34m)\u001b[0m\u001b[0;34m\u001b[0m\u001b[0m\n\u001b[0m\u001b[1;32m    188\u001b[0m             \u001b[0;32mif\u001b[0m \u001b[0mreturn_mapping\u001b[0m\u001b[0;34m:\u001b[0m\u001b[0;34m\u001b[0m\u001b[0m\n\u001b[1;32m    189\u001b[0m                 \u001b[0;32mreturn\u001b[0m \u001b[0mnew_pcloud\u001b[0m\u001b[0;34m,\u001b[0m \u001b[0mmapping\u001b[0m\u001b[0;34m\u001b[0m\u001b[0m\n",
      "\u001b[0;32m/media/taopan/data/landmark/00_project-master/project/utils/labeller_fn.pyc\u001b[0m in \u001b[0;36mcatface_to_catface\u001b[0;34m(pcloud)\u001b[0m\n\u001b[1;32m     86\u001b[0m \u001b[0;34m\u001b[0m\u001b[0m\n\u001b[1;32m     87\u001b[0m     \u001b[0mn_expected_points\u001b[0m \u001b[0;34m=\u001b[0m \u001b[0;36m38\u001b[0m\u001b[0;34m\u001b[0m\u001b[0m\n\u001b[0;32m---> 88\u001b[0;31m     \u001b[0mvalidate_input\u001b[0m\u001b[0;34m(\u001b[0m\u001b[0mpcloud\u001b[0m\u001b[0;34m,\u001b[0m \u001b[0mn_expected_points\u001b[0m\u001b[0;34m)\u001b[0m\u001b[0;34m\u001b[0m\u001b[0m\n\u001b[0m\u001b[1;32m     89\u001b[0m \u001b[0;34m\u001b[0m\u001b[0m\n\u001b[1;32m     90\u001b[0m     \u001b[0mmouth_indices\u001b[0m \u001b[0;34m=\u001b[0m \u001b[0mnp\u001b[0m\u001b[0;34m.\u001b[0m\u001b[0marange\u001b[0m\u001b[0;34m(\u001b[0m\u001b[0;36m0\u001b[0m\u001b[0;34m,\u001b[0m \u001b[0;36m5\u001b[0m\u001b[0;34m)\u001b[0m\u001b[0;34m\u001b[0m\u001b[0m\n",
      "\u001b[0;32m/media/taopan/data/develop/menpo/menpo/landmark/labels/base.pyc\u001b[0m in \u001b[0;36mvalidate_input\u001b[0;34m(pcloud, n_expected_points)\u001b[0m\n\u001b[1;32m     66\u001b[0m               \u001b[0;34m'points. However, the given pointcloud '\u001b[0m\u001b[0;31m \u001b[0m\u001b[0;31m\\\u001b[0m\u001b[0;34m\u001b[0m\u001b[0m\n\u001b[1;32m     67\u001b[0m               \u001b[0;34m'has {} points'\u001b[0m\u001b[0;34m.\u001b[0m\u001b[0mformat\u001b[0m\u001b[0;34m(\u001b[0m\u001b[0mn_expected_points\u001b[0m\u001b[0;34m,\u001b[0m \u001b[0mn_actual_points\u001b[0m\u001b[0;34m)\u001b[0m\u001b[0;34m\u001b[0m\u001b[0m\n\u001b[0;32m---> 68\u001b[0;31m         \u001b[0;32mraise\u001b[0m \u001b[0mLabellingError\u001b[0m\u001b[0;34m(\u001b[0m\u001b[0mmsg\u001b[0m\u001b[0;34m)\u001b[0m\u001b[0;34m\u001b[0m\u001b[0m\n\u001b[0m\u001b[1;32m     69\u001b[0m \u001b[0;34m\u001b[0m\u001b[0m\n\u001b[1;32m     70\u001b[0m \u001b[0;34m\u001b[0m\u001b[0m\n",
      "\u001b[0;31mLabellingError\u001b[0m: Label expects exactly 38 points. However, the given pointcloud has 34 points"
     ]
    }
   ],
   "source": [
    "images_generator = visualisation.lv_predictions(predictions,\n",
    "                                           show_input_images=True,\n",
    "                                           show_combined_heatmap=False,\n",
    "                                           show_individual_heatmaps=False)\n",
    "\n",
    "images = menpo.base.LazyList.init_from_iterable(images_generator)\n",
    "flatten = lambda list_of_lists: [item for sublist in list_of_lists for item in sublist]\n",
    "images = flatten(images)"
   ]
  },
  {
   "cell_type": "code",
   "execution_count": 8,
   "metadata": {},
   "outputs": [
    {
     "name": "stdout",
     "output_type": "stream",
     "text": [
      "Initializing...\n"
     ]
    },
    {
     "ename": "IndexError",
     "evalue": "list index out of range",
     "output_type": "error",
     "traceback": [
      "\u001b[1;31m---------------------------------------------------------------------------\u001b[0m",
      "\u001b[1;31mIndexError\u001b[0m                                Traceback (most recent call last)",
      "\u001b[1;32m<ipython-input-8-1f8ba6f2148b>\u001b[0m in \u001b[0;36m<module>\u001b[1;34m()\u001b[0m\n\u001b[1;32m----> 1\u001b[1;33m \u001b[0mvisualize_images\u001b[0m\u001b[1;33m(\u001b[0m\u001b[0mimages\u001b[0m\u001b[1;33m,\u001b[0m \u001b[0mbrowser_style\u001b[0m\u001b[1;33m=\u001b[0m\u001b[1;34m'buttons'\u001b[0m\u001b[1;33m)\u001b[0m\u001b[1;33m\u001b[0m\u001b[0m\n\u001b[0m",
      "\u001b[1;32mC:\\Users\\Daniel\\Anaconda3\\envs\\tf\\lib\\site-packages\\menpowidgets\\base.py\u001b[0m in \u001b[0;36mvisualize_images\u001b[1;34m(images, figure_size, browser_style, custom_info_callback)\u001b[0m\n\u001b[0;32m    581\u001b[0m \u001b[1;33m\u001b[0m\u001b[0m\n\u001b[0;32m    582\u001b[0m     \u001b[1;31m# Create widgets\u001b[0m\u001b[1;33m\u001b[0m\u001b[1;33m\u001b[0m\u001b[0m\n\u001b[1;32m--> 583\u001b[1;33m     \u001b[0mgroups_keys\u001b[0m\u001b[1;33m,\u001b[0m \u001b[0mlabels_keys\u001b[0m \u001b[1;33m=\u001b[0m \u001b[0mextract_groups_labels_from_image\u001b[0m\u001b[1;33m(\u001b[0m\u001b[0mimages\u001b[0m\u001b[1;33m[\u001b[0m\u001b[1;36m0\u001b[0m\u001b[1;33m]\u001b[0m\u001b[1;33m)\u001b[0m\u001b[1;33m\u001b[0m\u001b[0m\n\u001b[0m\u001b[0;32m    584\u001b[0m     \u001b[0mfirst_label\u001b[0m \u001b[1;33m=\u001b[0m \u001b[0mlabels_keys\u001b[0m\u001b[1;33m[\u001b[0m\u001b[1;36m0\u001b[0m\u001b[1;33m]\u001b[0m \u001b[1;32mif\u001b[0m \u001b[0mlabels_keys\u001b[0m \u001b[1;32melse\u001b[0m \u001b[1;32mNone\u001b[0m\u001b[1;33m\u001b[0m\u001b[0m\n\u001b[0;32m    585\u001b[0m     image_options_wid = ImageOptionsWidget(\n",
      "\u001b[1;31mIndexError\u001b[0m: list index out of range"
     ]
    }
   ],
   "source": [
    "visualize_images(images, browser_style='buttons')"
   ]
  },
  {
   "cell_type": "markdown",
   "metadata": {},
   "source": [
    "### Save the results!"
   ]
  },
  {
   "cell_type": "markdown",
   "metadata": {},
   "source": [
    "###### Save as .mp4"
   ]
  },
  {
   "cell_type": "code",
   "execution_count": 5,
   "metadata": {},
   "outputs": [
    {
     "name": "stdout",
     "output_type": "stream",
     "text": [
      "Exporting video to data\\tfrecords\\inference\\inference_catface_1hg_lr1e-3_decay10_train80_predictions.mp4\n",
      "Exported video to data\\tfrecords\\inference\\inference_catface_1hg_lr1e-3_decay10_train80_predictions.mp4\n"
     ]
    }
   ],
   "source": [
    "# Export as Video\n",
    "video_path = infer_data_dir / (infer_data.stem + \"_\" + model_dir.stem + \"_predictions.mp4\")\n",
    "\n",
    "print('Exporting video to {}'.format(video_path))\n",
    "\n",
    "def rasterise(image):\n",
    "    rasterised_image = image.rasterize_landmarks(group='cat')    \n",
    "    return rasterised_image\n",
    "\n",
    "# images_with_landmarks = images.map(rasterise)\n",
    "# images_with_landmarks = map(rasterise, images)\n",
    "images_with_landmarks = [rasterise(image) for image in images]\n",
    "\n",
    "mio.export_video(images_with_landmarks, video_path,\n",
    "                fps=4)\n",
    "\n",
    "print('Exported video to {}'.format(video_path))"
   ]
  },
  {
   "cell_type": "markdown",
   "metadata": {},
   "source": [
    "###### Save as pickle\n",
    "These can be reloaded for later use e.g. for fitting deformable models..."
   ]
  },
  {
   "cell_type": "code",
   "execution_count": 6,
   "metadata": {},
   "outputs": [
    {
     "name": "stdout",
     "output_type": "stream",
     "text": [
      "Saving predictions to data\\tfrecords\\inference\\inference_catface_1hg_lr1e-3_decay10_train80_predictions.pkl...\n",
      "Saved predictions to data\\tfrecords\\inference\\inference_catface_1hg_lr1e-3_decay10_train80_predictions.pkl\n"
     ]
    }
   ],
   "source": [
    "pickle_path = infer_data_dir / (infer_data.stem + \"_\" + model_dir.stem + \"_predictions.pkl\")\n",
    "print('Saving predictions to {}...'.format(pickle_path))\n",
    "\n",
    "mio.export_pickle(images, pickle_path, overwrite=True, protocol=2)\n",
    "\n",
    "print('Saved predictions to {}'.format(pickle_path))"
   ]
  }
 ],
 "metadata": {
  "kernelspec": {
   "display_name": "Python 2",
   "language": "python",
   "name": "python2"
  },
  "language_info": {
   "codemirror_mode": {
    "name": "ipython",
    "version": 2
   },
   "file_extension": ".py",
   "mimetype": "text/x-python",
   "name": "python",
   "nbconvert_exporter": "python",
   "pygments_lexer": "ipython2",
   "version": "2.7.13"
  }
 },
 "nbformat": 4,
 "nbformat_minor": 1
}
