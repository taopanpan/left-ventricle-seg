{
 "metadata": {
  "name": "",
  "signature": "sha256:6e9ebc1b3d512446a1c61e1ba0f28e8fb351d42245f94ab581fd0bd95c9a1151"
 },
 "nbformat": 3,
 "nbformat_minor": 0,
 "worksheets": [
  {
   "cells": [
    {
     "cell_type": "code",
     "collapsed": false,
     "input": [
      "%matplotlib inline\n",
      "%pylab inline"
     ],
     "language": "python",
     "metadata": {},
     "outputs": []
    },
    {
     "cell_type": "heading",
     "level": 1,
     "metadata": {},
     "source": [
      "Load test data"
     ]
    },
    {
     "cell_type": "code",
     "collapsed": false,
     "input": [
      "import menpo.io as mio\n",
      "from menpo.landmark import labeller, streetscene_car_view_1\n",
      "from menpofast.utils import convert_from_menpo\n",
      "\n",
      "path = '/data/'\n",
      "group = 'streetscene_car_view_1'\n",
      "\n",
      "test_images = []\n",
      "for i in mio.import_images(path + 'PhD/DataBases/cars/cmu_car_data1/view1/',\n",
      "                           verbose=True, max_images=None):\n",
      "    \n",
      "    # convert the image from menpo Image to menpofast Image (channels at front)\n",
      "    i = convert_from_menpo(i)\n",
      "    \n",
      "    labeller(i, 'PTS', eval(group))\n",
      "    i.crop_to_landmarks_proportion_inplace(1.5, group=group)\n",
      "    i = i.rescale_landmarks_to_diagonal_range(200, group=group)\n",
      "    \n",
      "    if i.n_channels == 3:\n",
      "        i = i.as_greyscale(mode='average')\n",
      "    test_images.append(i)"
     ],
     "language": "python",
     "metadata": {},
     "outputs": []
    },
    {
     "cell_type": "code",
     "collapsed": false,
     "input": [
      "test_images = test_images[1::2]"
     ],
     "language": "python",
     "metadata": {},
     "outputs": []
    },
    {
     "cell_type": "code",
     "collapsed": false,
     "input": [
      "from menpo.visualize import visualize_images\n",
      "\n",
      "visualize_images(test_images)"
     ],
     "language": "python",
     "metadata": {},
     "outputs": []
    },
    {
     "cell_type": "heading",
     "level": 1,
     "metadata": {},
     "source": [
      "Load models"
     ]
    },
    {
     "cell_type": "code",
     "collapsed": false,
     "input": [
      "from alabortcvpr2015.utils import pickle_load\n",
      "\n",
      "parts_aam = pickle_load(path + 'PhD/Models/parts_aam_view2_fast_dsift')\n",
      "global_aam = pickle_load(path + 'PhD/Models/global_aam_view2_fast_dsift')\n",
      "clm = pickle_load(path + 'PhD/Models/clm_view2_fast_dsift')\n",
      "parts_unified = pickle_load(path + 'PhD/Models/parts_unified_view2_fast_dsift')\n",
      "global_unified = pickle_load(path + 'PhD/Models/global_unified_view2_fast_dsift')"
     ],
     "language": "python",
     "metadata": {},
     "outputs": []
    },
    {
     "cell_type": "heading",
     "level": 1,
     "metadata": {},
     "source": [
      "Construct fitters"
     ]
    },
    {
     "cell_type": "code",
     "collapsed": false,
     "input": [
      "sampling_step = 4\n",
      "\n",
      "sampling_mask = np.require(np.zeros(parts_aam.parts_shape), dtype=np.bool)\n",
      "sampling_mask[0::sampling_step, 0::sampling_step] = True\n",
      "\n",
      "imshow(sampling_mask)"
     ],
     "language": "python",
     "metadata": {},
     "outputs": []
    },
    {
     "cell_type": "code",
     "collapsed": false,
     "input": [
      "from alabortcvpr2015.aam import PartsAAMFitter, GlobalAAMFitter, AIC, PIC\n",
      "from alabortcvpr2015.clm import CLMFitter\n",
      "from alabortcvpr2015.unified import PartsUnifiedFitter, GlobalUnifiedFitter, AICRLMS, PICRLMS\n",
      "\n",
      "n_shape = [3, 10]\n",
      "n_appearance = [25, 50]\n",
      "\n",
      "parts_aam_fitter_pic = PartsAAMFitter(parts_aam, algorithm_cls=PIC, \n",
      "                                      n_shape=n_shape, n_appearance=n_appearance, \n",
      "                                      sampling_mask=sampling_mask)\n",
      "parts_aam_fitter_aic = PartsAAMFitter(parts_aam, algorithm_cls=AIC, \n",
      "                                      n_shape=n_shape, n_appearance=n_appearance, \n",
      "                                      sampling_mask=sampling_mask)\n",
      "\n",
      "global_aam_fitter_pic = GlobalAAMFitter(global_aam, algorithm_cls=PIC, \n",
      "                                        n_shape=n_shape, n_appearance=n_appearance, \n",
      "                                        sampling_step=sampling_step)\n",
      "global_aam_fitter_aic = GlobalAAMFitter(global_aam, algorithm_cls=AIC, \n",
      "                                        n_shape=n_shape, n_appearance=n_appearance, \n",
      "                                        sampling_step=sampling_step)\n",
      "\n",
      "clm_fitter = CLMFitter(clm, n_shape=n_shape)\n",
      "\n",
      "parts_unified_fitter_pic = PartsUnifiedFitter(parts_unified, algorithm_cls=PICRLMS, \n",
      "                                              n_shape=n_shape, n_appearance=n_appearance, \n",
      "                                              sampling_mask=sampling_mask)\n",
      "parts_unified_fitter_aic = PartsUnifiedFitter(parts_unified, algorithm_cls=AICRLMS, \n",
      "                                              n_shape=n_shape, n_appearance=n_appearance, \n",
      "                                              sampling_mask=sampling_mask)\n",
      "\n",
      "global_unified_fitter_pic = GlobalUnifiedFitter(global_unified, algorithm_cls=PICRLMS, \n",
      "                                                n_shape=n_shape, n_appearance=n_appearance, \n",
      "                                                sampling_step=sampling_step)\n",
      "global_unified_fitter_aic = GlobalUnifiedFitter(global_unified, algorithm_cls=AICRLMS, \n",
      "                                                n_shape=n_shape, n_appearance=n_appearance, \n",
      "                                                sampling_step=sampling_step)"
     ],
     "language": "python",
     "metadata": {},
     "outputs": []
    },
    {
     "cell_type": "code",
     "collapsed": false,
     "input": [
      "fitters = [#parts_aam_fitter_pic, parts_aam_fitter_aic, \n",
      "           global_aam_fitter_pic, global_aam_fitter_aic,\n",
      "           clm_fitter,\n",
      "           #parts_unified_fitter_pic, parts_unified_fitter_aic,\n",
      "           global_unified_fitter_pic, global_unified_fitter_aic]"
     ],
     "language": "python",
     "metadata": {},
     "outputs": []
    },
    {
     "cell_type": "code",
     "collapsed": false,
     "input": [
      "repeat = 1\n",
      "\n",
      "results = [[], [], [], [], []]\n",
      "\n",
      "for seed in xrange(repeat):\n",
      "    \n",
      "    np.random.seed(seed=seed)\n",
      "\n",
      "    for j, i in enumerate(test_images):\n",
      "\n",
      "        gt_s = i.landmarks[group].lms\n",
      "        s = fitters[0].perturb_shape(gt_s, noise_std=0.05)\n",
      "        \n",
      "        for k, fitter in enumerate(fitters[-2:]):\n",
      "\n",
      "            fr = fitter.fit(i, s, gt_shape=gt_s, max_iters=20, prior=False, a=0.7)\n",
      "\n",
      "            results[k].append(fr)\n",
      "            fr.downscale = 0.5\n",
      "\n",
      "            print 'Image: ', j\n",
      "            print fr"
     ],
     "language": "python",
     "metadata": {},
     "outputs": []
    },
    {
     "cell_type": "heading",
     "level": 3,
     "metadata": {},
     "source": [
      "Explore results"
     ]
    },
    {
     "cell_type": "code",
     "collapsed": false,
     "input": [
      "initial_errors = [fr.initial_error() for fr in results[0]]\n",
      "\n",
      "final_errors = []\n",
      "for fitter_results in results:\n",
      "    final_errors.append([fr.final_error() for fr in fitter_results])\n",
      "    \n",
      "errors = [initial_errors] + final_errors"
     ],
     "language": "python",
     "metadata": {},
     "outputs": []
    },
    {
     "cell_type": "code",
     "collapsed": false,
     "input": [
      "from menpofit.visualize import plot_ced\n",
      "\n",
      "legend_entries = ['Initial',\n",
      "                  #'Parts-AAM-PIC',\n",
      "                  #'Parts-AAM-AIC',\n",
      "                  'Global-AAM-PIC',\n",
      "                  'Global-AAM-AIC',\n",
      "                  'CLM-RLMS',\n",
      "                  #'Parts-UNI-PIC-RLMS',\n",
      "                  #'Parts-UNI-AIC-RLMS',\n",
      "                  'Global-UNI-PIC-RLMS',\n",
      "                  'Global-UNI-AIC-RLMS']\n",
      "\n",
      "plot_ced(errors, legend_entries=legend_entries)"
     ],
     "language": "python",
     "metadata": {},
     "outputs": []
    },
    {
     "cell_type": "code",
     "collapsed": false,
     "input": [
      "from menpofit.visualize import visualize_fitting_results\n",
      "\n",
      "visualize_fitting_results(results[0], color='r', linewidth=2)"
     ],
     "language": "python",
     "metadata": {},
     "outputs": []
    },
    {
     "cell_type": "heading",
     "level": 3,
     "metadata": {},
     "source": [
      "Run time"
     ]
    },
    {
     "cell_type": "code",
     "collapsed": false,
     "input": [
      "for (fitter, entry) in zip(fitters, legend_entries[1:]):\n",
      "    \n",
      "    print entry, ': '\n",
      "    \n",
      "    %time fitter.fit(i, s, gt_shape=gt_s, max_iters=20, prior=False)\n",
      "    \n",
      "    print "
     ],
     "language": "python",
     "metadata": {},
     "outputs": []
    },
    {
     "cell_type": "code",
     "collapsed": false,
     "input": [],
     "language": "python",
     "metadata": {},
     "outputs": []
    }
   ],
   "metadata": {}
  }
 ]
}