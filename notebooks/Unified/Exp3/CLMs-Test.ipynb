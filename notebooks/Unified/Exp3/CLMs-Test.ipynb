{
 "metadata": {
  "name": "",
  "signature": "sha256:112f2bfff38dde055b8c730fed61e049e44fa41941515c0e26967a85c6c1f99e"
 },
 "nbformat": 3,
 "nbformat_minor": 0,
 "worksheets": [
  {
   "cells": [
    {
     "cell_type": "code",
     "collapsed": false,
     "input": [
      "%matplotlib inline\n",
      "%pylab inline"
     ],
     "language": "python",
     "metadata": {},
     "outputs": []
    },
    {
     "cell_type": "code",
     "collapsed": false,
     "input": [
      "repeat = 1"
     ],
     "language": "python",
     "metadata": {},
     "outputs": []
    },
    {
     "cell_type": "heading",
     "level": 1,
     "metadata": {},
     "source": [
      "Load test data"
     ]
    },
    {
     "cell_type": "code",
     "collapsed": false,
     "input": [
      "import menpo.io as mio\n",
      "from menpo.landmark import labeller, lfpw_face\n",
      "from menpofast.utils import convert_from_menpo\n",
      "\n",
      "path = '/data/'\n",
      "group = 'lfpw_face'\n",
      "\n",
      "test_images = []\n",
      "for i in mio.import_images(path + 'PhD/DataBases/faces/cofw/testset/', verbose=True, \n",
      "                           max_images=None):\n",
      "    \n",
      "    # convert the image from menpo Image to menpofast Image (channels at front)\n",
      "    i = convert_from_menpo(i)\n",
      "    \n",
      "    labeller(i, 'PTS', eval(group))\n",
      "    i.crop_to_landmarks_proportion_inplace(0.5, group='PTS')\n",
      "    i = i.rescale_landmarks_to_diagonal_range(200, group=group)\n",
      "    \n",
      "    if i.n_channels == 3:\n",
      "        i = i.as_greyscale(mode='average')\n",
      "    test_images.append(i)"
     ],
     "language": "python",
     "metadata": {},
     "outputs": []
    },
    {
     "cell_type": "code",
     "collapsed": false,
     "input": [
      "from menpo.visualize import visualize_images\n",
      "\n",
      "visualize_images(test_images)"
     ],
     "language": "python",
     "metadata": {},
     "outputs": []
    },
    {
     "cell_type": "heading",
     "level": 1,
     "metadata": {},
     "source": [
      "CLMs"
     ]
    },
    {
     "cell_type": "heading",
     "level": 3,
     "metadata": {},
     "source": [
      "Load"
     ]
    },
    {
     "cell_type": "code",
     "collapsed": false,
     "input": [
      "from alabortcvpr2015.utils import pickle_load\n",
      "\n",
      "clm = pickle_load(path + 'PhD/Models/clm_cofw_fast_dsift')"
     ],
     "language": "python",
     "metadata": {},
     "outputs": []
    },
    {
     "cell_type": "heading",
     "level": 2,
     "metadata": {},
     "source": [
      "RLMS"
     ]
    },
    {
     "cell_type": "code",
     "collapsed": false,
     "input": [
      "from alabortcvpr2015.clm import CLMFitter, RLMS\n",
      "from alabortcvpr2015.utils import pickle_dump\n",
      "from alabortcvpr2015.result import SerializableResult\n",
      "\n",
      "\n",
      "fitter = CLMFitter(clm, algorithm_cls=RLMS, n_shape=[3, 12])\n",
      "\n",
      "fitter_results = []\n",
      "\n",
      "for seed in xrange(repeat):\n",
      "    \n",
      "    np.random.seed(seed=seed)\n",
      "\n",
      "    for j, i in enumerate(test_images):\n",
      "    \n",
      "\n",
      "        gt_s = i.landmarks[group].lms\n",
      "        s = fitter.perturb_shape(gt_s, noise_std=0.05)\n",
      "\n",
      "        fr = fitter.fit(i, s, gt_shape=gt_s, max_iters=20, prior=False)\n",
      "\n",
      "        fitter_results.append(fr)\n",
      "        fr.downscale = 0.5\n",
      "\n",
      "        print 'Image: ', j\n",
      "        print fr\n",
      "        \n",
      "results = [SerializableResult('none', fr.shapes(), fr.n_iters, 'RLMS', fr.gt_shape) \n",
      "           for fr in fitter_results]\n",
      "\n",
      "pickle_dump(results, path + 'PhD/Results/clm_rlms_cofw_fast_dsift')"
     ],
     "language": "python",
     "metadata": {},
     "outputs": []
    },
    {
     "cell_type": "heading",
     "level": 3,
     "metadata": {},
     "source": [
      "Visualize Results"
     ]
    },
    {
     "cell_type": "code",
     "collapsed": false,
     "input": [
      "np.mean([fr.final_error(error_type='rmse') for fr in fitter_results])"
     ],
     "language": "python",
     "metadata": {},
     "outputs": []
    },
    {
     "cell_type": "code",
     "collapsed": false,
     "input": [
      "from menpofit.visualize import visualize_fitting_results\n",
      "    \n",
      "visualize_fitting_results(fitter_results)"
     ],
     "language": "python",
     "metadata": {},
     "outputs": []
    }
   ],
   "metadata": {}
  }
 ]
}