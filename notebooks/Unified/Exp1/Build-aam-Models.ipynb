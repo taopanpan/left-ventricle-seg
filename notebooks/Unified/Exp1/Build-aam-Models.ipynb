{
 "cells": [
  {
   "cell_type": "markdown",
   "metadata": {},
   "source": [
    "# Load training data"
   ]
  },
  {
   "cell_type": "code",
   "execution_count": null,
   "metadata": {
    "collapsed": true
   },
   "outputs": [],
   "source": [
    "%matplotlib inline\n",
    "%pylab inline"
   ]
  },
  {
   "cell_type": "code",
   "execution_count": 6,
   "metadata": {},
   "outputs": [
    {
     "name": "stdout",
     "output_type": "stream",
     "text": [
      "Populating the interactive namespace from numpy and matplotlib\n"
     ]
    },
    {
     "name": "stderr",
     "output_type": "stream",
     "text": [
      "C:\\Anaconda2\\envs\\menpodev\\lib\\site-packages\\IPython\\core\\magics\\pylab.py:161: UserWarning: pylab import has clobbered these variables: ['style', 'diagonal', 'gradient']\n",
      "`%matplotlib` prevents importing * from pylab and numpy\n",
      "  \"\\n`%matplotlib` prevents importing * from pylab and numpy\"\n"
     ]
    }
   ],
   "source": [
    "import os\n",
    "os.chdir('../..')\n",
    "sys.path.append('../..')\n",
    "sys.path.insert('I:/menpo/project_lv')\n",
    "import menpo.io as mio\n",
    "from menpo.landmark import labeller, left_ventricle_34,left_ventricle_34_trimesh,left_ventricle_34_trimesh1\n",
    "from menpofit.aam import HolisticAAM,PatchAAM\n",
    "from menpo.transform import ThinPlateSplines\n",
    "from menpo.feature import *\n",
    "from menpofit.aam import LucasKanadeAAMFitter, WibergInverseCompositional\n",
    "from menpofit.fitter import noisy_shape_from_bounding_box\n",
    "from menpofit.visualize import plot_cumulative_error_distribution\n",
    "from menpowidgets import *\n",
    "from menpodetect import load_dlib_left_ventricle_detector\n",
    "from menpo.io import export_pickle,import_pickle\n",
    "from pathlib import Path\n",
    "\n",
    "# method to load a database\n",
    "def load_database(path_to_images, crop_percentage,max_diagonal=400, max_images=None):\n",
    "    images = []\n",
    "    # load landmarked images\n",
    "    for i in mio.import_images(path_to_images, max_images=max_images, verbose=True):\n",
    "           \n",
    "        # convert it to grayscale if needed\n",
    "        if i.n_channels == 3:\n",
    "            i = i.as_greyscale(mode='luminosity')\n",
    "        # crop image\n",
    "        i = i.crop_to_landmarks_proportion(crop_percentage)\n",
    "        \n",
    "        d = i.diagonal()\n",
    "        if d > max_diagonal:\n",
    "            i = i.rescale(float(max_diagonal) / d)\n",
    "        # define a TriMesh which will be useful for Piecewise Affine Warp of HolisticAAM\n",
    "        \n",
    "        labeller(i, 'PTS', left_ventricle_34)#lv_34_trimesh\n",
    "        labeller(i, 'PTS', left_ventricle_34_trimesh1)\n",
    "        labeller(i, 'PTS', left_ventricle_34_trimesh)\n",
    "        \n",
    "        # append it to the list\n",
    "        images.append(i)\n",
    "    return images"
   ]
  },
  {
   "cell_type": "code",
   "execution_count": 2,
   "metadata": {},
   "outputs": [
    {
     "name": "stdout",
     "output_type": "stream",
     "text": [
      "Found 4240 assets, index the returned LazyList to import.\n"
     ]
    }
   ],
   "source": [
    "path_to_lfpw = Path('K:/datasets/lv_pts_crop/')\n",
    "crop_percentage = 0.5\n",
    "max_images =4240\n",
    "train_images = load_database(path_to_lfpw/ 'trainset',crop_percentage,max_images=max_images)\n",
    "\n",
    "#visualize_images(training_images)"
   ]
  },
  {
   "cell_type": "markdown",
   "metadata": {},
   "source": [
    "# Active Appearance Models"
   ]
  },
  {
   "cell_type": "markdown",
   "metadata": {},
   "source": [
    "## Training Parameters"
   ]
  },
  {
   "cell_type": "code",
   "execution_count": 3,
   "metadata": {
    "collapsed": true
   },
   "outputs": [],
   "source": [
    "from menpo.feature import no_op, fast_dsift\n",
    "\n",
    "group = 'lv_34'\n",
    "features = no_op\n",
    "patch_shape = (17, 17)\n",
    "diagonal = 100\n",
    "scales = (1, .5)\n",
    "max_shape_components = 25\n",
    "max_appearance_components = 250\n",
    "normalize_parts = False"
   ]
  },
  {
   "cell_type": "markdown",
   "metadata": {},
   "source": [
    "## Global PWA"
   ]
  },
  {
   "cell_type": "code",
   "execution_count": 7,
   "metadata": {},
   "outputs": [
    {
     "ename": "ImportError",
     "evalue": "No module named alabortijcv2015.aam",
     "output_type": "error",
     "traceback": [
      "\u001b[1;31m---------------------------------------------------------------------------\u001b[0m",
      "\u001b[1;31mImportError\u001b[0m                               Traceback (most recent call last)",
      "\u001b[1;32m<ipython-input-7-afc830d23fe5>\u001b[0m in \u001b[0;36m<module>\u001b[1;34m()\u001b[0m\n\u001b[0;32m      1\u001b[0m \u001b[1;32mfrom\u001b[0m \u001b[0mmenpofit\u001b[0m\u001b[1;33m.\u001b[0m\u001b[0mtransform\u001b[0m \u001b[1;32mimport\u001b[0m \u001b[0mDifferentiablePiecewiseAffine\u001b[0m\u001b[1;33m\u001b[0m\u001b[0m\n\u001b[1;32m----> 2\u001b[1;33m \u001b[1;32mfrom\u001b[0m \u001b[0malabortijcv2015\u001b[0m\u001b[1;33m.\u001b[0m\u001b[0maam\u001b[0m \u001b[1;32mimport\u001b[0m \u001b[0mGlobalAAMBuilder\u001b[0m\u001b[1;33m\u001b[0m\u001b[0m\n\u001b[0m\u001b[0;32m      3\u001b[0m \u001b[1;32mfrom\u001b[0m \u001b[0malabortijcv2015\u001b[0m\u001b[1;33m.\u001b[0m\u001b[0mutils\u001b[0m \u001b[1;32mimport\u001b[0m \u001b[0mpickle_dump\u001b[0m\u001b[1;33m\u001b[0m\u001b[0m\n\u001b[0;32m      4\u001b[0m \u001b[1;33m\u001b[0m\u001b[0m\n\u001b[0;32m      5\u001b[0m \u001b[0maam_path\u001b[0m \u001b[1;33m=\u001b[0m \u001b[0mPath\u001b[0m\u001b[1;33m(\u001b[0m\u001b[1;34m'data/deformable/model/no-op-PWA-aam.pkl'\u001b[0m\u001b[1;33m)\u001b[0m\u001b[1;33m\u001b[0m\u001b[0m\n",
      "\u001b[1;31mImportError\u001b[0m: No module named alabortijcv2015.aam"
     ]
    }
   ],
   "source": [
    "from menpofit.transform import DifferentiablePiecewiseAffine\n",
    "from alabortijcv2015.aam import GlobalAAMBuilder\n",
    "from alabortijcv2015.utils import pickle_dump\n",
    "\n",
    "aam_path = Path('data/deformable/model/no-op-PWA-aam.pkl')\n",
    "if aam_path.exists():\n",
    "    aam= mio.import_pickle(aam_path)\n",
    "    print 'load Done'\n",
    "else:\n",
    "    aam = GlobalAAMBuilder(transform=DifferentiablePiecewiseAffine,\n",
    "                       features=features,\n",
    "                       diagonal=diagonal,\n",
    "                       scales=scales,\n",
    "                       max_shape_components=max_shape_components,\n",
    "                       max_appearance_components=max_appearance_components).build(training_images,\n",
    "                                                                                  group=group,verbose=True)\n",
    "    mio.export_pickle(aam,aam_path, overwrite=True, protocol=2) \n",
    "    print 'train Done'"
   ]
  },
  {
   "cell_type": "markdown",
   "metadata": {},
   "source": [
    "## Global TPS"
   ]
  },
  {
   "cell_type": "code",
   "execution_count": null,
   "metadata": {
    "collapsed": true
   },
   "outputs": [],
   "source": [
    "from menpofit.transform import DifferentiableThinPlateSplines\n",
    "from alabortijcv2015.aam import GlobalAAMBuilder\n",
    " \n",
    "aam_path = Path('data/deformable/model/no-op-TPS-aam.pkl')\n",
    "if aam_path.exists():\n",
    "    aam= mio.import_pickle(aam_path)\n",
    "    print 'load Done'\n",
    "else:\n",
    "    aam = GlobalAAMBuilder(transform=DifferentiableThinPlateSplines,\n",
    "                       features=features,\n",
    "                       diagonal=diagonal,\n",
    "                       scales=scales,\n",
    "                       max_shape_components=max_shape_components,\n",
    "                       max_appearance_components=max_appearance_components).build(training_images,\n",
    "                                                                                  group=group,\n",
    "                                                                                  verbose=True)\n",
    "    print 'train Done'   "
   ]
  },
  {
   "cell_type": "markdown",
   "metadata": {},
   "source": [
    "## Patch"
   ]
  },
  {
   "cell_type": "code",
   "execution_count": null,
   "metadata": {
    "collapsed": true
   },
   "outputs": [],
   "source": [
    "from alabortijcv2015.aam import PatchAAMBuilder \n",
    "\n",
    "aam_path = Path('data/deformable/model/no-op-patch-aam.pkl')\n",
    "if aam_path.exists():\n",
    "    aam= mio.import_pickle(aam_path)\n",
    "    print 'load Done'\n",
    "else: \n",
    "    aam = PatchAAMBuilder(patch_shape=patch_shape,\n",
    "                      features=features,\n",
    "                      diagonal=diagonal,\n",
    "                      scales=scales,\n",
    "                      max_shape_components=max_shape_components,\n",
    "                      max_appearance_components=max_appearance_components).build(training_images,\n",
    "                                                                                 group=group,\n",
    "                                                                                 verbose=True)\n",
    "      print 'train Done'"
   ]
  },
  {
   "cell_type": "markdown",
   "metadata": {},
   "source": [
    "## Linear Global PWA"
   ]
  },
  {
   "cell_type": "code",
   "execution_count": null,
   "metadata": {
    "collapsed": true
   },
   "outputs": [],
   "source": [
    "from menpofit.transform import DifferentiablePiecewiseAffine\n",
    "from alabortijcv2015.aam import LinearGlobalAAMBuilder\n",
    " \n",
    "aam_path = Path('data/deformable/model/no-op-PWA-linear-aam.pkl')\n",
    "if aam_path.exists():\n",
    "    aam= mio.import_pickle(aam_path)\n",
    "    print 'load Done'\n",
    "else:    \n",
    "    aam = LinearGlobalAAMBuilder(transform=DifferentiablePiecewiseAffine,\n",
    "                             features=features,\n",
    "                             diagonal=diagonal,\n",
    "                             scales=scales,\n",
    "                             max_shape_components=max_shape_components,\n",
    "                             max_appearance_components=max_appearance_components).build(training_images,\n",
    "                                                                                        group=group,\n",
    "                                                                                        verbose=True)\n",
    "    print 'train Done'"
   ]
  },
  {
   "cell_type": "markdown",
   "metadata": {},
   "source": [
    "## Linear Global TPS"
   ]
  },
  {
   "cell_type": "code",
   "execution_count": null,
   "metadata": {
    "collapsed": true
   },
   "outputs": [],
   "source": [
    "from menpofit.transform import DifferentiableThinPlateSplines\n",
    "from alabortijcv2015.aam import LinearGlobalAAMBuilder\n",
    "\n",
    "aam_path = Path('data/deformable/model/no-op-TPS-linear-aam.pkl')\n",
    "if aam_path.exists():\n",
    "    aam= mio.import_pickle(aam_path)\n",
    "    print 'load Done'\n",
    "else:  \n",
    "    aam = LinearGlobalAAMBuilder(transform=DifferentiableThinPlateSplines,\n",
    "                             features=features,\n",
    "                             diagonal=diagonal,\n",
    "                             scales=scales,\n",
    "                             max_shape_components=max_shape_components,\n",
    "                             max_appearance_components=max_appearance_components).build(training_images,\n",
    "                                                                                        group=group,\n",
    "                                                                                        verbose=True)\n",
    "    print 'train Done'"
   ]
  },
  {
   "cell_type": "markdown",
   "metadata": {},
   "source": [
    "## Linear Patch"
   ]
  },
  {
   "cell_type": "code",
   "execution_count": null,
   "metadata": {
    "collapsed": true
   },
   "outputs": [],
   "source": [
    "from alabortijcv2015.aam import LinearPatchAAMBuilder\n",
    "from alabortijcv2015.utils import pickle_dump\n",
    "\n",
    "aam_path = Path('data/deformable/model/no-op-patch-linear-aam.pkl')\n",
    "if aam_path.exists():\n",
    "    aam= mio.import_pickle(aam_path)\n",
    "    print 'load Done'\n",
    "else:     \n",
    "    aam = LinearPatchAAMBuilder(patch_shape=patch_shape,\n",
    "                            features=features,\n",
    "                            diagonal=diagonal,\n",
    "                            scales=scales,\n",
    "                            max_shape_components=max_shape_components,\n",
    "                            max_appearance_components=max_appearance_components).build(training_images,\n",
    "                                                                                       group=group,\n",
    "                                                                                       verbose=True)\n",
    "    print 'train Done'"
   ]
  },
  {
   "cell_type": "markdown",
   "metadata": {},
   "source": [
    "## Parts"
   ]
  },
  {
   "cell_type": "code",
   "execution_count": null,
   "metadata": {
    "collapsed": true
   },
   "outputs": [],
   "source": [
    "from alabortijcv2015.aam import PartsAAMBuilder\n",
    "\n",
    "aam_path = Path('data/deformable/model/no-op-parts-aam.pkl')\n",
    "if aam_path.exists():\n",
    "    aam= mio.import_pickle(aam_path)\n",
    "    print 'load Done'\n",
    "else: \n",
    "    aam = PartsAAMBuilder(parts_shape=patch_shape,\n",
    "                     features=features,\n",
    "                     diagonal=diagonal,\n",
    "                     normalize_parts=normalize_parts,\n",
    "                     scales=scales,\n",
    "                     max_shape_components=max_shape_components,\n",
    "                     max_appearance_components=max_appearance_components).build(training_images,\n",
    "                                                                                group=group,\n",
    "                                                                                verbose=True)\n",
    "    print 'train Done'"
   ]
  }
 ],
 "metadata": {
  "kernelspec": {
   "display_name": "Python 3",
   "language": "python",
   "name": "python3"
  },
  "language_info": {
   "codemirror_mode": {
    "name": "ipython",
    "version": 3
   },
   "file_extension": ".py",
   "mimetype": "text/x-python",
   "name": "python",
   "nbconvert_exporter": "python",
   "pygments_lexer": "ipython3",
   "version": "3.5.2"
  }
 },
 "nbformat": 4,
 "nbformat_minor": 1
}
