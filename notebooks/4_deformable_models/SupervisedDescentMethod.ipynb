{
 "cells": [
  {
   "cell_type": "markdown",
   "metadata": {},
   "source": [
    "# Supervised Descent Method - Basics\n",
    "The aim of this notebook is to showcase how one can build and fit SDMs to images using `Menpo`.\n",
    "\n",
    "Note that this notebook assumes that the user has previously gone through the AAMs Basics notebook and he/she is already familiar with the basics of `Menpo`'s Deformable Model Fitting framework explained in there."
   ]
  },
  {
   "cell_type": "markdown",
   "metadata": {},
   "source": [
    "## 1. Loading data"
   ]
  },
  {
   "cell_type": "markdown",
   "metadata": {},
   "source": [
    "In this notebook, we will use the training and test sets of the LFPW database for the training and fitting SDMs.\n",
    "\n",
    "Note that the necessary steps required for acquiring the LFPW database are explained in detail in the AAMs Basics notebook and the user is simply referred to that notebook for this matter."
   ]
  },
  {
   "cell_type": "code",
   "execution_count": 1,
   "metadata": {},
   "outputs": [],
   "source": [
    "%matplotlib inline\n",
    "from pathlib import Path\n",
    "\n",
    "\n",
    "path_to_lfpw = Path('K:/datasets/pts/')"
   ]
  },
  {
   "cell_type": "code",
   "execution_count": 2,
   "metadata": {},
   "outputs": [
    {
     "name": "stdout",
     "output_type": "stream",
     "text": [
      "Found 66 assets, index the returned LazyList to import.\n"
     ]
    }
   ],
   "source": [
    "import menpo.io as mio\n",
    "\n",
    "training_images = []\n",
    "# load landmarked images\n",
    "for i in mio.import_images(path_to_lfpw / 'trainset', verbose=True):\n",
    "    # crop image\n",
    "    i = i.crop_to_landmarks_proportion(0.5)\n",
    "    # convert it to grayscale if needed\n",
    "    if i.n_channels == 3:\n",
    "        i = i.as_greyscale(mode='luminosity')\n",
    "    # append it to the list\n",
    "    training_images.append(i)"
   ]
  },
  {
   "cell_type": "code",
   "execution_count": null,
   "metadata": {},
   "outputs": [],
   "source": [
    "from menpowidgets import visualize_images\n",
    "\n",
    "visualize_images(training_images)"
   ]
  },
  {
   "cell_type": "markdown",
   "metadata": {},
   "source": [
    "## 2. Train a SDM with default parameters"
   ]
  },
  {
   "cell_type": "markdown",
   "metadata": {},
   "source": [
    "Trainign an SDM using `Menpo` is rather straight forward and can be done using a single line of code.\n",
    "As expected, the SDM training takes some time."
   ]
  },
  {
   "cell_type": "code",
   "execution_count": null,
   "metadata": {},
   "outputs": [
    {
     "name": "stdout",
     "output_type": "stream",
     "text": [
      "- Computing reference shape                                                     Computing batch 0\n",
      "- Generating 30 new bounding boxes directly from the ground truth shape: [==========] 100% (66/66) - done.\n",
      "  - Scale 0: (Iteration 0) - Performing regression                              "
     ]
    }
   ],
   "source": [
    "from menpofit.sdm import RegularizedSDM\n",
    "# Note that we use fast dense sift features\n",
    "# and thus cyvlfeat must be installed (use conda)\n",
    "from menpo.feature import *\n",
    "\n",
    "fitter = RegularizedSDM(\n",
    "    training_images, \n",
    "    verbose=True,\n",
    "    group='PTS',\n",
    "    diagonal=200,\n",
    "    n_perturbations=30,\n",
    "    n_iterations=5,\n",
    "    patch_features=igo,\n",
    "    patch_shape=(24, 24),\n",
    "    alpha=10\n",
    ")"
   ]
  },
  {
   "cell_type": "code",
   "execution_count": null,
   "metadata": {},
   "outputs": [],
   "source": [
    "print(fitter)"
   ]
  },
  {
   "cell_type": "markdown",
   "metadata": {},
   "source": [
    "## 3. Fit the previous SDM"
   ]
  },
  {
   "cell_type": "markdown",
   "metadata": {},
   "source": [
    "Let's try fitting the SDM to some images of the LFPW database test set!!!"
   ]
  },
  {
   "cell_type": "code",
   "execution_count": null,
   "metadata": {},
   "outputs": [],
   "source": [
    "import menpo.io as mio\n",
    "\n",
    "# load test images\n",
    "test_images = []\n",
    "for i in mio.import_images(path_to_lfpw / 'testset' / '*.jpg', max_images=19, verbose=True):\n",
    "    # crop image\n",
    "    i = i.crop_to_landmarks_proportion(0.5)\n",
    "    # convert it to grayscale if needed\n",
    "    if i.n_channels == 3:\n",
    "        i = i.as_greyscale(mode='luminosity')\n",
    "    # append it to the list\n",
    "    test_images.append(i)"
   ]
  },
  {
   "cell_type": "markdown",
   "metadata": {},
   "source": [
    "Note that for the purpose of this simple fitting demonstration we will just fit the first 5 images of the LFPW test set.\n",
    "\n",
    "Fitting a SDM to an image is as simple as calling its `fit` method:"
   ]
  },
  {
   "cell_type": "code",
   "execution_count": null,
   "metadata": {},
   "outputs": [],
   "source": [
    "from menpofit.fitter import noisy_shape_from_bounding_box\n",
    "\n",
    "fitting_results = []\n",
    "\n",
    "for i in test_images:\n",
    "    gt_s = i.landmarks['PTS'].lms\n",
    "    # generate perturbed landmarks\n",
    "    bb = noisy_shape_from_bounding_box(fitter.reference_shape.bounding_box(), \n",
    "                                       gt_s.bounding_box())\n",
    "    # fit image\n",
    "    fr = fitter.fit_from_bb(i, bb, gt_shape=gt_s) \n",
    "    fitting_results.append(fr)\n",
    "\n",
    "    # print fitting error\n",
    "    print(fr)"
   ]
  },
  {
   "cell_type": "code",
   "execution_count": null,
   "metadata": {},
   "outputs": [],
   "source": [
    "from menpowidgets import visualize_fitting_result\n",
    "\n",
    "visualize_fitting_result(fitting_results)"
   ]
  },
  {
   "cell_type": "code",
   "execution_count": null,
   "metadata": {
    "collapsed": true
   },
   "outputs": [],
   "source": []
  }
 ],
 "metadata": {
  "kernelspec": {
   "display_name": "Python 3",
   "language": "python",
   "name": "python3"
  },
  "language_info": {
   "codemirror_mode": {
    "name": "ipython",
    "version": 3
   },
   "file_extension": ".py",
   "mimetype": "text/x-python",
   "name": "python",
   "nbconvert_exporter": "python",
   "pygments_lexer": "ipython3",
   "version": "3.5.2"
  }
 },
 "nbformat": 4,
 "nbformat_minor": 1
}
