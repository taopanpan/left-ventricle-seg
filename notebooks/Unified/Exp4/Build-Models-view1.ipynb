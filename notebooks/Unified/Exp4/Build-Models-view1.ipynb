{
 "metadata": {
  "name": "",
  "signature": "sha256:b0d329c5c4d42711656975ec4799e8552ff594a233f2749089d1de3885b2c4eb"
 },
 "nbformat": 3,
 "nbformat_minor": 0,
 "worksheets": [
  {
   "cells": [
    {
     "cell_type": "code",
     "collapsed": false,
     "input": [
      "%matplotlib inline\n",
      "%pylab inline"
     ],
     "language": "python",
     "metadata": {},
     "outputs": []
    },
    {
     "cell_type": "heading",
     "level": 1,
     "metadata": {},
     "source": [
      "Load training data"
     ]
    },
    {
     "cell_type": "code",
     "collapsed": false,
     "input": [
      "import menpo.io as mio\n",
      "from menpo.landmark import labeller, streetscene_car_view_1\n",
      "from menpofast.utils import convert_from_menpo\n",
      "\n",
      "path = '/data/'\n",
      "group = 'streetscene_car_view_1'\n",
      "\n",
      "training_images = []\n",
      "for i in mio.import_images(path + 'PhD/DataBases/cars/cmu_car_data1/view1/',\n",
      "                           verbose=True, max_images=None):\n",
      "    \n",
      "    # convert the image from menpo Image to menpofast Image (channels at front)\n",
      "    i = convert_from_menpo(i)\n",
      "    \n",
      "    labeller(i, 'PTS', eval(group))\n",
      "    i.crop_to_landmarks_proportion_inplace(1.5, group=group)\n",
      "    i = i.rescale_landmarks_to_diagonal_range(200, group=group)\n",
      "    \n",
      "    if i.n_channels == 3:\n",
      "        i = i.as_greyscale(mode='average')\n",
      "    training_images.append(i)"
     ],
     "language": "python",
     "metadata": {},
     "outputs": []
    },
    {
     "cell_type": "code",
     "collapsed": false,
     "input": [
      "training_images = training_images[::2]"
     ],
     "language": "python",
     "metadata": {},
     "outputs": []
    },
    {
     "cell_type": "code",
     "collapsed": false,
     "input": [
      "from menpo.visualize import visualize_images\n",
      "\n",
      "visualize_images(training_images)"
     ],
     "language": "python",
     "metadata": {},
     "outputs": []
    },
    {
     "cell_type": "code",
     "collapsed": false,
     "input": [
      "img = training_images[0].copy()\n",
      "img = img.rescale_to_diagonal(50)\n",
      "img = img.as_masked()\n",
      "img.build_mask_around_landmarks((15, 15), group=group)\n",
      "img.view_widget()"
     ],
     "language": "python",
     "metadata": {},
     "outputs": []
    },
    {
     "cell_type": "code",
     "collapsed": false,
     "input": [
      "img2 = img.copy()\n",
      "img2 = img2.rescale(0.5)\n",
      "img2 = img2.as_masked()\n",
      "img2.build_mask_around_landmarks((15, 15), group=group)\n",
      "img2.view_widget()"
     ],
     "language": "python",
     "metadata": {},
     "outputs": []
    },
    {
     "cell_type": "heading",
     "level": 1,
     "metadata": {},
     "source": [
      "Building options"
     ]
    },
    {
     "cell_type": "code",
     "collapsed": false,
     "input": [
      "from menpofast.feature import no_op, fast_dsift\n",
      "\n",
      "parts_shape = (15, 15)\n",
      "features = fast_dsift\n",
      "diagonal = 50\n",
      "normalize_parts = False\n",
      "covariance = 3\n",
      "scales = (1, .5)\n",
      "max_shape_components = 25\n",
      "max_appearance_components = 500"
     ],
     "language": "python",
     "metadata": {},
     "outputs": []
    },
    {
     "cell_type": "heading",
     "level": 1,
     "metadata": {},
     "source": [
      "Active Appearance Models"
     ]
    },
    {
     "cell_type": "heading",
     "level": 2,
     "metadata": {},
     "source": [
      "Parts"
     ]
    },
    {
     "cell_type": "heading",
     "level": 3,
     "metadata": {},
     "source": [
      "Build"
     ]
    },
    {
     "cell_type": "code",
     "collapsed": false,
     "input": [
      "from alabortcvpr2015.aam import PartsAAMBuilder\n",
      "\n",
      "parts_aam = PartsAAMBuilder(\n",
      "    parts_shape=parts_shape,\n",
      "    features=features,\n",
      "    diagonal=diagonal,\n",
      "    normalize_parts=normalize_parts,\n",
      "    scales=scales,\n",
      "    max_shape_components=max_shape_components,\n",
      "    max_appearance_components=max_appearance_components).build(training_images,\n",
      "                                                               group=group,\n",
      "                                                               verbose=True)"
     ],
     "language": "python",
     "metadata": {},
     "outputs": []
    },
    {
     "cell_type": "code",
     "collapsed": false,
     "input": [
      "from menpofast.image import Image\n",
      "\n",
      "Image(parts_aam.appearance_models[1].mean().pixels[8, 0]).view()"
     ],
     "language": "python",
     "metadata": {},
     "outputs": []
    },
    {
     "cell_type": "heading",
     "level": 3,
     "metadata": {},
     "source": [
      "Save"
     ]
    },
    {
     "cell_type": "code",
     "collapsed": false,
     "input": [
      "from alabortcvpr2015.utils import pickle_dump\n",
      "\n",
      "pickle_dump(parts_aam, path + 'PhD/Models/parts_aam_view1_fast_dsift')"
     ],
     "language": "python",
     "metadata": {},
     "outputs": []
    },
    {
     "cell_type": "heading",
     "level": 2,
     "metadata": {},
     "source": [
      "Global"
     ]
    },
    {
     "cell_type": "code",
     "collapsed": false,
     "input": [
      "from alabortcvpr2015.aam import GlobalAAMBuilder\n",
      "\n",
      "global_aam = GlobalAAMBuilder(\n",
      "    features=features,\n",
      "    diagonal=diagonal,\n",
      "    scales=scales,\n",
      "    max_shape_components=max_shape_components,\n",
      "    max_appearance_components=max_appearance_components).build(training_images,\n",
      "                                                               group=group,\n",
      "                                                               verbose=True)"
     ],
     "language": "python",
     "metadata": {},
     "outputs": []
    },
    {
     "cell_type": "code",
     "collapsed": false,
     "input": [
      "global_aam.appearance_models[1].mean().view()"
     ],
     "language": "python",
     "metadata": {},
     "outputs": []
    },
    {
     "cell_type": "heading",
     "level": 3,
     "metadata": {},
     "source": [
      "Save"
     ]
    },
    {
     "cell_type": "code",
     "collapsed": false,
     "input": [
      "from alabortcvpr2015.utils import pickle_dump\n",
      "\n",
      "pickle_dump(global_aam, path + 'PhD/Models/global_aam_view1_fast_dsift')"
     ],
     "language": "python",
     "metadata": {},
     "outputs": []
    },
    {
     "cell_type": "heading",
     "level": 1,
     "metadata": {},
     "source": [
      "Constrained Local Models"
     ]
    },
    {
     "cell_type": "heading",
     "level": 3,
     "metadata": {},
     "source": [
      "Build"
     ]
    },
    {
     "cell_type": "code",
     "collapsed": false,
     "input": [
      "from alabortcvpr2015.clm import CLMBuilder\n",
      "\n",
      "clm = CLMBuilder(\n",
      "    parts_shape=parts_shape,\n",
      "    features=features,\n",
      "    diagonal=diagonal,\n",
      "    normalize_parts=normalize_parts,\n",
      "    covariance=covariance,\n",
      "    scales=scales,\n",
      "    max_shape_components=max_shape_components).build(training_images,\n",
      "                                                     group=group,\n",
      "                                                     verbose=True)"
     ],
     "language": "python",
     "metadata": {},
     "outputs": []
    },
    {
     "cell_type": "code",
     "collapsed": false,
     "input": [
      "clm.parts_filters()[1][8].view()"
     ],
     "language": "python",
     "metadata": {},
     "outputs": []
    },
    {
     "cell_type": "heading",
     "level": 3,
     "metadata": {},
     "source": [
      "Save"
     ]
    },
    {
     "cell_type": "code",
     "collapsed": false,
     "input": [
      "from alabortcvpr2015.utils import pickle_dump\n",
      "\n",
      "pickle_dump(clm, path + 'PhD/Models/clm_view1_fast_dsift')"
     ],
     "language": "python",
     "metadata": {},
     "outputs": []
    },
    {
     "cell_type": "heading",
     "level": 1,
     "metadata": {},
     "source": [
      "Unified"
     ]
    },
    {
     "cell_type": "heading",
     "level": 2,
     "metadata": {},
     "source": [
      "Parts"
     ]
    },
    {
     "cell_type": "heading",
     "level": 3,
     "metadata": {},
     "source": [
      "Build"
     ]
    },
    {
     "cell_type": "code",
     "collapsed": false,
     "input": [
      "from alabortcvpr2015.unified import PartsUnifiedBuilder\n",
      "\n",
      "parts_unified = PartsUnifiedBuilder(\n",
      "    parts_shape=parts_shape,\n",
      "    features=features,\n",
      "    diagonal=diagonal,\n",
      "    normalize_parts=normalize_parts,\n",
      "    covariance=covariance,\n",
      "    scales=scales,\n",
      "    max_shape_components=max_shape_components,\n",
      "    max_appearance_components=max_appearance_components).build(training_images,\n",
      "                                                               group=group,\n",
      "                                                               verbose=True)"
     ],
     "language": "python",
     "metadata": {},
     "outputs": []
    },
    {
     "cell_type": "code",
     "collapsed": false,
     "input": [
      "from menpofast.image import Image\n",
      "\n",
      "Image(parts_unified.appearance_models[1].mean().pixels[8, 0]).view()"
     ],
     "language": "python",
     "metadata": {},
     "outputs": []
    },
    {
     "cell_type": "code",
     "collapsed": false,
     "input": [
      "parts_unified.parts_filters()[1][8].view()"
     ],
     "language": "python",
     "metadata": {},
     "outputs": []
    },
    {
     "cell_type": "heading",
     "level": 3,
     "metadata": {},
     "source": [
      "Save"
     ]
    },
    {
     "cell_type": "code",
     "collapsed": false,
     "input": [
      "from alabortcvpr2015.utils import pickle_dump\n",
      "\n",
      "pickle_dump(parts_unified, path + 'PhD/Models/parts_unified_view1_fast_dsift')"
     ],
     "language": "python",
     "metadata": {},
     "outputs": []
    },
    {
     "cell_type": "heading",
     "level": 2,
     "metadata": {},
     "source": [
      "Global"
     ]
    },
    {
     "cell_type": "heading",
     "level": 3,
     "metadata": {},
     "source": [
      "Build"
     ]
    },
    {
     "cell_type": "code",
     "collapsed": false,
     "input": [
      "from menpofast.feature import no_op, fast_dsift, fast_daisy\n",
      "from alabortcvpr2015.unified import GlobalUnifiedBuilder\n",
      "\n",
      "global_unified = GlobalUnifiedBuilder(\n",
      "    parts_shape=parts_shape,\n",
      "    features=features,\n",
      "    diagonal=diagonal,\n",
      "    normalize_parts=normalize_parts,\n",
      "    covariance=covariance,\n",
      "    scales=scales,\n",
      "    max_shape_components=max_shape_components,\n",
      "    max_appearance_components=max_appearance_components).build(training_images,\n",
      "                                                               group=group,\n",
      "                                                               verbose=True)"
     ],
     "language": "python",
     "metadata": {},
     "outputs": []
    },
    {
     "cell_type": "code",
     "collapsed": false,
     "input": [
      "global_unified.appearance_models[1].mean().view()"
     ],
     "language": "python",
     "metadata": {},
     "outputs": []
    },
    {
     "cell_type": "code",
     "collapsed": false,
     "input": [
      "parts_unified.parts_filters()[1][8].view()"
     ],
     "language": "python",
     "metadata": {},
     "outputs": []
    },
    {
     "cell_type": "heading",
     "level": 3,
     "metadata": {},
     "source": [
      "Save"
     ]
    },
    {
     "cell_type": "code",
     "collapsed": false,
     "input": [
      "from alabortcvpr2015.utils import pickle_dump\n",
      "\n",
      "pickle_dump(global_unified, path + 'PhD/Models/global_unified_view1_fast_dsift')"
     ],
     "language": "python",
     "metadata": {},
     "outputs": []
    }
   ],
   "metadata": {}
  }
 ]
}