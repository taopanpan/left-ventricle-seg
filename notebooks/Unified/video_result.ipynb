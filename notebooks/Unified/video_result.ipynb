{
 "cells": [
  {
   "cell_type": "code",
   "execution_count": 1,
   "metadata": {},
   "outputs": [
    {
     "name": "stdout",
     "output_type": "stream",
     "text": [
      "Populating the interactive namespace from numpy and matplotlib\n"
     ]
    }
   ],
   "source": [
    "%matplotlib inline\n",
    "%pylab inline"
   ]
  },
  {
   "cell_type": "code",
   "execution_count": 7,
   "metadata": {},
   "outputs": [],
   "source": [
    "import cv2\n",
    "#from menpofast.utils import convert_to_menpo \n",
    "from menpo.image import Image\n",
    "\n",
    "def convert_to_menpo(image):\n",
    "\n",
    "    cls = eval(type(image).__name__)\n",
    "\n",
    "    if cls is Image:\n",
    "        menpo_image = cls(np.rollaxis(image.pixels,  0, image.n_dims+1),\n",
    "                          copy=True)\n",
    "    elif cls is MaskedImage:\n",
    "        menpo_image = cls(np.rollaxis(image.pixels, 0, image.n_dims+1),\n",
    "                          mask=image.mask.pixels[0, ...], copy=True)\n",
    "    elif cls is BooleanImage:\n",
    "        menpo_image = cls(image.pixels[0, ...], copy=True)\n",
    "    else:\n",
    "        raise ValueError('{} is not a cvpr2015 image class'.format(cls))\n",
    "\n",
    "    if image.has_landmarks:\n",
    "        menpo_image.landmarks = image.landmarks\n",
    "\n",
    "    return menpo_image\n",
    "\n",
    "fr = Image(np.random.randn(3, 100, 100))\n",
    "\n",
    "fitter_results = [fr] * 100000\n",
    "\n",
    "# Define the codec and create VideoWriter object\n",
    "fourcc = cv2.VideoWriter_fourcc(*'XVID')\n",
    "out = cv2.VideoWriter('output.avi',fourcc, 20.0, fr.shape[::-1])\n",
    "\n",
    "for fr in fitter_results:\n",
    "    \n",
    "    frame = np.require(np.round(convert_to_menpo(fr).pixels * 255), dtype=np.uint8)\n",
    "\n",
    "    #for l in fr.final_shape.points:\n",
    "    #    cv2.circle(frame, (int(l[1]), int(l[0])), radius=1, color=(0, 255, 0), thickness=2)\n",
    "    \n",
    "    out.write(frame)\n",
    "\n",
    "out.release()"
   ]
  },
  {
   "cell_type": "code",
   "execution_count": 18,
   "metadata": {},
   "outputs": [
    {
     "data": {
      "text/plain": [
       "90"
      ]
     },
     "execution_count": 18,
     "metadata": {},
     "output_type": "execute_result"
    }
   ],
   "source": [
    "len(fitter_results)"
   ]
  }
 ],
 "metadata": {
  "kernelspec": {
   "display_name": "Python 2",
   "language": "python",
   "name": "python2"
  },
  "language_info": {
   "codemirror_mode": {
    "name": "ipython",
    "version": 2
   },
   "file_extension": ".py",
   "mimetype": "text/x-python",
   "name": "python",
   "nbconvert_exporter": "python",
   "pygments_lexer": "ipython2",
   "version": "2.7.13"
  }
 },
 "nbformat": 4,
 "nbformat_minor": 1
}
