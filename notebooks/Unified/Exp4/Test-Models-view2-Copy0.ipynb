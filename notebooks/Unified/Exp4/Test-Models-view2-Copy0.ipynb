{
 "metadata": {
  "name": "",
  "signature": "sha256:560be31b7f75285711f34732bdd23c823b1cdc8aa3a1de0e14da9d44478297bc"
 },
 "nbformat": 3,
 "nbformat_minor": 0,
 "worksheets": [
  {
   "cells": [
    {
     "cell_type": "code",
     "collapsed": false,
     "input": [
      "%matplotlib inline\n",
      "%pylab inline"
     ],
     "language": "python",
     "metadata": {},
     "outputs": [
      {
       "output_type": "stream",
       "stream": "stdout",
       "text": [
        "Populating the interactive namespace from numpy and matplotlib\n"
       ]
      }
     ],
     "prompt_number": 1
    },
    {
     "cell_type": "heading",
     "level": 1,
     "metadata": {},
     "source": [
      "Load test data"
     ]
    },
    {
     "cell_type": "code",
     "collapsed": false,
     "input": [
      "import menpo.io as mio\n",
      "from menpo.landmark import labeller, streetscene_car_view_2\n",
      "from menpofast.utils import convert_from_menpo\n",
      "\n",
      "path = '/data/'\n",
      "group = 'streetscene_car_view_2'\n",
      "\n",
      "test_images = []\n",
      "for i in mio.import_images(path + 'PhD/DataBases/cars/cmu_car_data1/view2/',\n",
      "                           verbose=True, max_images=None):\n",
      "    \n",
      "    # convert the image from menpo Image to menpofast Image (channels at front)\n",
      "    i = convert_from_menpo(i)\n",
      "    \n",
      "    labeller(i, 'PTS', eval(group))\n",
      "    i.crop_to_landmarks_proportion_inplace(1.5, group=group)\n",
      "    i = i.rescale_landmarks_to_diagonal_range(200, group=group)\n",
      "    \n",
      "    if i.n_channels == 3:\n",
      "        i = i.as_greyscale(mode='average')\n",
      "    test_images.append(i)"
     ],
     "language": "python",
     "metadata": {},
     "outputs": [
      {
       "output_type": "stream",
       "stream": "stdout",
       "text": [
        "\r",
        "- Loading 601 assets: [                    ] 0%"
       ]
      },
      {
       "output_type": "stream",
       "stream": "stdout",
       "text": [
        "\r",
        "- Loading 601 assets: [                    ] 0%"
       ]
      },
      {
       "output_type": "stream",
       "stream": "stdout",
       "text": [
        "\r",
        "- Loading 601 assets: [                    ] 0%"
       ]
      },
      {
       "output_type": "stream",
       "stream": "stdout",
       "text": [
        "\r",
        "- Loading 601 assets: [                    ] 0%"
       ]
      },
      {
       "output_type": "stream",
       "stream": "stdout",
       "text": [
        "\r",
        "- Loading 601 assets: [                    ] 0%"
       ]
      },
      {
       "output_type": "stream",
       "stream": "stdout",
       "text": [
        "\r",
        "- Loading 601 assets: [                    ] 0%"
       ]
      },
      {
       "output_type": "stream",
       "stream": "stdout",
       "text": [
        "\r",
        "- Loading 601 assets: [                    ] 1%"
       ]
      },
      {
       "output_type": "stream",
       "stream": "stdout",
       "text": [
        "\r",
        "- Loading 601 assets: [                    ] 1%"
       ]
      },
      {
       "output_type": "stream",
       "stream": "stdout",
       "text": [
        "\r",
        "- Loading 601 assets: [                    ] 1%"
       ]
      },
      {
       "output_type": "stream",
       "stream": "stdout",
       "text": [
        "\r",
        "- Loading 601 assets: [                    ] 1%"
       ]
      },
      {
       "output_type": "stream",
       "stream": "stdout",
       "text": [
        "\r",
        "- Loading 601 assets: [                    ] 1%"
       ]
      },
      {
       "output_type": "stream",
       "stream": "stdout",
       "text": [
        "\r",
        "- Loading 601 assets: [                    ] 1%"
       ]
      },
      {
       "output_type": "stream",
       "stream": "stdout",
       "text": [
        "\r",
        "- Loading 601 assets: [                    ] 2%"
       ]
      },
      {
       "output_type": "stream",
       "stream": "stdout",
       "text": [
        "\r",
        "- Loading 601 assets: [                    ] 2%"
       ]
      },
      {
       "output_type": "stream",
       "stream": "stdout",
       "text": [
        "\r",
        "- Loading 601 assets: [                    ] 2%"
       ]
      },
      {
       "output_type": "stream",
       "stream": "stdout",
       "text": [
        "\r",
        "- Loading 601 assets: [                    ] 2%"
       ]
      },
      {
       "output_type": "stream",
       "stream": "stdout",
       "text": [
        "\r",
        "- Loading 601 assets: [                    ] 2%"
       ]
      },
      {
       "output_type": "stream",
       "stream": "stdout",
       "text": [
        "\r",
        "- Loading 601 assets: [                    ] 2%"
       ]
      },
      {
       "output_type": "stream",
       "stream": "stdout",
       "text": [
        "\r",
        "- Loading 601 assets: [                    ] 3%"
       ]
      },
      {
       "output_type": "stream",
       "stream": "stdout",
       "text": [
        "\r",
        "- Loading 601 assets: [                    ] 3%"
       ]
      },
      {
       "output_type": "stream",
       "stream": "stdout",
       "text": [
        "\r",
        "- Loading 601 assets: [                    ] 3%"
       ]
      },
      {
       "output_type": "stream",
       "stream": "stdout",
       "text": [
        "\r",
        "- Loading 601 assets: [                    ] 3%"
       ]
      },
      {
       "output_type": "stream",
       "stream": "stdout",
       "text": [
        "\r",
        "- Loading 601 assets: [                    ] 3%"
       ]
      },
      {
       "output_type": "stream",
       "stream": "stdout",
       "text": [
        "\r",
        "- Loading 601 assets: [                    ] 3%"
       ]
      },
      {
       "output_type": "stream",
       "stream": "stdout",
       "text": [
        "\r",
        "- Loading 601 assets: [                    ] 4%"
       ]
      },
      {
       "output_type": "stream",
       "stream": "stdout",
       "text": [
        "\r",
        "- Loading 601 assets: [                    ] 4%"
       ]
      },
      {
       "output_type": "stream",
       "stream": "stdout",
       "text": [
        "\r",
        "- Loading 601 assets: [                    ] 4%"
       ]
      },
      {
       "output_type": "stream",
       "stream": "stdout",
       "text": [
        "\r",
        "- Loading 601 assets: [                    ] 4%"
       ]
      },
      {
       "output_type": "stream",
       "stream": "stdout",
       "text": [
        "\r",
        "- Loading 601 assets: [                    ] 4%"
       ]
      },
      {
       "output_type": "stream",
       "stream": "stdout",
       "text": [
        "\r",
        "- Loading 601 assets: [                    ] 4%"
       ]
      },
      {
       "output_type": "stream",
       "stream": "stdout",
       "text": [
        "\r",
        "- Loading 601 assets: [=                   ] 5%"
       ]
      },
      {
       "output_type": "stream",
       "stream": "stdout",
       "text": [
        "\r",
        "- Loading 601 assets: [=                   ] 5%"
       ]
      },
      {
       "output_type": "stream",
       "stream": "stdout",
       "text": [
        "\r",
        "- Loading 601 assets: [=                   ] 5%"
       ]
      },
      {
       "output_type": "stream",
       "stream": "stdout",
       "text": [
        "\r",
        "- Loading 601 assets: [=                   ] 5%"
       ]
      },
      {
       "output_type": "stream",
       "stream": "stdout",
       "text": [
        "\r",
        "- Loading 601 assets: [=                   ] 5%"
       ]
      },
      {
       "output_type": "stream",
       "stream": "stdout",
       "text": [
        "\r",
        "- Loading 601 assets: [=                   ] 5%"
       ]
      },
      {
       "output_type": "stream",
       "stream": "stdout",
       "text": [
        "\r",
        "- Loading 601 assets: [=                   ] 6%"
       ]
      },
      {
       "output_type": "stream",
       "stream": "stdout",
       "text": [
        "\r",
        "- Loading 601 assets: [=                   ] 6%"
       ]
      },
      {
       "output_type": "stream",
       "stream": "stdout",
       "text": [
        "\r",
        "- Loading 601 assets: [=                   ] 6%"
       ]
      },
      {
       "output_type": "stream",
       "stream": "stdout",
       "text": [
        "\r",
        "- Loading 601 assets: [=                   ] 6%"
       ]
      },
      {
       "output_type": "stream",
       "stream": "stdout",
       "text": [
        "\r",
        "- Loading 601 assets: [=                   ] 6%"
       ]
      },
      {
       "output_type": "stream",
       "stream": "stdout",
       "text": [
        "\r",
        "- Loading 601 assets: [=                   ] 6%"
       ]
      },
      {
       "output_type": "stream",
       "stream": "stdout",
       "text": [
        "\r",
        "- Loading 601 assets: [=                   ] 7%"
       ]
      },
      {
       "output_type": "stream",
       "stream": "stdout",
       "text": [
        "\r",
        "- Loading 601 assets: [=                   ] 7%"
       ]
      },
      {
       "output_type": "stream",
       "stream": "stdout",
       "text": [
        "\r",
        "- Loading 601 assets: [=                   ] 7%"
       ]
      },
      {
       "output_type": "stream",
       "stream": "stdout",
       "text": [
        "\r",
        "- Loading 601 assets: [=                   ] 7%"
       ]
      },
      {
       "output_type": "stream",
       "stream": "stdout",
       "text": [
        "\r",
        "- Loading 601 assets: [=                   ] 7%"
       ]
      },
      {
       "output_type": "stream",
       "stream": "stdout",
       "text": [
        "\r",
        "- Loading 601 assets: [=                   ] 7%"
       ]
      },
      {
       "output_type": "stream",
       "stream": "stdout",
       "text": [
        "\r",
        "- Loading 601 assets: [=                   ] 8%"
       ]
      },
      {
       "output_type": "stream",
       "stream": "stdout",
       "text": [
        "\r",
        "- Loading 601 assets: [=                   ] 8%"
       ]
      },
      {
       "output_type": "stream",
       "stream": "stdout",
       "text": [
        "\r",
        "- Loading 601 assets: [=                   ] 8%"
       ]
      },
      {
       "output_type": "stream",
       "stream": "stdout",
       "text": [
        "\r",
        "- Loading 601 assets: [=                   ] 8%"
       ]
      },
      {
       "output_type": "stream",
       "stream": "stdout",
       "text": [
        "\r",
        "- Loading 601 assets: [=                   ] 8%"
       ]
      },
      {
       "output_type": "stream",
       "stream": "stdout",
       "text": [
        "\r",
        "- Loading 601 assets: [=                   ] 8%"
       ]
      },
      {
       "output_type": "stream",
       "stream": "stdout",
       "text": [
        "\r",
        "- Loading 601 assets: [=                   ] 9%"
       ]
      },
      {
       "output_type": "stream",
       "stream": "stdout",
       "text": [
        "\r",
        "- Loading 601 assets: [=                   ] 9%"
       ]
      },
      {
       "output_type": "stream",
       "stream": "stdout",
       "text": [
        "\r",
        "- Loading 601 assets: [=                   ] 9%"
       ]
      },
      {
       "output_type": "stream",
       "stream": "stdout",
       "text": [
        "\r",
        "- Loading 601 assets: [=                   ] 9%"
       ]
      },
      {
       "output_type": "stream",
       "stream": "stdout",
       "text": [
        "\r",
        "- Loading 601 assets: [=                   ] 9%"
       ]
      },
      {
       "output_type": "stream",
       "stream": "stdout",
       "text": [
        "\r",
        "- Loading 601 assets: [=                   ] 9%"
       ]
      },
      {
       "output_type": "stream",
       "stream": "stdout",
       "text": [
        "\r",
        "- Loading 601 assets: [==                  ] 10%"
       ]
      },
      {
       "output_type": "stream",
       "stream": "stdout",
       "text": [
        "\r",
        "- Loading 601 assets: [==                  ] 10%"
       ]
      },
      {
       "output_type": "stream",
       "stream": "stdout",
       "text": [
        "\r",
        "- Loading 601 assets: [==                  ] 10%"
       ]
      },
      {
       "output_type": "stream",
       "stream": "stdout",
       "text": [
        "\r",
        "- Loading 601 assets: [==                  ] 10%"
       ]
      },
      {
       "output_type": "stream",
       "stream": "stdout",
       "text": [
        "\r",
        "- Loading 601 assets: [==                  ] 10%"
       ]
      },
      {
       "output_type": "stream",
       "stream": "stdout",
       "text": [
        "\r",
        "- Loading 601 assets: [==                  ] 10%"
       ]
      },
      {
       "output_type": "stream",
       "stream": "stdout",
       "text": [
        "\r",
        "- Loading 601 assets: [==                  ] 11%"
       ]
      },
      {
       "output_type": "stream",
       "stream": "stdout",
       "text": [
        "\r",
        "- Loading 601 assets: [==                  ] 11%"
       ]
      },
      {
       "output_type": "stream",
       "stream": "stdout",
       "text": [
        "\r",
        "- Loading 601 assets: [==                  ] 11%"
       ]
      },
      {
       "output_type": "stream",
       "stream": "stdout",
       "text": [
        "\r",
        "- Loading 601 assets: [==                  ] 11%"
       ]
      },
      {
       "output_type": "stream",
       "stream": "stdout",
       "text": [
        "\r",
        "- Loading 601 assets: [==                  ] 11%"
       ]
      },
      {
       "output_type": "stream",
       "stream": "stdout",
       "text": [
        "\r",
        "- Loading 601 assets: [==                  ] 11%"
       ]
      },
      {
       "output_type": "stream",
       "stream": "stdout",
       "text": [
        "\r",
        "- Loading 601 assets: [==                  ] 12%"
       ]
      },
      {
       "output_type": "stream",
       "stream": "stdout",
       "text": [
        "\r",
        "- Loading 601 assets: [==                  ] 12%"
       ]
      },
      {
       "output_type": "stream",
       "stream": "stdout",
       "text": [
        "\r",
        "- Loading 601 assets: [==                  ] 12%"
       ]
      },
      {
       "output_type": "stream",
       "stream": "stdout",
       "text": [
        "\r",
        "- Loading 601 assets: [==                  ] 12%"
       ]
      },
      {
       "output_type": "stream",
       "stream": "stdout",
       "text": [
        "\r",
        "- Loading 601 assets: [==                  ] 12%"
       ]
      },
      {
       "output_type": "stream",
       "stream": "stdout",
       "text": [
        "\r",
        "- Loading 601 assets: [==                  ] 12%"
       ]
      },
      {
       "output_type": "stream",
       "stream": "stdout",
       "text": [
        "\r",
        "- Loading 601 assets: [==                  ] 13%"
       ]
      },
      {
       "output_type": "stream",
       "stream": "stdout",
       "text": [
        "\r",
        "- Loading 601 assets: [==                  ] 13%"
       ]
      },
      {
       "output_type": "stream",
       "stream": "stdout",
       "text": [
        "\r",
        "- Loading 601 assets: [==                  ] 13%"
       ]
      },
      {
       "output_type": "stream",
       "stream": "stdout",
       "text": [
        "\r",
        "- Loading 601 assets: [==                  ] 13%"
       ]
      },
      {
       "output_type": "stream",
       "stream": "stdout",
       "text": [
        "\r",
        "- Loading 601 assets: [==                  ] 13%"
       ]
      },
      {
       "output_type": "stream",
       "stream": "stdout",
       "text": [
        "\r",
        "- Loading 601 assets: [==                  ] 13%"
       ]
      },
      {
       "output_type": "stream",
       "stream": "stdout",
       "text": [
        "\r",
        "- Loading 601 assets: [==                  ] 14%"
       ]
      },
      {
       "output_type": "stream",
       "stream": "stdout",
       "text": [
        "\r",
        "- Loading 601 assets: [==                  ] 14%"
       ]
      },
      {
       "output_type": "stream",
       "stream": "stdout",
       "text": [
        "\r",
        "- Loading 601 assets: [==                  ] 14%"
       ]
      },
      {
       "output_type": "stream",
       "stream": "stdout",
       "text": [
        "\r",
        "- Loading 601 assets: [==                  ] 14%"
       ]
      },
      {
       "output_type": "stream",
       "stream": "stdout",
       "text": [
        "\r",
        "- Loading 601 assets: [==                  ] 14%"
       ]
      },
      {
       "output_type": "stream",
       "stream": "stdout",
       "text": [
        "\r",
        "- Loading 601 assets: [==                  ] 14%"
       ]
      },
      {
       "output_type": "stream",
       "stream": "stdout",
       "text": [
        "\r",
        "- Loading 601 assets: [===                 ] 15%"
       ]
      },
      {
       "output_type": "stream",
       "stream": "stdout",
       "text": [
        "\r",
        "- Loading 601 assets: [===                 ] 15%"
       ]
      },
      {
       "output_type": "stream",
       "stream": "stdout",
       "text": [
        "\r",
        "- Loading 601 assets: [===                 ] 15%"
       ]
      },
      {
       "output_type": "stream",
       "stream": "stdout",
       "text": [
        "\r",
        "- Loading 601 assets: [===                 ] 15%"
       ]
      },
      {
       "output_type": "stream",
       "stream": "stdout",
       "text": [
        "\r",
        "- Loading 601 assets: [===                 ] 15%"
       ]
      },
      {
       "output_type": "stream",
       "stream": "stdout",
       "text": [
        "\r",
        "- Loading 601 assets: [===                 ] 15%"
       ]
      },
      {
       "output_type": "stream",
       "stream": "stdout",
       "text": [
        "\r",
        "- Loading 601 assets: [===                 ] 16%"
       ]
      },
      {
       "output_type": "stream",
       "stream": "stdout",
       "text": [
        "\r",
        "- Loading 601 assets: [===                 ] 16%"
       ]
      },
      {
       "output_type": "stream",
       "stream": "stdout",
       "text": [
        "\r",
        "- Loading 601 assets: [===                 ] 16%"
       ]
      },
      {
       "output_type": "stream",
       "stream": "stdout",
       "text": [
        "\r",
        "- Loading 601 assets: [===                 ] 16%"
       ]
      },
      {
       "output_type": "stream",
       "stream": "stdout",
       "text": [
        "\r",
        "- Loading 601 assets: [===                 ] 16%"
       ]
      },
      {
       "output_type": "stream",
       "stream": "stdout",
       "text": [
        "\r",
        "- Loading 601 assets: [===                 ] 16%"
       ]
      },
      {
       "output_type": "stream",
       "stream": "stdout",
       "text": [
        "\r",
        "- Loading 601 assets: [===                 ] 17%"
       ]
      },
      {
       "output_type": "stream",
       "stream": "stdout",
       "text": [
        "\r",
        "- Loading 601 assets: [===                 ] 17%"
       ]
      },
      {
       "output_type": "stream",
       "stream": "stdout",
       "text": [
        "\r",
        "- Loading 601 assets: [===                 ] 17%"
       ]
      },
      {
       "output_type": "stream",
       "stream": "stdout",
       "text": [
        "\r",
        "- Loading 601 assets: [===                 ] 17%"
       ]
      },
      {
       "output_type": "stream",
       "stream": "stdout",
       "text": [
        "\r",
        "- Loading 601 assets: [===                 ] 17%"
       ]
      },
      {
       "output_type": "stream",
       "stream": "stdout",
       "text": [
        "\r",
        "- Loading 601 assets: [===                 ] 17%"
       ]
      },
      {
       "output_type": "stream",
       "stream": "stdout",
       "text": [
        "\r",
        "- Loading 601 assets: [===                 ] 18%"
       ]
      },
      {
       "output_type": "stream",
       "stream": "stdout",
       "text": [
        "\r",
        "- Loading 601 assets: [===                 ] 18%"
       ]
      },
      {
       "output_type": "stream",
       "stream": "stdout",
       "text": [
        "\r",
        "- Loading 601 assets: [===                 ] 18%"
       ]
      },
      {
       "output_type": "stream",
       "stream": "stdout",
       "text": [
        "\r",
        "- Loading 601 assets: [===                 ] 18%"
       ]
      },
      {
       "output_type": "stream",
       "stream": "stdout",
       "text": [
        "\r",
        "- Loading 601 assets: [===                 ] 18%"
       ]
      },
      {
       "output_type": "stream",
       "stream": "stdout",
       "text": [
        "\r",
        "- Loading 601 assets: [===                 ] 18%"
       ]
      },
      {
       "output_type": "stream",
       "stream": "stdout",
       "text": [
        "\r",
        "- Loading 601 assets: [===                 ] 19%"
       ]
      },
      {
       "output_type": "stream",
       "stream": "stdout",
       "text": [
        "\r",
        "- Loading 601 assets: [===                 ] 19%"
       ]
      },
      {
       "output_type": "stream",
       "stream": "stdout",
       "text": [
        "\r",
        "- Loading 601 assets: [===                 ] 19%"
       ]
      },
      {
       "output_type": "stream",
       "stream": "stdout",
       "text": [
        "\r",
        "- Loading 601 assets: [===                 ] 19%"
       ]
      },
      {
       "output_type": "stream",
       "stream": "stdout",
       "text": [
        "\r",
        "- Loading 601 assets: [===                 ] 19%"
       ]
      },
      {
       "output_type": "stream",
       "stream": "stdout",
       "text": [
        "\r",
        "- Loading 601 assets: [===                 ] 19%"
       ]
      },
      {
       "output_type": "stream",
       "stream": "stdout",
       "text": [
        "\r",
        "- Loading 601 assets: [====                ] 20%"
       ]
      },
      {
       "output_type": "stream",
       "stream": "stdout",
       "text": [
        "\r",
        "- Loading 601 assets: [====                ] 20%"
       ]
      },
      {
       "output_type": "stream",
       "stream": "stdout",
       "text": [
        "\r",
        "- Loading 601 assets: [====                ] 20%"
       ]
      },
      {
       "output_type": "stream",
       "stream": "stdout",
       "text": [
        "\r",
        "- Loading 601 assets: [====                ] 20%"
       ]
      },
      {
       "output_type": "stream",
       "stream": "stdout",
       "text": [
        "\r",
        "- Loading 601 assets: [====                ] 20%"
       ]
      },
      {
       "output_type": "stream",
       "stream": "stdout",
       "text": [
        "\r",
        "- Loading 601 assets: [====                ] 20%"
       ]
      },
      {
       "output_type": "stream",
       "stream": "stdout",
       "text": [
        "\r",
        "- Loading 601 assets: [====                ] 21%"
       ]
      },
      {
       "output_type": "stream",
       "stream": "stdout",
       "text": [
        "\r",
        "- Loading 601 assets: [====                ] 21%"
       ]
      },
      {
       "output_type": "stream",
       "stream": "stdout",
       "text": [
        "\r",
        "- Loading 601 assets: [====                ] 21%"
       ]
      },
      {
       "output_type": "stream",
       "stream": "stdout",
       "text": [
        "\r",
        "- Loading 601 assets: [====                ] 21%"
       ]
      },
      {
       "output_type": "stream",
       "stream": "stdout",
       "text": [
        "\r",
        "- Loading 601 assets: [====                ] 21%"
       ]
      },
      {
       "output_type": "stream",
       "stream": "stdout",
       "text": [
        "\r",
        "- Loading 601 assets: [====                ] 21%"
       ]
      },
      {
       "output_type": "stream",
       "stream": "stdout",
       "text": [
        "\r",
        "- Loading 601 assets: [====                ] 22%"
       ]
      },
      {
       "output_type": "stream",
       "stream": "stdout",
       "text": [
        "\r",
        "- Loading 601 assets: [====                ] 22%"
       ]
      },
      {
       "output_type": "stream",
       "stream": "stdout",
       "text": [
        "\r",
        "- Loading 601 assets: [====                ] 22%"
       ]
      },
      {
       "output_type": "stream",
       "stream": "stdout",
       "text": [
        "\r",
        "- Loading 601 assets: [====                ] 22%"
       ]
      },
      {
       "output_type": "stream",
       "stream": "stdout",
       "text": [
        "\r",
        "- Loading 601 assets: [====                ] 22%"
       ]
      },
      {
       "output_type": "stream",
       "stream": "stdout",
       "text": [
        "\r",
        "- Loading 601 assets: [====                ] 22%"
       ]
      },
      {
       "output_type": "stream",
       "stream": "stdout",
       "text": [
        "\r",
        "- Loading 601 assets: [====                ] 23%"
       ]
      },
      {
       "output_type": "stream",
       "stream": "stdout",
       "text": [
        "\r",
        "- Loading 601 assets: [====                ] 23%"
       ]
      },
      {
       "output_type": "stream",
       "stream": "stdout",
       "text": [
        "\r",
        "- Loading 601 assets: [====                ] 23%"
       ]
      },
      {
       "output_type": "stream",
       "stream": "stdout",
       "text": [
        "\r",
        "- Loading 601 assets: [====                ] 23%"
       ]
      },
      {
       "output_type": "stream",
       "stream": "stdout",
       "text": [
        "\r",
        "- Loading 601 assets: [====                ] 23%"
       ]
      },
      {
       "output_type": "stream",
       "stream": "stdout",
       "text": [
        "\r",
        "- Loading 601 assets: [====                ] 23%"
       ]
      },
      {
       "output_type": "stream",
       "stream": "stdout",
       "text": [
        "\r",
        "- Loading 601 assets: [====                ] 24%"
       ]
      },
      {
       "output_type": "stream",
       "stream": "stdout",
       "text": [
        "\r",
        "- Loading 601 assets: [====                ] 24%"
       ]
      },
      {
       "output_type": "stream",
       "stream": "stdout",
       "text": [
        "\r",
        "- Loading 601 assets: [====                ] 24%"
       ]
      },
      {
       "output_type": "stream",
       "stream": "stdout",
       "text": [
        "\r",
        "- Loading 601 assets: [====                ] 24%"
       ]
      },
      {
       "output_type": "stream",
       "stream": "stdout",
       "text": [
        "\r",
        "- Loading 601 assets: [====                ] 24%"
       ]
      },
      {
       "output_type": "stream",
       "stream": "stdout",
       "text": [
        "\r",
        "- Loading 601 assets: [====                ] 24%"
       ]
      },
      {
       "output_type": "stream",
       "stream": "stdout",
       "text": [
        "\r",
        "- Loading 601 assets: [=====               ] 25%"
       ]
      },
      {
       "output_type": "stream",
       "stream": "stdout",
       "text": [
        "\r",
        "- Loading 601 assets: [=====               ] 25%"
       ]
      },
      {
       "output_type": "stream",
       "stream": "stdout",
       "text": [
        "\r",
        "- Loading 601 assets: [=====               ] 25%"
       ]
      },
      {
       "output_type": "stream",
       "stream": "stdout",
       "text": [
        "\r",
        "- Loading 601 assets: [=====               ] 25%"
       ]
      },
      {
       "output_type": "stream",
       "stream": "stdout",
       "text": [
        "\r",
        "- Loading 601 assets: [=====               ] 25%"
       ]
      },
      {
       "output_type": "stream",
       "stream": "stdout",
       "text": [
        "\r",
        "- Loading 601 assets: [=====               ] 25%"
       ]
      },
      {
       "output_type": "stream",
       "stream": "stdout",
       "text": [
        "\r",
        "- Loading 601 assets: [=====               ] 26%"
       ]
      },
      {
       "output_type": "stream",
       "stream": "stdout",
       "text": [
        "\r",
        "- Loading 601 assets: [=====               ] 26%"
       ]
      },
      {
       "output_type": "stream",
       "stream": "stdout",
       "text": [
        "\r",
        "- Loading 601 assets: [=====               ] 26%"
       ]
      },
      {
       "output_type": "stream",
       "stream": "stdout",
       "text": [
        "\r",
        "- Loading 601 assets: [=====               ] 26%"
       ]
      },
      {
       "output_type": "stream",
       "stream": "stdout",
       "text": [
        "\r",
        "- Loading 601 assets: [=====               ] 26%"
       ]
      },
      {
       "output_type": "stream",
       "stream": "stdout",
       "text": [
        "\r",
        "- Loading 601 assets: [=====               ] 26%"
       ]
      },
      {
       "output_type": "stream",
       "stream": "stdout",
       "text": [
        "\r",
        "- Loading 601 assets: [=====               ] 27%"
       ]
      },
      {
       "output_type": "stream",
       "stream": "stdout",
       "text": [
        "\r",
        "- Loading 601 assets: [=====               ] 27%"
       ]
      },
      {
       "output_type": "stream",
       "stream": "stdout",
       "text": [
        "\r",
        "- Loading 601 assets: [=====               ] 27%"
       ]
      },
      {
       "output_type": "stream",
       "stream": "stdout",
       "text": [
        "\r",
        "- Loading 601 assets: [=====               ] 27%"
       ]
      },
      {
       "output_type": "stream",
       "stream": "stdout",
       "text": [
        "\r",
        "- Loading 601 assets: [=====               ] 27%"
       ]
      },
      {
       "output_type": "stream",
       "stream": "stdout",
       "text": [
        "\r",
        "- Loading 601 assets: [=====               ] 27%"
       ]
      },
      {
       "output_type": "stream",
       "stream": "stdout",
       "text": [
        "\r",
        "- Loading 601 assets: [=====               ] 28%"
       ]
      },
      {
       "output_type": "stream",
       "stream": "stdout",
       "text": [
        "\r",
        "- Loading 601 assets: [=====               ] 28%"
       ]
      },
      {
       "output_type": "stream",
       "stream": "stdout",
       "text": [
        "\r",
        "- Loading 601 assets: [=====               ] 28%"
       ]
      },
      {
       "output_type": "stream",
       "stream": "stdout",
       "text": [
        "\r",
        "- Loading 601 assets: [=====               ] 28%"
       ]
      },
      {
       "output_type": "stream",
       "stream": "stdout",
       "text": [
        "\r",
        "- Loading 601 assets: [=====               ] 28%"
       ]
      },
      {
       "output_type": "stream",
       "stream": "stdout",
       "text": [
        "\r",
        "- Loading 601 assets: [=====               ] 28%"
       ]
      },
      {
       "output_type": "stream",
       "stream": "stdout",
       "text": [
        "\r",
        "- Loading 601 assets: [=====               ] 29%"
       ]
      },
      {
       "output_type": "stream",
       "stream": "stdout",
       "text": [
        "\r",
        "- Loading 601 assets: [=====               ] 29%"
       ]
      },
      {
       "output_type": "stream",
       "stream": "stdout",
       "text": [
        "\r",
        "- Loading 601 assets: [=====               ] 29%"
       ]
      },
      {
       "output_type": "stream",
       "stream": "stdout",
       "text": [
        "\r",
        "- Loading 601 assets: [=====               ] 29%"
       ]
      },
      {
       "output_type": "stream",
       "stream": "stdout",
       "text": [
        "\r",
        "- Loading 601 assets: [=====               ] 29%"
       ]
      },
      {
       "output_type": "stream",
       "stream": "stdout",
       "text": [
        "\r",
        "- Loading 601 assets: [=====               ] 29%"
       ]
      },
      {
       "output_type": "stream",
       "stream": "stdout",
       "text": [
        "\r",
        "- Loading 601 assets: [======              ] 30%"
       ]
      },
      {
       "output_type": "stream",
       "stream": "stdout",
       "text": [
        "\r",
        "- Loading 601 assets: [======              ] 30%"
       ]
      },
      {
       "output_type": "stream",
       "stream": "stdout",
       "text": [
        "\r",
        "- Loading 601 assets: [======              ] 30%"
       ]
      },
      {
       "output_type": "stream",
       "stream": "stdout",
       "text": [
        "\r",
        "- Loading 601 assets: [======              ] 30%"
       ]
      },
      {
       "output_type": "stream",
       "stream": "stdout",
       "text": [
        "\r",
        "- Loading 601 assets: [======              ] 30%"
       ]
      },
      {
       "output_type": "stream",
       "stream": "stdout",
       "text": [
        "\r",
        "- Loading 601 assets: [======              ] 30%"
       ]
      },
      {
       "output_type": "stream",
       "stream": "stdout",
       "text": [
        "\r",
        "- Loading 601 assets: [======              ] 31%"
       ]
      },
      {
       "output_type": "stream",
       "stream": "stdout",
       "text": [
        "\r",
        "- Loading 601 assets: [======              ] 31%"
       ]
      },
      {
       "output_type": "stream",
       "stream": "stdout",
       "text": [
        "\r",
        "- Loading 601 assets: [======              ] 31%"
       ]
      },
      {
       "output_type": "stream",
       "stream": "stdout",
       "text": [
        "\r",
        "- Loading 601 assets: [======              ] 31%"
       ]
      },
      {
       "output_type": "stream",
       "stream": "stdout",
       "text": [
        "\r",
        "- Loading 601 assets: [======              ] 31%"
       ]
      },
      {
       "output_type": "stream",
       "stream": "stdout",
       "text": [
        "\r",
        "- Loading 601 assets: [======              ] 31%"
       ]
      },
      {
       "output_type": "stream",
       "stream": "stdout",
       "text": [
        "\r",
        "- Loading 601 assets: [======              ] 32%"
       ]
      },
      {
       "output_type": "stream",
       "stream": "stdout",
       "text": [
        "\r",
        "- Loading 601 assets: [======              ] 32%"
       ]
      },
      {
       "output_type": "stream",
       "stream": "stdout",
       "text": [
        "\r",
        "- Loading 601 assets: [======              ] 32%"
       ]
      },
      {
       "output_type": "stream",
       "stream": "stdout",
       "text": [
        "\r",
        "- Loading 601 assets: [======              ] 32%"
       ]
      },
      {
       "output_type": "stream",
       "stream": "stdout",
       "text": [
        "\r",
        "- Loading 601 assets: [======              ] 32%"
       ]
      },
      {
       "output_type": "stream",
       "stream": "stdout",
       "text": [
        "\r",
        "- Loading 601 assets: [======              ] 32%"
       ]
      },
      {
       "output_type": "stream",
       "stream": "stdout",
       "text": [
        "\r",
        "- Loading 601 assets: [======              ] 33%"
       ]
      },
      {
       "output_type": "stream",
       "stream": "stdout",
       "text": [
        "\r",
        "- Loading 601 assets: [======              ] 33%"
       ]
      },
      {
       "output_type": "stream",
       "stream": "stdout",
       "text": [
        "\r",
        "- Loading 601 assets: [======              ] 33%"
       ]
      },
      {
       "output_type": "stream",
       "stream": "stdout",
       "text": [
        "\r",
        "- Loading 601 assets: [======              ] 33%"
       ]
      },
      {
       "output_type": "stream",
       "stream": "stdout",
       "text": [
        "\r",
        "- Loading 601 assets: [======              ] 33%"
       ]
      },
      {
       "output_type": "stream",
       "stream": "stdout",
       "text": [
        "\r",
        "- Loading 601 assets: [======              ] 33%"
       ]
      },
      {
       "output_type": "stream",
       "stream": "stdout",
       "text": [
        "\r",
        "- Loading 601 assets: [======              ] 34%"
       ]
      },
      {
       "output_type": "stream",
       "stream": "stdout",
       "text": [
        "\r",
        "- Loading 601 assets: [======              ] 34%"
       ]
      },
      {
       "output_type": "stream",
       "stream": "stdout",
       "text": [
        "\r",
        "- Loading 601 assets: [======              ] 34%"
       ]
      },
      {
       "output_type": "stream",
       "stream": "stdout",
       "text": [
        "\r",
        "- Loading 601 assets: [======              ] 34%"
       ]
      },
      {
       "output_type": "stream",
       "stream": "stdout",
       "text": [
        "\r",
        "- Loading 601 assets: [======              ] 34%"
       ]
      },
      {
       "output_type": "stream",
       "stream": "stdout",
       "text": [
        "\r",
        "- Loading 601 assets: [======              ] 34%"
       ]
      },
      {
       "output_type": "stream",
       "stream": "stdout",
       "text": [
        "\r",
        "- Loading 601 assets: [=======             ] 35%"
       ]
      },
      {
       "output_type": "stream",
       "stream": "stdout",
       "text": [
        "\r",
        "- Loading 601 assets: [=======             ] 35%"
       ]
      },
      {
       "output_type": "stream",
       "stream": "stdout",
       "text": [
        "\r",
        "- Loading 601 assets: [=======             ] 35%"
       ]
      },
      {
       "output_type": "stream",
       "stream": "stdout",
       "text": [
        "\r",
        "- Loading 601 assets: [=======             ] 35%"
       ]
      },
      {
       "output_type": "stream",
       "stream": "stdout",
       "text": [
        "\r",
        "- Loading 601 assets: [=======             ] 35%"
       ]
      },
      {
       "output_type": "stream",
       "stream": "stdout",
       "text": [
        "\r",
        "- Loading 601 assets: [=======             ] 35%"
       ]
      },
      {
       "output_type": "stream",
       "stream": "stdout",
       "text": [
        "\r",
        "- Loading 601 assets: [=======             ] 36%"
       ]
      },
      {
       "output_type": "stream",
       "stream": "stdout",
       "text": [
        "\r",
        "- Loading 601 assets: [=======             ] 36%"
       ]
      },
      {
       "output_type": "stream",
       "stream": "stdout",
       "text": [
        "\r",
        "- Loading 601 assets: [=======             ] 36%"
       ]
      },
      {
       "output_type": "stream",
       "stream": "stdout",
       "text": [
        "\r",
        "- Loading 601 assets: [=======             ] 36%"
       ]
      },
      {
       "output_type": "stream",
       "stream": "stdout",
       "text": [
        "\r",
        "- Loading 601 assets: [=======             ] 36%"
       ]
      },
      {
       "output_type": "stream",
       "stream": "stdout",
       "text": [
        "\r",
        "- Loading 601 assets: [=======             ] 36%"
       ]
      },
      {
       "output_type": "stream",
       "stream": "stdout",
       "text": [
        "\r",
        "- Loading 601 assets: [=======             ] 37%"
       ]
      },
      {
       "output_type": "stream",
       "stream": "stdout",
       "text": [
        "\r",
        "- Loading 601 assets: [=======             ] 37%"
       ]
      },
      {
       "output_type": "stream",
       "stream": "stdout",
       "text": [
        "\r",
        "- Loading 601 assets: [=======             ] 37%"
       ]
      },
      {
       "output_type": "stream",
       "stream": "stdout",
       "text": [
        "\r",
        "- Loading 601 assets: [=======             ] 37%"
       ]
      },
      {
       "output_type": "stream",
       "stream": "stdout",
       "text": [
        "\r",
        "- Loading 601 assets: [=======             ] 37%"
       ]
      },
      {
       "output_type": "stream",
       "stream": "stdout",
       "text": [
        "\r",
        "- Loading 601 assets: [=======             ] 37%"
       ]
      },
      {
       "output_type": "stream",
       "stream": "stdout",
       "text": [
        "\r",
        "- Loading 601 assets: [=======             ] 38%"
       ]
      },
      {
       "output_type": "stream",
       "stream": "stdout",
       "text": [
        "\r",
        "- Loading 601 assets: [=======             ] 38%"
       ]
      },
      {
       "output_type": "stream",
       "stream": "stdout",
       "text": [
        "\r",
        "- Loading 601 assets: [=======             ] 38%"
       ]
      },
      {
       "output_type": "stream",
       "stream": "stdout",
       "text": [
        "\r",
        "- Loading 601 assets: [=======             ] 38%"
       ]
      },
      {
       "output_type": "stream",
       "stream": "stdout",
       "text": [
        "\r",
        "- Loading 601 assets: [=======             ] 38%"
       ]
      },
      {
       "output_type": "stream",
       "stream": "stdout",
       "text": [
        "\r",
        "- Loading 601 assets: [=======             ] 38%"
       ]
      },
      {
       "output_type": "stream",
       "stream": "stdout",
       "text": [
        "\r",
        "- Loading 601 assets: [=======             ] 39%"
       ]
      },
      {
       "output_type": "stream",
       "stream": "stdout",
       "text": [
        "\r",
        "- Loading 601 assets: [=======             ] 39%"
       ]
      },
      {
       "output_type": "stream",
       "stream": "stdout",
       "text": [
        "\r",
        "- Loading 601 assets: [=======             ] 39%"
       ]
      },
      {
       "output_type": "stream",
       "stream": "stdout",
       "text": [
        "\r",
        "- Loading 601 assets: [=======             ] 39%"
       ]
      },
      {
       "output_type": "stream",
       "stream": "stdout",
       "text": [
        "\r",
        "- Loading 601 assets: [=======             ] 39%"
       ]
      },
      {
       "output_type": "stream",
       "stream": "stdout",
       "text": [
        "\r",
        "- Loading 601 assets: [=======             ] 39%"
       ]
      },
      {
       "output_type": "stream",
       "stream": "stdout",
       "text": [
        "\r",
        "- Loading 601 assets: [========            ] 40%"
       ]
      },
      {
       "output_type": "stream",
       "stream": "stdout",
       "text": [
        "\r",
        "- Loading 601 assets: [========            ] 40%"
       ]
      },
      {
       "output_type": "stream",
       "stream": "stdout",
       "text": [
        "\r",
        "- Loading 601 assets: [========            ] 40%"
       ]
      },
      {
       "output_type": "stream",
       "stream": "stdout",
       "text": [
        "\r",
        "- Loading 601 assets: [========            ] 40%"
       ]
      },
      {
       "output_type": "stream",
       "stream": "stdout",
       "text": [
        "\r",
        "- Loading 601 assets: [========            ] 40%"
       ]
      },
      {
       "output_type": "stream",
       "stream": "stdout",
       "text": [
        "\r",
        "- Loading 601 assets: [========            ] 40%"
       ]
      },
      {
       "output_type": "stream",
       "stream": "stdout",
       "text": [
        "\r",
        "- Loading 601 assets: [========            ] 41%"
       ]
      },
      {
       "output_type": "stream",
       "stream": "stdout",
       "text": [
        "\r",
        "- Loading 601 assets: [========            ] 41%"
       ]
      },
      {
       "output_type": "stream",
       "stream": "stdout",
       "text": [
        "\r",
        "- Loading 601 assets: [========            ] 41%"
       ]
      },
      {
       "output_type": "stream",
       "stream": "stdout",
       "text": [
        "\r",
        "- Loading 601 assets: [========            ] 41%"
       ]
      },
      {
       "output_type": "stream",
       "stream": "stdout",
       "text": [
        "\r",
        "- Loading 601 assets: [========            ] 41%"
       ]
      },
      {
       "output_type": "stream",
       "stream": "stdout",
       "text": [
        "\r",
        "- Loading 601 assets: [========            ] 41%"
       ]
      },
      {
       "output_type": "stream",
       "stream": "stdout",
       "text": [
        "\r",
        "- Loading 601 assets: [========            ] 42%"
       ]
      },
      {
       "output_type": "stream",
       "stream": "stdout",
       "text": [
        "\r",
        "- Loading 601 assets: [========            ] 42%"
       ]
      },
      {
       "output_type": "stream",
       "stream": "stdout",
       "text": [
        "\r",
        "- Loading 601 assets: [========            ] 42%"
       ]
      },
      {
       "output_type": "stream",
       "stream": "stdout",
       "text": [
        "\r",
        "- Loading 601 assets: [========            ] 42%"
       ]
      },
      {
       "output_type": "stream",
       "stream": "stdout",
       "text": [
        "\r",
        "- Loading 601 assets: [========            ] 42%"
       ]
      },
      {
       "output_type": "stream",
       "stream": "stdout",
       "text": [
        "\r",
        "- Loading 601 assets: [========            ] 42%"
       ]
      },
      {
       "output_type": "stream",
       "stream": "stdout",
       "text": [
        "\r",
        "- Loading 601 assets: [========            ] 43%"
       ]
      },
      {
       "output_type": "stream",
       "stream": "stdout",
       "text": [
        "\r",
        "- Loading 601 assets: [========            ] 43%"
       ]
      },
      {
       "output_type": "stream",
       "stream": "stdout",
       "text": [
        "\r",
        "- Loading 601 assets: [========            ] 43%"
       ]
      },
      {
       "output_type": "stream",
       "stream": "stdout",
       "text": [
        "\r",
        "- Loading 601 assets: [========            ] 43%"
       ]
      },
      {
       "output_type": "stream",
       "stream": "stdout",
       "text": [
        "\r",
        "- Loading 601 assets: [========            ] 43%"
       ]
      },
      {
       "output_type": "stream",
       "stream": "stdout",
       "text": [
        "\r",
        "- Loading 601 assets: [========            ] 43%"
       ]
      },
      {
       "output_type": "stream",
       "stream": "stdout",
       "text": [
        "\r",
        "- Loading 601 assets: [========            ] 44%"
       ]
      },
      {
       "output_type": "stream",
       "stream": "stdout",
       "text": [
        "\r",
        "- Loading 601 assets: [========            ] 44%"
       ]
      },
      {
       "output_type": "stream",
       "stream": "stdout",
       "text": [
        "\r",
        "- Loading 601 assets: [========            ] 44%"
       ]
      },
      {
       "output_type": "stream",
       "stream": "stdout",
       "text": [
        "\r",
        "- Loading 601 assets: [========            ] 44%"
       ]
      },
      {
       "output_type": "stream",
       "stream": "stdout",
       "text": [
        "\r",
        "- Loading 601 assets: [========            ] 44%"
       ]
      },
      {
       "output_type": "stream",
       "stream": "stdout",
       "text": [
        "\r",
        "- Loading 601 assets: [========            ] 44%"
       ]
      },
      {
       "output_type": "stream",
       "stream": "stdout",
       "text": [
        "\r",
        "- Loading 601 assets: [=========           ] 45%"
       ]
      },
      {
       "output_type": "stream",
       "stream": "stdout",
       "text": [
        "\r",
        "- Loading 601 assets: [=========           ] 45%"
       ]
      },
      {
       "output_type": "stream",
       "stream": "stdout",
       "text": [
        "\r",
        "- Loading 601 assets: [=========           ] 45%"
       ]
      },
      {
       "output_type": "stream",
       "stream": "stdout",
       "text": [
        "\r",
        "- Loading 601 assets: [=========           ] 45%"
       ]
      },
      {
       "output_type": "stream",
       "stream": "stdout",
       "text": [
        "\r",
        "- Loading 601 assets: [=========           ] 45%"
       ]
      },
      {
       "output_type": "stream",
       "stream": "stdout",
       "text": [
        "\r",
        "- Loading 601 assets: [=========           ] 45%"
       ]
      },
      {
       "output_type": "stream",
       "stream": "stdout",
       "text": [
        "\r",
        "- Loading 601 assets: [=========           ] 46%"
       ]
      },
      {
       "output_type": "stream",
       "stream": "stdout",
       "text": [
        "\r",
        "- Loading 601 assets: [=========           ] 46%"
       ]
      },
      {
       "output_type": "stream",
       "stream": "stdout",
       "text": [
        "\r",
        "- Loading 601 assets: [=========           ] 46%"
       ]
      },
      {
       "output_type": "stream",
       "stream": "stdout",
       "text": [
        "\r",
        "- Loading 601 assets: [=========           ] 46%"
       ]
      },
      {
       "output_type": "stream",
       "stream": "stdout",
       "text": [
        "\r",
        "- Loading 601 assets: [=========           ] 46%"
       ]
      },
      {
       "output_type": "stream",
       "stream": "stdout",
       "text": [
        "\r",
        "- Loading 601 assets: [=========           ] 46%"
       ]
      },
      {
       "output_type": "stream",
       "stream": "stdout",
       "text": [
        "\r",
        "- Loading 601 assets: [=========           ] 47%"
       ]
      },
      {
       "output_type": "stream",
       "stream": "stdout",
       "text": [
        "\r",
        "- Loading 601 assets: [=========           ] 47%"
       ]
      },
      {
       "output_type": "stream",
       "stream": "stdout",
       "text": [
        "\r",
        "- Loading 601 assets: [=========           ] 47%"
       ]
      },
      {
       "output_type": "stream",
       "stream": "stdout",
       "text": [
        "\r",
        "- Loading 601 assets: [=========           ] 47%"
       ]
      },
      {
       "output_type": "stream",
       "stream": "stdout",
       "text": [
        "\r",
        "- Loading 601 assets: [=========           ] 47%"
       ]
      },
      {
       "output_type": "stream",
       "stream": "stdout",
       "text": [
        "\r",
        "- Loading 601 assets: [=========           ] 47%"
       ]
      },
      {
       "output_type": "stream",
       "stream": "stdout",
       "text": [
        "\r",
        "- Loading 601 assets: [=========           ] 48%"
       ]
      },
      {
       "output_type": "stream",
       "stream": "stdout",
       "text": [
        "\r",
        "- Loading 601 assets: [=========           ] 48%"
       ]
      },
      {
       "output_type": "stream",
       "stream": "stdout",
       "text": [
        "\r",
        "- Loading 601 assets: [=========           ] 48%"
       ]
      },
      {
       "output_type": "stream",
       "stream": "stdout",
       "text": [
        "\r",
        "- Loading 601 assets: [=========           ] 48%"
       ]
      },
      {
       "output_type": "stream",
       "stream": "stdout",
       "text": [
        "\r",
        "- Loading 601 assets: [=========           ] 48%"
       ]
      },
      {
       "output_type": "stream",
       "stream": "stdout",
       "text": [
        "\r",
        "- Loading 601 assets: [=========           ] 48%"
       ]
      },
      {
       "output_type": "stream",
       "stream": "stdout",
       "text": [
        "\r",
        "- Loading 601 assets: [=========           ] 49%"
       ]
      },
      {
       "output_type": "stream",
       "stream": "stdout",
       "text": [
        "\r",
        "- Loading 601 assets: [=========           ] 49%"
       ]
      },
      {
       "output_type": "stream",
       "stream": "stdout",
       "text": [
        "\r",
        "- Loading 601 assets: [=========           ] 49%"
       ]
      },
      {
       "output_type": "stream",
       "stream": "stdout",
       "text": [
        "\r",
        "- Loading 601 assets: [=========           ] 49%"
       ]
      },
      {
       "output_type": "stream",
       "stream": "stdout",
       "text": [
        "\r",
        "- Loading 601 assets: [=========           ] 49%"
       ]
      },
      {
       "output_type": "stream",
       "stream": "stdout",
       "text": [
        "\r",
        "- Loading 601 assets: [=========           ] 49%"
       ]
      },
      {
       "output_type": "stream",
       "stream": "stdout",
       "text": [
        "\r",
        "- Loading 601 assets: [==========          ] 50%"
       ]
      },
      {
       "output_type": "stream",
       "stream": "stdout",
       "text": [
        "\r",
        "- Loading 601 assets: [==========          ] 50%"
       ]
      },
      {
       "output_type": "stream",
       "stream": "stdout",
       "text": [
        "\r",
        "- Loading 601 assets: [==========          ] 50%"
       ]
      },
      {
       "output_type": "stream",
       "stream": "stdout",
       "text": [
        "\r",
        "- Loading 601 assets: [==========          ] 50%"
       ]
      },
      {
       "output_type": "stream",
       "stream": "stdout",
       "text": [
        "\r",
        "- Loading 601 assets: [==========          ] 50%"
       ]
      },
      {
       "output_type": "stream",
       "stream": "stdout",
       "text": [
        "\r",
        "- Loading 601 assets: [==========          ] 50%"
       ]
      },
      {
       "output_type": "stream",
       "stream": "stdout",
       "text": [
        "\r",
        "- Loading 601 assets: [==========          ] 51%"
       ]
      },
      {
       "output_type": "stream",
       "stream": "stdout",
       "text": [
        "\r",
        "- Loading 601 assets: [==========          ] 51%"
       ]
      },
      {
       "output_type": "stream",
       "stream": "stdout",
       "text": [
        "\r",
        "- Loading 601 assets: [==========          ] 51%"
       ]
      },
      {
       "output_type": "stream",
       "stream": "stdout",
       "text": [
        "\r",
        "- Loading 601 assets: [==========          ] 51%"
       ]
      },
      {
       "output_type": "stream",
       "stream": "stdout",
       "text": [
        "\r",
        "- Loading 601 assets: [==========          ] 51%"
       ]
      },
      {
       "output_type": "stream",
       "stream": "stdout",
       "text": [
        "\r",
        "- Loading 601 assets: [==========          ] 51%"
       ]
      },
      {
       "output_type": "stream",
       "stream": "stdout",
       "text": [
        "\r",
        "- Loading 601 assets: [==========          ] 52%"
       ]
      },
      {
       "output_type": "stream",
       "stream": "stdout",
       "text": [
        "\r",
        "- Loading 601 assets: [==========          ] 52%"
       ]
      },
      {
       "output_type": "stream",
       "stream": "stdout",
       "text": [
        "\r",
        "- Loading 601 assets: [==========          ] 52%"
       ]
      },
      {
       "output_type": "stream",
       "stream": "stdout",
       "text": [
        "\r",
        "- Loading 601 assets: [==========          ] 52%"
       ]
      },
      {
       "output_type": "stream",
       "stream": "stdout",
       "text": [
        "\r",
        "- Loading 601 assets: [==========          ] 52%"
       ]
      },
      {
       "output_type": "stream",
       "stream": "stdout",
       "text": [
        "\r",
        "- Loading 601 assets: [==========          ] 52%"
       ]
      },
      {
       "output_type": "stream",
       "stream": "stdout",
       "text": [
        "\r",
        "- Loading 601 assets: [==========          ] 53%"
       ]
      },
      {
       "output_type": "stream",
       "stream": "stdout",
       "text": [
        "\r",
        "- Loading 601 assets: [==========          ] 53%"
       ]
      },
      {
       "output_type": "stream",
       "stream": "stdout",
       "text": [
        "\r",
        "- Loading 601 assets: [==========          ] 53%"
       ]
      },
      {
       "output_type": "stream",
       "stream": "stdout",
       "text": [
        "\r",
        "- Loading 601 assets: [==========          ] 53%"
       ]
      },
      {
       "output_type": "stream",
       "stream": "stdout",
       "text": [
        "\r",
        "- Loading 601 assets: [==========          ] 53%"
       ]
      },
      {
       "output_type": "stream",
       "stream": "stdout",
       "text": [
        "\r",
        "- Loading 601 assets: [==========          ] 53%"
       ]
      },
      {
       "output_type": "stream",
       "stream": "stdout",
       "text": [
        "\r",
        "- Loading 601 assets: [==========          ] 54%"
       ]
      },
      {
       "output_type": "stream",
       "stream": "stdout",
       "text": [
        "\r",
        "- Loading 601 assets: [==========          ] 54%"
       ]
      },
      {
       "output_type": "stream",
       "stream": "stdout",
       "text": [
        "\r",
        "- Loading 601 assets: [==========          ] 54%"
       ]
      },
      {
       "output_type": "stream",
       "stream": "stdout",
       "text": [
        "\r",
        "- Loading 601 assets: [==========          ] 54%"
       ]
      },
      {
       "output_type": "stream",
       "stream": "stdout",
       "text": [
        "\r",
        "- Loading 601 assets: [==========          ] 54%"
       ]
      },
      {
       "output_type": "stream",
       "stream": "stdout",
       "text": [
        "\r",
        "- Loading 601 assets: [==========          ] 54%"
       ]
      },
      {
       "output_type": "stream",
       "stream": "stdout",
       "text": [
        "\r",
        "- Loading 601 assets: [===========         ] 55%"
       ]
      },
      {
       "output_type": "stream",
       "stream": "stdout",
       "text": [
        "\r",
        "- Loading 601 assets: [===========         ] 55%"
       ]
      },
      {
       "output_type": "stream",
       "stream": "stdout",
       "text": [
        "\r",
        "- Loading 601 assets: [===========         ] 55%"
       ]
      },
      {
       "output_type": "stream",
       "stream": "stdout",
       "text": [
        "\r",
        "- Loading 601 assets: [===========         ] 55%"
       ]
      },
      {
       "output_type": "stream",
       "stream": "stdout",
       "text": [
        "\r",
        "- Loading 601 assets: [===========         ] 55%"
       ]
      },
      {
       "output_type": "stream",
       "stream": "stdout",
       "text": [
        "\r",
        "- Loading 601 assets: [===========         ] 55%"
       ]
      },
      {
       "output_type": "stream",
       "stream": "stdout",
       "text": [
        "\r",
        "- Loading 601 assets: [===========         ] 56%"
       ]
      },
      {
       "output_type": "stream",
       "stream": "stdout",
       "text": [
        "\r",
        "- Loading 601 assets: [===========         ] 56%"
       ]
      },
      {
       "output_type": "stream",
       "stream": "stdout",
       "text": [
        "\r",
        "- Loading 601 assets: [===========         ] 56%"
       ]
      },
      {
       "output_type": "stream",
       "stream": "stdout",
       "text": [
        "\r",
        "- Loading 601 assets: [===========         ] 56%"
       ]
      },
      {
       "output_type": "stream",
       "stream": "stdout",
       "text": [
        "\r",
        "- Loading 601 assets: [===========         ] 56%"
       ]
      },
      {
       "output_type": "stream",
       "stream": "stdout",
       "text": [
        "\r",
        "- Loading 601 assets: [===========         ] 56%"
       ]
      },
      {
       "output_type": "stream",
       "stream": "stdout",
       "text": [
        "\r",
        "- Loading 601 assets: [===========         ] 57%"
       ]
      },
      {
       "output_type": "stream",
       "stream": "stdout",
       "text": [
        "\r",
        "- Loading 601 assets: [===========         ] 57%"
       ]
      },
      {
       "output_type": "stream",
       "stream": "stdout",
       "text": [
        "\r",
        "- Loading 601 assets: [===========         ] 57%"
       ]
      },
      {
       "output_type": "stream",
       "stream": "stdout",
       "text": [
        "\r",
        "- Loading 601 assets: [===========         ] 57%"
       ]
      },
      {
       "output_type": "stream",
       "stream": "stdout",
       "text": [
        "\r",
        "- Loading 601 assets: [===========         ] 57%"
       ]
      },
      {
       "output_type": "stream",
       "stream": "stdout",
       "text": [
        "\r",
        "- Loading 601 assets: [===========         ] 57%"
       ]
      },
      {
       "output_type": "stream",
       "stream": "stdout",
       "text": [
        "\r",
        "- Loading 601 assets: [===========         ] 58%"
       ]
      },
      {
       "output_type": "stream",
       "stream": "stdout",
       "text": [
        "\r",
        "- Loading 601 assets: [===========         ] 58%"
       ]
      },
      {
       "output_type": "stream",
       "stream": "stdout",
       "text": [
        "\r",
        "- Loading 601 assets: [===========         ] 58%"
       ]
      },
      {
       "output_type": "stream",
       "stream": "stdout",
       "text": [
        "\r",
        "- Loading 601 assets: [===========         ] 58%"
       ]
      },
      {
       "output_type": "stream",
       "stream": "stdout",
       "text": [
        "\r",
        "- Loading 601 assets: [===========         ] 58%"
       ]
      },
      {
       "output_type": "stream",
       "stream": "stdout",
       "text": [
        "\r",
        "- Loading 601 assets: [===========         ] 58%"
       ]
      },
      {
       "output_type": "stream",
       "stream": "stdout",
       "text": [
        "\r",
        "- Loading 601 assets: [===========         ] 59%"
       ]
      },
      {
       "output_type": "stream",
       "stream": "stdout",
       "text": [
        "\r",
        "- Loading 601 assets: [===========         ] 59%"
       ]
      },
      {
       "output_type": "stream",
       "stream": "stdout",
       "text": [
        "\r",
        "- Loading 601 assets: [===========         ] 59%"
       ]
      },
      {
       "output_type": "stream",
       "stream": "stdout",
       "text": [
        "\r",
        "- Loading 601 assets: [===========         ] 59%"
       ]
      },
      {
       "output_type": "stream",
       "stream": "stdout",
       "text": [
        "\r",
        "- Loading 601 assets: [===========         ] 59%"
       ]
      },
      {
       "output_type": "stream",
       "stream": "stdout",
       "text": [
        "\r",
        "- Loading 601 assets: [===========         ] 59%"
       ]
      },
      {
       "output_type": "stream",
       "stream": "stdout",
       "text": [
        "\r",
        "- Loading 601 assets: [============        ] 60%"
       ]
      },
      {
       "output_type": "stream",
       "stream": "stdout",
       "text": [
        "\r",
        "- Loading 601 assets: [============        ] 60%"
       ]
      },
      {
       "output_type": "stream",
       "stream": "stdout",
       "text": [
        "\r",
        "- Loading 601 assets: [============        ] 60%"
       ]
      },
      {
       "output_type": "stream",
       "stream": "stdout",
       "text": [
        "\r",
        "- Loading 601 assets: [============        ] 60%"
       ]
      },
      {
       "output_type": "stream",
       "stream": "stdout",
       "text": [
        "\r",
        "- Loading 601 assets: [============        ] 60%"
       ]
      },
      {
       "output_type": "stream",
       "stream": "stdout",
       "text": [
        "\r",
        "- Loading 601 assets: [============        ] 60%"
       ]
      },
      {
       "output_type": "stream",
       "stream": "stdout",
       "text": [
        "\r",
        "- Loading 601 assets: [============        ] 61%"
       ]
      },
      {
       "output_type": "stream",
       "stream": "stdout",
       "text": [
        "\r",
        "- Loading 601 assets: [============        ] 61%"
       ]
      },
      {
       "output_type": "stream",
       "stream": "stdout",
       "text": [
        "\r",
        "- Loading 601 assets: [============        ] 61%"
       ]
      },
      {
       "output_type": "stream",
       "stream": "stdout",
       "text": [
        "\r",
        "- Loading 601 assets: [============        ] 61%"
       ]
      },
      {
       "output_type": "stream",
       "stream": "stdout",
       "text": [
        "\r",
        "- Loading 601 assets: [============        ] 61%"
       ]
      },
      {
       "output_type": "stream",
       "stream": "stdout",
       "text": [
        "\r",
        "- Loading 601 assets: [============        ] 61%"
       ]
      },
      {
       "output_type": "stream",
       "stream": "stdout",
       "text": [
        "\r",
        "- Loading 601 assets: [============        ] 62%"
       ]
      },
      {
       "output_type": "stream",
       "stream": "stdout",
       "text": [
        "\r",
        "- Loading 601 assets: [============        ] 62%"
       ]
      },
      {
       "output_type": "stream",
       "stream": "stdout",
       "text": [
        "\r",
        "- Loading 601 assets: [============        ] 62%"
       ]
      },
      {
       "output_type": "stream",
       "stream": "stdout",
       "text": [
        "\r",
        "- Loading 601 assets: [============        ] 62%"
       ]
      },
      {
       "output_type": "stream",
       "stream": "stdout",
       "text": [
        "\r",
        "- Loading 601 assets: [============        ] 62%"
       ]
      },
      {
       "output_type": "stream",
       "stream": "stdout",
       "text": [
        "\r",
        "- Loading 601 assets: [============        ] 62%"
       ]
      },
      {
       "output_type": "stream",
       "stream": "stdout",
       "text": [
        "\r",
        "- Loading 601 assets: [============        ] 63%"
       ]
      },
      {
       "output_type": "stream",
       "stream": "stdout",
       "text": [
        "\r",
        "- Loading 601 assets: [============        ] 63%"
       ]
      },
      {
       "output_type": "stream",
       "stream": "stdout",
       "text": [
        "\r",
        "- Loading 601 assets: [============        ] 63%"
       ]
      },
      {
       "output_type": "stream",
       "stream": "stdout",
       "text": [
        "\r",
        "- Loading 601 assets: [============        ] 63%"
       ]
      },
      {
       "output_type": "stream",
       "stream": "stdout",
       "text": [
        "\r",
        "- Loading 601 assets: [============        ] 63%"
       ]
      },
      {
       "output_type": "stream",
       "stream": "stdout",
       "text": [
        "\r",
        "- Loading 601 assets: [============        ] 63%"
       ]
      },
      {
       "output_type": "stream",
       "stream": "stdout",
       "text": [
        "\r",
        "- Loading 601 assets: [============        ] 64%"
       ]
      },
      {
       "output_type": "stream",
       "stream": "stdout",
       "text": [
        "\r",
        "- Loading 601 assets: [============        ] 64%"
       ]
      },
      {
       "output_type": "stream",
       "stream": "stdout",
       "text": [
        "\r",
        "- Loading 601 assets: [============        ] 64%"
       ]
      },
      {
       "output_type": "stream",
       "stream": "stdout",
       "text": [
        "\r",
        "- Loading 601 assets: [============        ] 64%"
       ]
      },
      {
       "output_type": "stream",
       "stream": "stdout",
       "text": [
        "\r",
        "- Loading 601 assets: [============        ] 64%"
       ]
      },
      {
       "output_type": "stream",
       "stream": "stdout",
       "text": [
        "\r",
        "- Loading 601 assets: [============        ] 64%"
       ]
      },
      {
       "output_type": "stream",
       "stream": "stdout",
       "text": [
        "\r",
        "- Loading 601 assets: [=============       ] 65%"
       ]
      },
      {
       "output_type": "stream",
       "stream": "stdout",
       "text": [
        "\r",
        "- Loading 601 assets: [=============       ] 65%"
       ]
      },
      {
       "output_type": "stream",
       "stream": "stdout",
       "text": [
        "\r",
        "- Loading 601 assets: [=============       ] 65%"
       ]
      },
      {
       "output_type": "stream",
       "stream": "stdout",
       "text": [
        "\r",
        "- Loading 601 assets: [=============       ] 65%"
       ]
      },
      {
       "output_type": "stream",
       "stream": "stdout",
       "text": [
        "\r",
        "- Loading 601 assets: [=============       ] 65%"
       ]
      },
      {
       "output_type": "stream",
       "stream": "stdout",
       "text": [
        "\r",
        "- Loading 601 assets: [=============       ] 65%"
       ]
      },
      {
       "output_type": "stream",
       "stream": "stdout",
       "text": [
        "\r",
        "- Loading 601 assets: [=============       ] 66%"
       ]
      },
      {
       "output_type": "stream",
       "stream": "stdout",
       "text": [
        "\r",
        "- Loading 601 assets: [=============       ] 66%"
       ]
      },
      {
       "output_type": "stream",
       "stream": "stdout",
       "text": [
        "\r",
        "- Loading 601 assets: [=============       ] 66%"
       ]
      },
      {
       "output_type": "stream",
       "stream": "stdout",
       "text": [
        "\r",
        "- Loading 601 assets: [=============       ] 66%"
       ]
      },
      {
       "output_type": "stream",
       "stream": "stdout",
       "text": [
        "\r",
        "- Loading 601 assets: [=============       ] 66%"
       ]
      },
      {
       "output_type": "stream",
       "stream": "stdout",
       "text": [
        "\r",
        "- Loading 601 assets: [=============       ] 66%"
       ]
      },
      {
       "output_type": "stream",
       "stream": "stdout",
       "text": [
        "\r",
        "- Loading 601 assets: [=============       ] 67%"
       ]
      },
      {
       "output_type": "stream",
       "stream": "stdout",
       "text": [
        "\r",
        "- Loading 601 assets: [=============       ] 67%"
       ]
      },
      {
       "output_type": "stream",
       "stream": "stdout",
       "text": [
        "\r",
        "- Loading 601 assets: [=============       ] 67%"
       ]
      },
      {
       "output_type": "stream",
       "stream": "stdout",
       "text": [
        "\r",
        "- Loading 601 assets: [=============       ] 67%"
       ]
      },
      {
       "output_type": "stream",
       "stream": "stdout",
       "text": [
        "\r",
        "- Loading 601 assets: [=============       ] 67%"
       ]
      },
      {
       "output_type": "stream",
       "stream": "stdout",
       "text": [
        "\r",
        "- Loading 601 assets: [=============       ] 67%"
       ]
      },
      {
       "output_type": "stream",
       "stream": "stdout",
       "text": [
        "\r",
        "- Loading 601 assets: [=============       ] 68%"
       ]
      },
      {
       "output_type": "stream",
       "stream": "stdout",
       "text": [
        "\r",
        "- Loading 601 assets: [=============       ] 68%"
       ]
      },
      {
       "output_type": "stream",
       "stream": "stdout",
       "text": [
        "\r",
        "- Loading 601 assets: [=============       ] 68%"
       ]
      },
      {
       "output_type": "stream",
       "stream": "stdout",
       "text": [
        "\r",
        "- Loading 601 assets: [=============       ] 68%"
       ]
      },
      {
       "output_type": "stream",
       "stream": "stdout",
       "text": [
        "\r",
        "- Loading 601 assets: [=============       ] 68%"
       ]
      },
      {
       "output_type": "stream",
       "stream": "stdout",
       "text": [
        "\r",
        "- Loading 601 assets: [=============       ] 68%"
       ]
      },
      {
       "output_type": "stream",
       "stream": "stdout",
       "text": [
        "\r",
        "- Loading 601 assets: [=============       ] 69%"
       ]
      },
      {
       "output_type": "stream",
       "stream": "stdout",
       "text": [
        "\r",
        "- Loading 601 assets: [=============       ] 69%"
       ]
      },
      {
       "output_type": "stream",
       "stream": "stdout",
       "text": [
        "\r",
        "- Loading 601 assets: [=============       ] 69%"
       ]
      },
      {
       "output_type": "stream",
       "stream": "stdout",
       "text": [
        "\r",
        "- Loading 601 assets: [=============       ] 69%"
       ]
      },
      {
       "output_type": "stream",
       "stream": "stdout",
       "text": [
        "\r",
        "- Loading 601 assets: [=============       ] 69%"
       ]
      },
      {
       "output_type": "stream",
       "stream": "stdout",
       "text": [
        "\r",
        "- Loading 601 assets: [=============       ] 69%"
       ]
      },
      {
       "output_type": "stream",
       "stream": "stdout",
       "text": [
        "\r",
        "- Loading 601 assets: [==============      ] 70%"
       ]
      },
      {
       "output_type": "stream",
       "stream": "stdout",
       "text": [
        "\r",
        "- Loading 601 assets: [==============      ] 70%"
       ]
      },
      {
       "output_type": "stream",
       "stream": "stdout",
       "text": [
        "\r",
        "- Loading 601 assets: [==============      ] 70%"
       ]
      },
      {
       "output_type": "stream",
       "stream": "stdout",
       "text": [
        "\r",
        "- Loading 601 assets: [==============      ] 70%"
       ]
      },
      {
       "output_type": "stream",
       "stream": "stdout",
       "text": [
        "\r",
        "- Loading 601 assets: [==============      ] 70%"
       ]
      },
      {
       "output_type": "stream",
       "stream": "stdout",
       "text": [
        "\r",
        "- Loading 601 assets: [==============      ] 70%"
       ]
      },
      {
       "output_type": "stream",
       "stream": "stdout",
       "text": [
        "\r",
        "- Loading 601 assets: [==============      ] 71%"
       ]
      },
      {
       "output_type": "stream",
       "stream": "stdout",
       "text": [
        "\r",
        "- Loading 601 assets: [==============      ] 71%"
       ]
      },
      {
       "output_type": "stream",
       "stream": "stdout",
       "text": [
        "\r",
        "- Loading 601 assets: [==============      ] 71%"
       ]
      },
      {
       "output_type": "stream",
       "stream": "stdout",
       "text": [
        "\r",
        "- Loading 601 assets: [==============      ] 71%"
       ]
      },
      {
       "output_type": "stream",
       "stream": "stdout",
       "text": [
        "\r",
        "- Loading 601 assets: [==============      ] 71%"
       ]
      },
      {
       "output_type": "stream",
       "stream": "stdout",
       "text": [
        "\r",
        "- Loading 601 assets: [==============      ] 71%"
       ]
      },
      {
       "output_type": "stream",
       "stream": "stdout",
       "text": [
        "\r",
        "- Loading 601 assets: [==============      ] 72%"
       ]
      },
      {
       "output_type": "stream",
       "stream": "stdout",
       "text": [
        "\r",
        "- Loading 601 assets: [==============      ] 72%"
       ]
      },
      {
       "output_type": "stream",
       "stream": "stdout",
       "text": [
        "\r",
        "- Loading 601 assets: [==============      ] 72%"
       ]
      },
      {
       "output_type": "stream",
       "stream": "stdout",
       "text": [
        "\r",
        "- Loading 601 assets: [==============      ] 72%"
       ]
      },
      {
       "output_type": "stream",
       "stream": "stdout",
       "text": [
        "\r",
        "- Loading 601 assets: [==============      ] 72%"
       ]
      },
      {
       "output_type": "stream",
       "stream": "stdout",
       "text": [
        "\r",
        "- Loading 601 assets: [==============      ] 72%"
       ]
      },
      {
       "output_type": "stream",
       "stream": "stdout",
       "text": [
        "\r",
        "- Loading 601 assets: [==============      ] 73%"
       ]
      },
      {
       "output_type": "stream",
       "stream": "stdout",
       "text": [
        "\r",
        "- Loading 601 assets: [==============      ] 73%"
       ]
      },
      {
       "output_type": "stream",
       "stream": "stdout",
       "text": [
        "\r",
        "- Loading 601 assets: [==============      ] 73%"
       ]
      },
      {
       "output_type": "stream",
       "stream": "stdout",
       "text": [
        "\r",
        "- Loading 601 assets: [==============      ] 73%"
       ]
      },
      {
       "output_type": "stream",
       "stream": "stdout",
       "text": [
        "\r",
        "- Loading 601 assets: [==============      ] 73%"
       ]
      },
      {
       "output_type": "stream",
       "stream": "stdout",
       "text": [
        "\r",
        "- Loading 601 assets: [==============      ] 73%"
       ]
      },
      {
       "output_type": "stream",
       "stream": "stdout",
       "text": [
        "\r",
        "- Loading 601 assets: [==============      ] 74%"
       ]
      },
      {
       "output_type": "stream",
       "stream": "stdout",
       "text": [
        "\r",
        "- Loading 601 assets: [==============      ] 74%"
       ]
      },
      {
       "output_type": "stream",
       "stream": "stdout",
       "text": [
        "\r",
        "- Loading 601 assets: [==============      ] 74%"
       ]
      },
      {
       "output_type": "stream",
       "stream": "stdout",
       "text": [
        "\r",
        "- Loading 601 assets: [==============      ] 74%"
       ]
      },
      {
       "output_type": "stream",
       "stream": "stdout",
       "text": [
        "\r",
        "- Loading 601 assets: [==============      ] 74%"
       ]
      },
      {
       "output_type": "stream",
       "stream": "stdout",
       "text": [
        "\r",
        "- Loading 601 assets: [==============      ] 74%"
       ]
      },
      {
       "output_type": "stream",
       "stream": "stdout",
       "text": [
        "\r",
        "- Loading 601 assets: [===============     ] 75%"
       ]
      },
      {
       "output_type": "stream",
       "stream": "stdout",
       "text": [
        "\r",
        "- Loading 601 assets: [===============     ] 75%"
       ]
      },
      {
       "output_type": "stream",
       "stream": "stdout",
       "text": [
        "\r",
        "- Loading 601 assets: [===============     ] 75%"
       ]
      },
      {
       "output_type": "stream",
       "stream": "stdout",
       "text": [
        "\r",
        "- Loading 601 assets: [===============     ] 75%"
       ]
      },
      {
       "output_type": "stream",
       "stream": "stdout",
       "text": [
        "\r",
        "- Loading 601 assets: [===============     ] 75%"
       ]
      },
      {
       "output_type": "stream",
       "stream": "stdout",
       "text": [
        "\r",
        "- Loading 601 assets: [===============     ] 75%"
       ]
      },
      {
       "output_type": "stream",
       "stream": "stdout",
       "text": [
        "\r",
        "- Loading 601 assets: [===============     ] 76%"
       ]
      },
      {
       "output_type": "stream",
       "stream": "stdout",
       "text": [
        "\r",
        "- Loading 601 assets: [===============     ] 76%"
       ]
      },
      {
       "output_type": "stream",
       "stream": "stdout",
       "text": [
        "\r",
        "- Loading 601 assets: [===============     ] 76%"
       ]
      },
      {
       "output_type": "stream",
       "stream": "stdout",
       "text": [
        "\r",
        "- Loading 601 assets: [===============     ] 76%"
       ]
      },
      {
       "output_type": "stream",
       "stream": "stdout",
       "text": [
        "\r",
        "- Loading 601 assets: [===============     ] 76%"
       ]
      },
      {
       "output_type": "stream",
       "stream": "stdout",
       "text": [
        "\r",
        "- Loading 601 assets: [===============     ] 76%"
       ]
      },
      {
       "output_type": "stream",
       "stream": "stdout",
       "text": [
        "\r",
        "- Loading 601 assets: [===============     ] 77%"
       ]
      },
      {
       "output_type": "stream",
       "stream": "stdout",
       "text": [
        "\r",
        "- Loading 601 assets: [===============     ] 77%"
       ]
      },
      {
       "output_type": "stream",
       "stream": "stdout",
       "text": [
        "\r",
        "- Loading 601 assets: [===============     ] 77%"
       ]
      },
      {
       "output_type": "stream",
       "stream": "stdout",
       "text": [
        "\r",
        "- Loading 601 assets: [===============     ] 77%"
       ]
      },
      {
       "output_type": "stream",
       "stream": "stdout",
       "text": [
        "\r",
        "- Loading 601 assets: [===============     ] 77%"
       ]
      },
      {
       "output_type": "stream",
       "stream": "stdout",
       "text": [
        "\r",
        "- Loading 601 assets: [===============     ] 77%"
       ]
      },
      {
       "output_type": "stream",
       "stream": "stdout",
       "text": [
        "\r",
        "- Loading 601 assets: [===============     ] 78%"
       ]
      },
      {
       "output_type": "stream",
       "stream": "stdout",
       "text": [
        "\r",
        "- Loading 601 assets: [===============     ] 78%"
       ]
      },
      {
       "output_type": "stream",
       "stream": "stdout",
       "text": [
        "\r",
        "- Loading 601 assets: [===============     ] 78%"
       ]
      },
      {
       "output_type": "stream",
       "stream": "stdout",
       "text": [
        "\r",
        "- Loading 601 assets: [===============     ] 78%"
       ]
      },
      {
       "output_type": "stream",
       "stream": "stdout",
       "text": [
        "\r",
        "- Loading 601 assets: [===============     ] 78%"
       ]
      },
      {
       "output_type": "stream",
       "stream": "stdout",
       "text": [
        "\r",
        "- Loading 601 assets: [===============     ] 78%"
       ]
      },
      {
       "output_type": "stream",
       "stream": "stdout",
       "text": [
        "\r",
        "- Loading 601 assets: [===============     ] 79%"
       ]
      },
      {
       "output_type": "stream",
       "stream": "stdout",
       "text": [
        "\r",
        "- Loading 601 assets: [===============     ] 79%"
       ]
      },
      {
       "output_type": "stream",
       "stream": "stdout",
       "text": [
        "\r",
        "- Loading 601 assets: [===============     ] 79%"
       ]
      },
      {
       "output_type": "stream",
       "stream": "stdout",
       "text": [
        "\r",
        "- Loading 601 assets: [===============     ] 79%"
       ]
      },
      {
       "output_type": "stream",
       "stream": "stdout",
       "text": [
        "\r",
        "- Loading 601 assets: [===============     ] 79%"
       ]
      },
      {
       "output_type": "stream",
       "stream": "stdout",
       "text": [
        "\r",
        "- Loading 601 assets: [===============     ] 79%"
       ]
      },
      {
       "output_type": "stream",
       "stream": "stdout",
       "text": [
        "\r",
        "- Loading 601 assets: [================    ] 80%"
       ]
      },
      {
       "output_type": "stream",
       "stream": "stdout",
       "text": [
        "\r",
        "- Loading 601 assets: [================    ] 80%"
       ]
      },
      {
       "output_type": "stream",
       "stream": "stdout",
       "text": [
        "\r",
        "- Loading 601 assets: [================    ] 80%"
       ]
      },
      {
       "output_type": "stream",
       "stream": "stdout",
       "text": [
        "\r",
        "- Loading 601 assets: [================    ] 80%"
       ]
      },
      {
       "output_type": "stream",
       "stream": "stdout",
       "text": [
        "\r",
        "- Loading 601 assets: [================    ] 80%"
       ]
      },
      {
       "output_type": "stream",
       "stream": "stdout",
       "text": [
        "\r",
        "- Loading 601 assets: [================    ] 80%"
       ]
      },
      {
       "output_type": "stream",
       "stream": "stdout",
       "text": [
        "\r",
        "- Loading 601 assets: [================    ] 81%"
       ]
      },
      {
       "output_type": "stream",
       "stream": "stdout",
       "text": [
        "\r",
        "- Loading 601 assets: [================    ] 81%"
       ]
      },
      {
       "output_type": "stream",
       "stream": "stdout",
       "text": [
        "\r",
        "- Loading 601 assets: [================    ] 81%"
       ]
      },
      {
       "output_type": "stream",
       "stream": "stdout",
       "text": [
        "\r",
        "- Loading 601 assets: [================    ] 81%"
       ]
      },
      {
       "output_type": "stream",
       "stream": "stdout",
       "text": [
        "\r",
        "- Loading 601 assets: [================    ] 81%"
       ]
      },
      {
       "output_type": "stream",
       "stream": "stdout",
       "text": [
        "\r",
        "- Loading 601 assets: [================    ] 81%"
       ]
      },
      {
       "output_type": "stream",
       "stream": "stdout",
       "text": [
        "\r",
        "- Loading 601 assets: [================    ] 82%"
       ]
      },
      {
       "output_type": "stream",
       "stream": "stdout",
       "text": [
        "\r",
        "- Loading 601 assets: [================    ] 82%"
       ]
      },
      {
       "output_type": "stream",
       "stream": "stdout",
       "text": [
        "\r",
        "- Loading 601 assets: [================    ] 82%"
       ]
      },
      {
       "output_type": "stream",
       "stream": "stdout",
       "text": [
        "\r",
        "- Loading 601 assets: [================    ] 82%"
       ]
      },
      {
       "output_type": "stream",
       "stream": "stdout",
       "text": [
        "\r",
        "- Loading 601 assets: [================    ] 82%"
       ]
      },
      {
       "output_type": "stream",
       "stream": "stdout",
       "text": [
        "\r",
        "- Loading 601 assets: [================    ] 82%"
       ]
      },
      {
       "output_type": "stream",
       "stream": "stdout",
       "text": [
        "\r",
        "- Loading 601 assets: [================    ] 83%"
       ]
      },
      {
       "output_type": "stream",
       "stream": "stdout",
       "text": [
        "\r",
        "- Loading 601 assets: [================    ] 83%"
       ]
      },
      {
       "output_type": "stream",
       "stream": "stdout",
       "text": [
        "\r",
        "- Loading 601 assets: [================    ] 83%"
       ]
      },
      {
       "output_type": "stream",
       "stream": "stdout",
       "text": [
        "\r",
        "- Loading 601 assets: [================    ] 83%"
       ]
      },
      {
       "output_type": "stream",
       "stream": "stdout",
       "text": [
        "\r",
        "- Loading 601 assets: [================    ] 83%"
       ]
      },
      {
       "output_type": "stream",
       "stream": "stdout",
       "text": [
        "\r",
        "- Loading 601 assets: [================    ] 83%"
       ]
      },
      {
       "output_type": "stream",
       "stream": "stdout",
       "text": [
        "\r",
        "- Loading 601 assets: [================    ] 84%"
       ]
      },
      {
       "output_type": "stream",
       "stream": "stdout",
       "text": [
        "\r",
        "- Loading 601 assets: [================    ] 84%"
       ]
      },
      {
       "output_type": "stream",
       "stream": "stdout",
       "text": [
        "\r",
        "- Loading 601 assets: [================    ] 84%"
       ]
      },
      {
       "output_type": "stream",
       "stream": "stdout",
       "text": [
        "\r",
        "- Loading 601 assets: [================    ] 84%"
       ]
      },
      {
       "output_type": "stream",
       "stream": "stdout",
       "text": [
        "\r",
        "- Loading 601 assets: [================    ] 84%"
       ]
      },
      {
       "output_type": "stream",
       "stream": "stdout",
       "text": [
        "\r",
        "- Loading 601 assets: [================    ] 84%"
       ]
      },
      {
       "output_type": "stream",
       "stream": "stdout",
       "text": [
        "\r",
        "- Loading 601 assets: [=================   ] 85%"
       ]
      },
      {
       "output_type": "stream",
       "stream": "stdout",
       "text": [
        "\r",
        "- Loading 601 assets: [=================   ] 85%"
       ]
      },
      {
       "output_type": "stream",
       "stream": "stdout",
       "text": [
        "\r",
        "- Loading 601 assets: [=================   ] 85%"
       ]
      },
      {
       "output_type": "stream",
       "stream": "stdout",
       "text": [
        "\r",
        "- Loading 601 assets: [=================   ] 85%"
       ]
      },
      {
       "output_type": "stream",
       "stream": "stdout",
       "text": [
        "\r",
        "- Loading 601 assets: [=================   ] 85%"
       ]
      },
      {
       "output_type": "stream",
       "stream": "stdout",
       "text": [
        "\r",
        "- Loading 601 assets: [=================   ] 85%"
       ]
      },
      {
       "output_type": "stream",
       "stream": "stdout",
       "text": [
        "\r",
        "- Loading 601 assets: [=================   ] 86%"
       ]
      },
      {
       "output_type": "stream",
       "stream": "stdout",
       "text": [
        "\r",
        "- Loading 601 assets: [=================   ] 86%"
       ]
      },
      {
       "output_type": "stream",
       "stream": "stdout",
       "text": [
        "\r",
        "- Loading 601 assets: [=================   ] 86%"
       ]
      },
      {
       "output_type": "stream",
       "stream": "stdout",
       "text": [
        "\r",
        "- Loading 601 assets: [=================   ] 86%"
       ]
      },
      {
       "output_type": "stream",
       "stream": "stdout",
       "text": [
        "\r",
        "- Loading 601 assets: [=================   ] 86%"
       ]
      },
      {
       "output_type": "stream",
       "stream": "stdout",
       "text": [
        "\r",
        "- Loading 601 assets: [=================   ] 86%"
       ]
      },
      {
       "output_type": "stream",
       "stream": "stdout",
       "text": [
        "\r",
        "- Loading 601 assets: [=================   ] 87%"
       ]
      },
      {
       "output_type": "stream",
       "stream": "stdout",
       "text": [
        "\r",
        "- Loading 601 assets: [=================   ] 87%"
       ]
      },
      {
       "output_type": "stream",
       "stream": "stdout",
       "text": [
        "\r",
        "- Loading 601 assets: [=================   ] 87%"
       ]
      },
      {
       "output_type": "stream",
       "stream": "stdout",
       "text": [
        "\r",
        "- Loading 601 assets: [=================   ] 87%"
       ]
      },
      {
       "output_type": "stream",
       "stream": "stdout",
       "text": [
        "\r",
        "- Loading 601 assets: [=================   ] 87%"
       ]
      },
      {
       "output_type": "stream",
       "stream": "stdout",
       "text": [
        "\r",
        "- Loading 601 assets: [=================   ] 87%"
       ]
      },
      {
       "output_type": "stream",
       "stream": "stdout",
       "text": [
        "\r",
        "- Loading 601 assets: [=================   ] 88%"
       ]
      },
      {
       "output_type": "stream",
       "stream": "stdout",
       "text": [
        "\r",
        "- Loading 601 assets: [=================   ] 88%"
       ]
      },
      {
       "output_type": "stream",
       "stream": "stdout",
       "text": [
        "\r",
        "- Loading 601 assets: [=================   ] 88%"
       ]
      },
      {
       "output_type": "stream",
       "stream": "stdout",
       "text": [
        "\r",
        "- Loading 601 assets: [=================   ] 88%"
       ]
      },
      {
       "output_type": "stream",
       "stream": "stdout",
       "text": [
        "\r",
        "- Loading 601 assets: [=================   ] 88%"
       ]
      },
      {
       "output_type": "stream",
       "stream": "stdout",
       "text": [
        "\r",
        "- Loading 601 assets: [=================   ] 88%"
       ]
      },
      {
       "output_type": "stream",
       "stream": "stdout",
       "text": [
        "\r",
        "- Loading 601 assets: [=================   ] 89%"
       ]
      },
      {
       "output_type": "stream",
       "stream": "stdout",
       "text": [
        "\r",
        "- Loading 601 assets: [=================   ] 89%"
       ]
      },
      {
       "output_type": "stream",
       "stream": "stdout",
       "text": [
        "\r",
        "- Loading 601 assets: [=================   ] 89%"
       ]
      },
      {
       "output_type": "stream",
       "stream": "stdout",
       "text": [
        "\r",
        "- Loading 601 assets: [=================   ] 89%"
       ]
      },
      {
       "output_type": "stream",
       "stream": "stdout",
       "text": [
        "\r",
        "- Loading 601 assets: [=================   ] 89%"
       ]
      },
      {
       "output_type": "stream",
       "stream": "stdout",
       "text": [
        "\r",
        "- Loading 601 assets: [=================   ] 89%"
       ]
      },
      {
       "output_type": "stream",
       "stream": "stdout",
       "text": [
        "\r",
        "- Loading 601 assets: [==================  ] 90%"
       ]
      },
      {
       "output_type": "stream",
       "stream": "stdout",
       "text": [
        "\r",
        "- Loading 601 assets: [==================  ] 90%"
       ]
      },
      {
       "output_type": "stream",
       "stream": "stdout",
       "text": [
        "\r",
        "- Loading 601 assets: [==================  ] 90%"
       ]
      },
      {
       "output_type": "stream",
       "stream": "stdout",
       "text": [
        "\r",
        "- Loading 601 assets: [==================  ] 90%"
       ]
      },
      {
       "output_type": "stream",
       "stream": "stdout",
       "text": [
        "\r",
        "- Loading 601 assets: [==================  ] 90%"
       ]
      },
      {
       "output_type": "stream",
       "stream": "stdout",
       "text": [
        "\r",
        "- Loading 601 assets: [==================  ] 90%"
       ]
      },
      {
       "output_type": "stream",
       "stream": "stdout",
       "text": [
        "\r",
        "- Loading 601 assets: [==================  ] 91%"
       ]
      },
      {
       "output_type": "stream",
       "stream": "stdout",
       "text": [
        "\r",
        "- Loading 601 assets: [==================  ] 91%"
       ]
      },
      {
       "output_type": "stream",
       "stream": "stdout",
       "text": [
        "\r",
        "- Loading 601 assets: [==================  ] 91%"
       ]
      },
      {
       "output_type": "stream",
       "stream": "stdout",
       "text": [
        "\r",
        "- Loading 601 assets: [==================  ] 91%"
       ]
      },
      {
       "output_type": "stream",
       "stream": "stdout",
       "text": [
        "\r",
        "- Loading 601 assets: [==================  ] 91%"
       ]
      },
      {
       "output_type": "stream",
       "stream": "stdout",
       "text": [
        "\r",
        "- Loading 601 assets: [==================  ] 91%"
       ]
      },
      {
       "output_type": "stream",
       "stream": "stdout",
       "text": [
        "\r",
        "- Loading 601 assets: [==================  ] 92%"
       ]
      },
      {
       "output_type": "stream",
       "stream": "stdout",
       "text": [
        "\r",
        "- Loading 601 assets: [==================  ] 92%"
       ]
      },
      {
       "output_type": "stream",
       "stream": "stdout",
       "text": [
        "\r",
        "- Loading 601 assets: [==================  ] 92%"
       ]
      },
      {
       "output_type": "stream",
       "stream": "stdout",
       "text": [
        "\r",
        "- Loading 601 assets: [==================  ] 92%"
       ]
      },
      {
       "output_type": "stream",
       "stream": "stdout",
       "text": [
        "\r",
        "- Loading 601 assets: [==================  ] 92%"
       ]
      },
      {
       "output_type": "stream",
       "stream": "stdout",
       "text": [
        "\r",
        "- Loading 601 assets: [==================  ] 92%"
       ]
      },
      {
       "output_type": "stream",
       "stream": "stdout",
       "text": [
        "\r",
        "- Loading 601 assets: [==================  ] 93%"
       ]
      },
      {
       "output_type": "stream",
       "stream": "stdout",
       "text": [
        "\r",
        "- Loading 601 assets: [==================  ] 93%"
       ]
      },
      {
       "output_type": "stream",
       "stream": "stdout",
       "text": [
        "\r",
        "- Loading 601 assets: [==================  ] 93%"
       ]
      },
      {
       "output_type": "stream",
       "stream": "stdout",
       "text": [
        "\r",
        "- Loading 601 assets: [==================  ] 93%"
       ]
      },
      {
       "output_type": "stream",
       "stream": "stdout",
       "text": [
        "\r",
        "- Loading 601 assets: [==================  ] 93%"
       ]
      },
      {
       "output_type": "stream",
       "stream": "stdout",
       "text": [
        "\r",
        "- Loading 601 assets: [==================  ] 93%"
       ]
      },
      {
       "output_type": "stream",
       "stream": "stdout",
       "text": [
        "\r",
        "- Loading 601 assets: [==================  ] 94%"
       ]
      },
      {
       "output_type": "stream",
       "stream": "stdout",
       "text": [
        "\r",
        "- Loading 601 assets: [==================  ] 94%"
       ]
      },
      {
       "output_type": "stream",
       "stream": "stdout",
       "text": [
        "\r",
        "- Loading 601 assets: [==================  ] 94%"
       ]
      },
      {
       "output_type": "stream",
       "stream": "stdout",
       "text": [
        "\r",
        "- Loading 601 assets: [==================  ] 94%"
       ]
      },
      {
       "output_type": "stream",
       "stream": "stdout",
       "text": [
        "\r",
        "- Loading 601 assets: [==================  ] 94%"
       ]
      },
      {
       "output_type": "stream",
       "stream": "stdout",
       "text": [
        "\r",
        "- Loading 601 assets: [==================  ] 94%"
       ]
      },
      {
       "output_type": "stream",
       "stream": "stdout",
       "text": [
        "\r",
        "- Loading 601 assets: [=================== ] 95%"
       ]
      },
      {
       "output_type": "stream",
       "stream": "stdout",
       "text": [
        "\r",
        "- Loading 601 assets: [=================== ] 95%"
       ]
      },
      {
       "output_type": "stream",
       "stream": "stdout",
       "text": [
        "\r",
        "- Loading 601 assets: [=================== ] 95%"
       ]
      },
      {
       "output_type": "stream",
       "stream": "stdout",
       "text": [
        "\r",
        "- Loading 601 assets: [=================== ] 95%"
       ]
      },
      {
       "output_type": "stream",
       "stream": "stdout",
       "text": [
        "\r",
        "- Loading 601 assets: [=================== ] 95%"
       ]
      },
      {
       "output_type": "stream",
       "stream": "stdout",
       "text": [
        "\r",
        "- Loading 601 assets: [=================== ] 95%"
       ]
      },
      {
       "output_type": "stream",
       "stream": "stdout",
       "text": [
        "\r",
        "- Loading 601 assets: [=================== ] 96%"
       ]
      },
      {
       "output_type": "stream",
       "stream": "stdout",
       "text": [
        "\r",
        "- Loading 601 assets: [=================== ] 96%"
       ]
      },
      {
       "output_type": "stream",
       "stream": "stdout",
       "text": [
        "\r",
        "- Loading 601 assets: [=================== ] 96%"
       ]
      },
      {
       "output_type": "stream",
       "stream": "stdout",
       "text": [
        "\r",
        "- Loading 601 assets: [=================== ] 96%"
       ]
      },
      {
       "output_type": "stream",
       "stream": "stdout",
       "text": [
        "\r",
        "- Loading 601 assets: [=================== ] 96%"
       ]
      },
      {
       "output_type": "stream",
       "stream": "stdout",
       "text": [
        "\r",
        "- Loading 601 assets: [=================== ] 96%"
       ]
      },
      {
       "output_type": "stream",
       "stream": "stdout",
       "text": [
        "\r",
        "- Loading 601 assets: [=================== ] 97%"
       ]
      },
      {
       "output_type": "stream",
       "stream": "stdout",
       "text": [
        "\r",
        "- Loading 601 assets: [=================== ] 97%"
       ]
      },
      {
       "output_type": "stream",
       "stream": "stdout",
       "text": [
        "\r",
        "- Loading 601 assets: [=================== ] 97%"
       ]
      },
      {
       "output_type": "stream",
       "stream": "stdout",
       "text": [
        "\r",
        "- Loading 601 assets: [=================== ] 97%"
       ]
      },
      {
       "output_type": "stream",
       "stream": "stdout",
       "text": [
        "\r",
        "- Loading 601 assets: [=================== ] 97%"
       ]
      },
      {
       "output_type": "stream",
       "stream": "stdout",
       "text": [
        "\r",
        "- Loading 601 assets: [=================== ] 97%"
       ]
      },
      {
       "output_type": "stream",
       "stream": "stdout",
       "text": [
        "\r",
        "- Loading 601 assets: [=================== ] 98%"
       ]
      },
      {
       "output_type": "stream",
       "stream": "stdout",
       "text": [
        "\r",
        "- Loading 601 assets: [=================== ] 98%"
       ]
      },
      {
       "output_type": "stream",
       "stream": "stdout",
       "text": [
        "\r",
        "- Loading 601 assets: [=================== ] 98%"
       ]
      },
      {
       "output_type": "stream",
       "stream": "stdout",
       "text": [
        "\r",
        "- Loading 601 assets: [=================== ] 98%"
       ]
      },
      {
       "output_type": "stream",
       "stream": "stdout",
       "text": [
        "\r",
        "- Loading 601 assets: [=================== ] 98%"
       ]
      },
      {
       "output_type": "stream",
       "stream": "stdout",
       "text": [
        "\r",
        "- Loading 601 assets: [=================== ] 98%"
       ]
      },
      {
       "output_type": "stream",
       "stream": "stdout",
       "text": [
        "\r",
        "- Loading 601 assets: [=================== ] 99%"
       ]
      },
      {
       "output_type": "stream",
       "stream": "stdout",
       "text": [
        "\r",
        "- Loading 601 assets: [=================== ] 99%"
       ]
      },
      {
       "output_type": "stream",
       "stream": "stdout",
       "text": [
        "\r",
        "- Loading 601 assets: [=================== ] 99%"
       ]
      },
      {
       "output_type": "stream",
       "stream": "stdout",
       "text": [
        "\r",
        "- Loading 601 assets: [=================== ] 99%"
       ]
      },
      {
       "output_type": "stream",
       "stream": "stdout",
       "text": [
        "\r",
        "- Loading 601 assets: [=================== ] 99%"
       ]
      },
      {
       "output_type": "stream",
       "stream": "stdout",
       "text": [
        "\r",
        "- Loading 601 assets: [=================== ] 99%"
       ]
      },
      {
       "output_type": "stream",
       "stream": "stdout",
       "text": [
        "\r",
        "- Loading 601 assets: [====================] 100%"
       ]
      }
     ],
     "prompt_number": 2
    },
    {
     "cell_type": "code",
     "collapsed": false,
     "input": [
      "test_images = test_images[1::2]"
     ],
     "language": "python",
     "metadata": {},
     "outputs": [],
     "prompt_number": 3
    },
    {
     "cell_type": "code",
     "collapsed": false,
     "input": [
      "from menpo.visualize import visualize_images\n",
      "\n",
      "visualize_images(test_images)"
     ],
     "language": "python",
     "metadata": {},
     "outputs": [
      {
       "metadata": {},
       "output_type": "display_data",
       "png": "[encoded data removed]",
       "text": [
        "<matplotlib.figure.Figure at 0x7f7e58132d90>"
       ]
      }
     ],
     "prompt_number": 4
    },
    {
     "cell_type": "heading",
     "level": 1,
     "metadata": {},
     "source": [
      "Load models"
     ]
    },
    {
     "cell_type": "code",
     "collapsed": false,
     "input": [
      "from alabortcvpr2015.utils import pickle_load\n",
      "\n",
      "global_unified = pickle_load(path + 'PhD/Models/global_unified_view2_fast_dsift')"
     ],
     "language": "python",
     "metadata": {},
     "outputs": [],
     "prompt_number": 5
    },
    {
     "cell_type": "heading",
     "level": 1,
     "metadata": {},
     "source": [
      "Construct fitters"
     ]
    },
    {
     "cell_type": "code",
     "collapsed": false,
     "input": [
      "sampling_step = 5\n",
      "\n",
      "sampling_mask = np.require(np.zeros(parts_aam.parts_shape), dtype=np.bool)\n",
      "sampling_mask[::sampling_step, ::sampling_step] = True\n",
      "\n",
      "imshow(sampling_mask)"
     ],
     "language": "python",
     "metadata": {},
     "outputs": [
      {
       "ename": "NameError",
       "evalue": "name 'parts_aam' is not defined",
       "output_type": "pyerr",
       "traceback": [
        "\u001b[1;31m---------------------------------------------------------------------------\u001b[0m\n\u001b[1;31mNameError\u001b[0m                                 Traceback (most recent call last)",
        "\u001b[1;32m<ipython-input-6-1305e4ec396f>\u001b[0m in \u001b[0;36m<module>\u001b[1;34m()\u001b[0m\n\u001b[0;32m      1\u001b[0m \u001b[0msampling_step\u001b[0m \u001b[1;33m=\u001b[0m \u001b[1;36m5\u001b[0m\u001b[1;33m\u001b[0m\u001b[0m\n\u001b[0;32m      2\u001b[0m \u001b[1;33m\u001b[0m\u001b[0m\n\u001b[1;32m----> 3\u001b[1;33m \u001b[0msampling_mask\u001b[0m \u001b[1;33m=\u001b[0m \u001b[0mnp\u001b[0m\u001b[1;33m.\u001b[0m\u001b[0mrequire\u001b[0m\u001b[1;33m(\u001b[0m\u001b[0mnp\u001b[0m\u001b[1;33m.\u001b[0m\u001b[0mzeros\u001b[0m\u001b[1;33m(\u001b[0m\u001b[0mparts_aam\u001b[0m\u001b[1;33m.\u001b[0m\u001b[0mparts_shape\u001b[0m\u001b[1;33m)\u001b[0m\u001b[1;33m,\u001b[0m \u001b[0mdtype\u001b[0m\u001b[1;33m=\u001b[0m\u001b[0mnp\u001b[0m\u001b[1;33m.\u001b[0m\u001b[0mbool\u001b[0m\u001b[1;33m)\u001b[0m\u001b[1;33m\u001b[0m\u001b[0m\n\u001b[0m\u001b[0;32m      4\u001b[0m \u001b[0msampling_mask\u001b[0m\u001b[1;33m[\u001b[0m\u001b[1;33m:\u001b[0m\u001b[1;33m:\u001b[0m\u001b[0msampling_step\u001b[0m\u001b[1;33m,\u001b[0m \u001b[1;33m:\u001b[0m\u001b[1;33m:\u001b[0m\u001b[0msampling_step\u001b[0m\u001b[1;33m]\u001b[0m \u001b[1;33m=\u001b[0m \u001b[0mTrue\u001b[0m\u001b[1;33m\u001b[0m\u001b[0m\n\u001b[0;32m      5\u001b[0m \u001b[1;33m\u001b[0m\u001b[0m\n",
        "\u001b[1;31mNameError\u001b[0m: name 'parts_aam' is not defined"
       ]
      }
     ],
     "prompt_number": 6
    },
    {
     "cell_type": "code",
     "collapsed": false,
     "input": [
      "from alabortcvpr2015.aam import PartsAAMFitter, GlobalAAMFitter, AIC, PIC\n",
      "from alabortcvpr2015.clm import CLMFitter\n",
      "from alabortcvpr2015.unified import PartsUnifiedFitter, GlobalUnifiedFitter, AICRLMS, PICRLMS\n",
      "\n",
      "n_shape = [3, 12]\n",
      "n_appearance = [25, 50]\n",
      "\n",
      "global_unified_fitter_pic = GlobalUnifiedFitter(global_unified, algorithm_cls=PICRLMS, \n",
      "                                                n_shape=n_shape, n_appearance=n_appearance, \n",
      "                                                sampling_step=sampling_step)\n",
      "global_unified_fitter_aic = GlobalUnifiedFitter(global_unified, algorithm_cls=AICRLMS, \n",
      "                                                n_shape=n_shape, n_appearance=n_appearance, \n",
      "                                                sampling_step=sampling_step)"
     ],
     "language": "python",
     "metadata": {},
     "outputs": [],
     "prompt_number": 7
    },
    {
     "cell_type": "code",
     "collapsed": false,
     "input": [
      "fitters = [global_unified_fitter_pic, global_unified_fitter_aic]"
     ],
     "language": "python",
     "metadata": {},
     "outputs": [],
     "prompt_number": 8
    },
    {
     "cell_type": "code",
     "collapsed": false,
     "input": [
      "repeat = 1\n",
      "\n",
      "results = [[], [], [], [], [], [], [], [], []]\n",
      "\n",
      "for seed in xrange(repeat):\n",
      "    \n",
      "    np.random.seed(seed=seed)\n",
      "\n",
      "    for j, i in enumerate(test_images):\n",
      "\n",
      "        gt_s = i.landmarks[group].lms\n",
      "        s = fitters[0].perturb_shape(gt_s, noise_std=0.05)\n",
      "        \n",
      "        for k, fitter in enumerate(fitters):\n",
      "\n",
      "            fr = fitter.fit(i, s, gt_shape=gt_s, max_iters=20, prior=False, a=0.7)\n",
      "\n",
      "            results[k].append(fr)\n",
      "            fr.downscale = 0.5\n",
      "\n",
      "            print 'Image: ', j\n",
      "            print fr"
     ],
     "language": "python",
     "metadata": {},
     "outputs": [
      {
       "output_type": "stream",
       "stream": "stderr",
       "text": [
        "Exception OverflowError: 'Python int too large to convert to C long' in 'menpofast.image.cython.extract_patches.calc_slices' ignored\n",
        "Exception ValueError: ValueError('got differing extents in dimension 1 (got 29 and 0)',) in 'menpofast.image.cython.extract_patches.slice_image' ignored\n",
        "/data/pythondev/src/alabortcvpr2015/alabortcvpr2015/clm/classifier.py:95: RuntimeWarning: invalid value encountered in true_divide\n",
        "  axis=(-2, -1))[..., None, None]\n",
        "Exception OverflowError: 'Python int too large to convert to C long' in 'menpofast.image.cython.extract_patches.calc_slices' ignored\n",
        "Exception ValueError: ValueError('got differing extents in dimension 1 (got 29 and 0)',) in 'menpofast.image.cython.extract_patches.slice_image' ignored\n",
        "Exception OverflowError: 'Python int too large to convert to C long' in 'menpofast.image.cython.extract_patches.calc_slices' ignored\n",
        "Exception ValueError: ValueError('got differing extents in dimension 1 (got 29 and 0)',) in 'menpofast.image.cython.extract_patches.slice_image' ignored\n",
        "Exception OverflowError: 'Python int too large to convert to C long' in 'menpofast.image.cython.extract_patches.calc_slices' ignored\n",
        "Exception ValueError: ValueError('got differing extents in dimension 1 (got 29 and 0)',) in 'menpofast.image.cython.extract_patches.slice_image' ignored\n",
        "Exception "
       ]
      },
      {
       "output_type": "stream",
       "stream": "stderr",
       "text": [
        "OverflowError: 'Python int too large to convert to C long' in 'menpofast.image.cython.extract_patches.calc_slices' ignored\n",
        "Exception ValueError: ValueError('got differing extents in dimension 1 (got 29 and 0)',) in 'menpofast.image.cython.extract_patches.slice_image' ignored\n",
        "Exception OverflowError: 'Python int too large to convert to C long' in 'menpofast.image.cython.extract_patches.calc_slices' ignored\n",
        "Exception ValueError: ValueError('got differing extents in dimension 1 (got 29 and 0)',) in 'menpofast.image.cython.extract_patches.slice_image' ignored\n",
        "Exception OverflowError: 'Python int too large to convert to C long' in 'menpofast.image.cython.extract_patches.calc_slices' ignored\n",
        "Exception ValueError: ValueError('got differing extents in dimension 1 (got 29 and 0)',) in 'menpofast.image.cython.extract_patches.slice_image' ignored\n",
        "Exception OverflowError: 'Python int too large to convert to C long' in 'menpofast.image.cython.extract_patches.calc_slices' ignored\n",
        "Exception ValueError: ValueError('got differing extents in dimension 1 (got 29 and 0)',) in 'menpofast.image.cython.extract_patches.slice_image' ignored\n",
        "Exception "
       ]
      },
      {
       "output_type": "stream",
       "stream": "stdout",
       "text": [
        "Image:  0\n",
        "Initial error: 0.1660\n",
        "Final error: 0.1183\n",
        "Image: "
       ]
      },
      {
       "output_type": "stream",
       "stream": "stdout",
       "text": [
        " 0\n",
        "Initial error: 0.1660\n",
        "Final error: nan\n",
        "Image: "
       ]
      },
      {
       "output_type": "stream",
       "stream": "stderr",
       "text": [
        "OverflowError: 'Python int too large to convert to C long' in 'menpofast.image.cython.extract_patches.calc_slices' ignored\n",
        "Exception ValueError: ValueError('got differing extents in dimension 1 (got 29 and 0)',) in 'menpofast.image.cython.extract_patches.slice_image' ignored\n",
        "Exception "
       ]
      },
      {
       "output_type": "stream",
       "stream": "stderr",
       "text": [
        "OverflowError: 'Python int too large to convert to C long' in 'menpofast.image.cython.extract_patches.calc_slices' ignored\n",
        "Exception ValueError: ValueError('got differing extents in dimension 1 (got 29 and 0)',) in 'menpofast.image.cython.extract_patches.slice_image' ignored\n",
        "Exception OverflowError: 'Python int too large to convert to C long' in 'menpofast.image.cython.extract_patches.calc_slices' ignored\n",
        "Exception ValueError: ValueError('got differing extents in dimension 1 (got 29 and 0)',) in 'menpofast.image.cython.extract_patches.slice_image' ignored\n",
        "Exception OverflowError: 'Python int too large to convert to C long' in 'menpofast.image.cython.extract_patches.calc_slices' ignored\n",
        "Exception ValueError: ValueError('got differing extents in dimension 1 (got 29 and 0)',) in 'menpofast.image.cython.extract_patches.slice_image' ignored\n",
        "Exception OverflowError: 'Python int too large to convert to C long' in 'menpofast.image.cython.extract_patches.calc_slices' ignored\n",
        "Exception ValueError: ValueError('got differing extents in dimension 1 (got 29 and 0)',) in 'menpofast.image.cython.extract_patches.slice_image' ignored\n",
        "Exception "
       ]
      },
      {
       "output_type": "stream",
       "stream": "stderr",
       "text": [
        "OverflowError: 'Python int too large to convert to C long' in 'menpofast.image.cython.extract_patches.calc_slices' ignored\n",
        "Exception ValueError: ValueError('got differing extents in dimension 1 (got 29 and 0)',) in 'menpofast.image.cython.extract_patches.slice_image' ignored\n",
        "Exception OverflowError: 'Python int too large to convert to C long' in 'menpofast.image.cython.extract_patches.calc_slices' ignored\n",
        "Exception ValueError: ValueError('got differing extents in dimension 1 (got 29 and 0)',) in 'menpofast.image.cython.extract_patches.slice_image' ignored\n",
        "Exception OverflowError: 'Python int too large to convert to C long' in 'menpofast.image.cython.extract_patches.calc_slices' ignored\n",
        "Exception ValueError: ValueError('got differing extents in dimension 1 (got 29 and 0)',) in 'menpofast.image.cython.extract_patches.slice_image' ignored\n",
        "Exception "
       ]
      },
      {
       "output_type": "stream",
       "stream": "stdout",
       "text": [
        " 1\n",
        "Initial error: 0.0928\n",
        "Final error: 0.0652\n",
        "Image: "
       ]
      },
      {
       "output_type": "stream",
       "stream": "stdout",
       "text": [
        " 1\n",
        "Initial error: 0.0928\n",
        "Final error: nan\n",
        "Image: "
       ]
      },
      {
       "output_type": "stream",
       "stream": "stderr",
       "text": [
        "OverflowError: 'Python int too large to convert to C long' in 'menpofast.image.cython.extract_patches.calc_slices' ignored\n",
        "Exception ValueError: ValueError('got differing extents in dimension 1 (got 29 and 0)',) in 'menpofast.image.cython.extract_patches.slice_image' ignored\n",
        "Exception OverflowError: 'Python int too large to convert to C long' in 'menpofast.image.cython.extract_patches.calc_slices' ignored\n",
        "Exception ValueError: ValueError('got differing extents in dimension 1 (got 29 and 0)',) in 'menpofast.image.cython.extract_patches.slice_image' ignored\n",
        "Exception "
       ]
      },
      {
       "output_type": "stream",
       "stream": "stderr",
       "text": [
        "OverflowError: 'Python int too large to convert to C long' in 'menpofast.image.cython.extract_patches.calc_slices' ignored\n",
        "Exception ValueError: ValueError('got differing extents in dimension 1 (got 29 and 0)',) in 'menpofast.image.cython.extract_patches.slice_image' ignored\n",
        "Exception OverflowError: 'Python int too large to convert to C long' in 'menpofast.image.cython.extract_patches.calc_slices' ignored\n",
        "Exception ValueError: ValueError('got differing extents in dimension 1 (got 29 and 0)',) in 'menpofast.image.cython.extract_patches.slice_image' ignored\n",
        "Exception OverflowError: 'Python int too large to convert to C long' in 'menpofast.image.cython.extract_patches.calc_slices' ignored\n",
        "Exception ValueError: ValueError('got differing extents in dimension 1 (got 29 and 0)',) in 'menpofast.image.cython.extract_patches.slice_image' ignored\n",
        "Exception OverflowError: 'Python int too large to convert to C long' in 'menpofast.image.cython.extract_patches.calc_slices' ignored\n",
        "Exception ValueError: ValueError('got differing extents in dimension 1 (got 29 and 0)',) in 'menpofast.image.cython.extract_patches.slice_image' ignored\n",
        "Exception "
       ]
      },
      {
       "output_type": "stream",
       "stream": "stderr",
       "text": [
        "OverflowError: 'Python int too large to convert to C long' in 'menpofast.image.cython.extract_patches.calc_slices' ignored\n",
        "Exception ValueError: ValueError('got differing extents in dimension 1 (got 29 and 0)',) in 'menpofast.image.cython.extract_patches.slice_image' ignored\n",
        "Exception OverflowError: 'Python int too large to convert to C long' in 'menpofast.image.cython.extract_patches.calc_slices' ignored\n",
        "Exception ValueError: ValueError('got differing extents in dimension 1 (got 29 and 0)',) in 'menpofast.image.cython.extract_patches.slice_image' ignored\n",
        "Exception OverflowError: 'Python int too large to convert to C long' in 'menpofast.image.cython.extract_patches.calc_slices' ignored\n",
        "Exception ValueError: ValueError('got differing extents in dimension 1 (got 29 and 0)',) in 'menpofast.image.cython.extract_patches.slice_image' ignored\n",
        "Exception OverflowError: 'Python int too large to convert to C long' in 'menpofast.image.cython.extract_patches.calc_slices' ignored\n",
        "Exception ValueError: ValueError('got differing extents in dimension 1 (got 29 and 0)',) in 'menpofast.image.cython.extract_patches.slice_image' ignored\n",
        "Exception "
       ]
      },
      {
       "output_type": "stream",
       "stream": "stdout",
       "text": [
        " 2\n",
        "Initial error: 0.1186\n",
        "Final error: 0.0817\n",
        "Image: "
       ]
      },
      {
       "output_type": "stream",
       "stream": "stdout",
       "text": [
        " 2\n",
        "Initial error: 0.1186\n",
        "Final error: nan\n",
        "Image: "
       ]
      },
      {
       "output_type": "stream",
       "stream": "stderr",
       "text": [
        "OverflowError: 'Python int too large to convert to C long' in 'menpofast.image.cython.extract_patches.calc_slices' ignored\n",
        "Exception ValueError: ValueError('got differing extents in dimension 1 (got 29 and 0)',) in 'menpofast.image.cython.extract_patches.slice_image' ignored\n",
        "Exception "
       ]
      },
      {
       "output_type": "stream",
       "stream": "stderr",
       "text": [
        "OverflowError: 'Python int too large to convert to C long' in 'menpofast.image.cython.extract_patches.calc_slices' ignored\n",
        "Exception ValueError: ValueError('got differing extents in dimension 1 (got 29 and 0)',) in 'menpofast.image.cython.extract_patches.slice_image' ignored\n",
        "Exception OverflowError: 'Python int too large to convert to C long' in 'menpofast.image.cython.extract_patches.calc_slices' ignored\n",
        "Exception ValueError: ValueError('got differing extents in dimension 1 (got 29 and 0)',) in 'menpofast.image.cython.extract_patches.slice_image' ignored\n",
        "Exception OverflowError: 'Python int too large to convert to C long' in 'menpofast.image.cython.extract_patches.calc_slices' ignored\n",
        "Exception ValueError: ValueError('got differing extents in dimension 1 (got 29 and 0)',) in 'menpofast.image.cython.extract_patches.slice_image' ignored\n",
        "Exception OverflowError: 'Python int too large to convert to C long' in 'menpofast.image.cython.extract_patches.calc_slices' ignored\n",
        "Exception ValueError: ValueError('got differing extents in dimension 1 (got 29 and 0)',) in 'menpofast.image.cython.extract_patches.slice_image' ignored\n",
        "Exception "
       ]
      },
      {
       "output_type": "stream",
       "stream": "stderr",
       "text": [
        "OverflowError: 'Python int too large to convert to C long' in 'menpofast.image.cython.extract_patches.calc_slices' ignored\n",
        "Exception ValueError: ValueError('got differing extents in dimension 1 (got 29 and 0)',) in 'menpofast.image.cython.extract_patches.slice_image' ignored\n",
        "Exception OverflowError: 'Python int too large to convert to C long' in 'menpofast.image.cython.extract_patches.calc_slices' ignored\n",
        "Exception ValueError: ValueError('got differing extents in dimension 1 (got 29 and 0)',) in 'menpofast.image.cython.extract_patches.slice_image' ignored\n",
        "Exception OverflowError: 'Python int too large to convert to C long' in 'menpofast.image.cython.extract_patches.calc_slices' ignored\n",
        "Exception ValueError: ValueError('got differing extents in dimension 1 (got 29 and 0)',) in 'menpofast.image.cython.extract_patches.slice_image' ignored\n",
        "Exception OverflowError: 'Python int too large to convert to C long' in 'menpofast.image.cython.extract_patches.calc_slices' ignored\n",
        "Exception ValueError: ValueError('got differing extents in dimension 1 (got 29 and 0)',) in 'menpofast.image.cython.extract_patches.slice_image' ignored\n",
        "Exception "
       ]
      },
      {
       "output_type": "stream",
       "stream": "stdout",
       "text": [
        " 3\n",
        "Initial error: 0.0685\n",
        "Final error: 0.0535\n",
        "Image: "
       ]
      },
      {
       "output_type": "stream",
       "stream": "stdout",
       "text": [
        " 3\n",
        "Initial error: 0.0685\n",
        "Final error: nan\n",
        "Image: "
       ]
      },
      {
       "output_type": "stream",
       "stream": "stderr",
       "text": [
        "OverflowError: 'Python int too large to convert to C long' in 'menpofast.image.cython.extract_patches.calc_slices' ignored\n",
        "Exception ValueError: ValueError('got differing extents in dimension 1 (got 29 and 0)',) in 'menpofast.image.cython.extract_patches.slice_image' ignored\n",
        "Exception "
       ]
      },
      {
       "output_type": "stream",
       "stream": "stderr",
       "text": [
        "OverflowError: 'Python int too large to convert to C long' in 'menpofast.image.cython.extract_patches.calc_slices' ignored\n",
        "Exception ValueError: ValueError('got differing extents in dimension 1 (got 29 and 0)',) in 'menpofast.image.cython.extract_patches.slice_image' ignored\n",
        "Exception OverflowError: 'Python int too large to convert to C long' in 'menpofast.image.cython.extract_patches.calc_slices' ignored\n",
        "Exception ValueError: ValueError('got differing extents in dimension 1 (got 29 and 0)',) in 'menpofast.image.cython.extract_patches.slice_image' ignored\n",
        "Exception OverflowError: 'Python int too large to convert to C long' in 'menpofast.image.cython.extract_patches.calc_slices' ignored\n",
        "Exception ValueError: ValueError('got differing extents in dimension 1 (got 29 and 0)',) in 'menpofast.image.cython.extract_patches.slice_image' ignored\n",
        "Exception OverflowError: 'Python int too large to convert to C long' in 'menpofast.image.cython.extract_patches.calc_slices' ignored\n",
        "Exception ValueError: ValueError('got differing extents in dimension 1 (got 29 and 0)',) in 'menpofast.image.cython.extract_patches.slice_image' ignored\n",
        "Exception "
       ]
      },
      {
       "output_type": "stream",
       "stream": "stderr",
       "text": [
        "OverflowError: 'Python int too large to convert to C long' in 'menpofast.image.cython.extract_patches.calc_slices' ignored\n",
        "Exception ValueError: ValueError('got differing extents in dimension 1 (got 29 and 0)',) in 'menpofast.image.cython.extract_patches.slice_image' ignored\n",
        "Exception OverflowError: 'Python int too large to convert to C long' in 'menpofast.image.cython.extract_patches.calc_slices' ignored\n",
        "Exception ValueError: ValueError('got differing extents in dimension 1 (got 29 and 0)',) in 'menpofast.image.cython.extract_patches.slice_image' ignored\n",
        "Exception OverflowError: 'Python int too large to convert to C long' in 'menpofast.image.cython.extract_patches.calc_slices' ignored\n",
        "Exception ValueError: ValueError('got differing extents in dimension 1 (got 29 and 0)',) in 'menpofast.image.cython.extract_patches.slice_image' ignored\n",
        "Exception OverflowError: 'Python int too large to convert to C long' in 'menpofast.image.cython.extract_patches.calc_slices' ignored\n",
        "Exception ValueError: ValueError('got differing extents in dimension 1 (got 29 and 0)',) in 'menpofast.image.cython.extract_patches.slice_image' ignored\n",
        "Exception "
       ]
      },
      {
       "output_type": "stream",
       "stream": "stdout",
       "text": [
        " 4\n",
        "Initial error: 0.1244\n",
        "Final error: 0.1105\n",
        "Image: "
       ]
      },
      {
       "output_type": "stream",
       "stream": "stdout",
       "text": [
        " 4\n",
        "Initial error: 0.1244\n",
        "Final error: nan\n",
        "Image: "
       ]
      },
      {
       "output_type": "stream",
       "stream": "stderr",
       "text": [
        "OverflowError: 'Python int too large to convert to C long' in 'menpofast.image.cython.extract_patches.calc_slices' ignored\n",
        "Exception ValueError: ValueError('got differing extents in dimension 1 (got 29 and 0)',) in 'menpofast.image.cython.extract_patches.slice_image' ignored\n",
        "Exception "
       ]
      },
      {
       "output_type": "stream",
       "stream": "stderr",
       "text": [
        "OverflowError: 'Python int too large to convert to C long' in 'menpofast.image.cython.extract_patches.calc_slices' ignored\n",
        "Exception ValueError: ValueError('got differing extents in dimension 1 (got 29 and 0)',) in 'menpofast.image.cython.extract_patches.slice_image' ignored\n",
        "Exception OverflowError: 'Python int too large to convert to C long' in 'menpofast.image.cython.extract_patches.calc_slices' ignored\n",
        "Exception ValueError: ValueError('got differing extents in dimension 1 (got 29 and 0)',) in 'menpofast.image.cython.extract_patches.slice_image' ignored\n",
        "Exception OverflowError: 'Python int too large to convert to C long' in 'menpofast.image.cython.extract_patches.calc_slices' ignored\n",
        "Exception ValueError: ValueError('got differing extents in dimension 1 (got 29 and 0)',) in 'menpofast.image.cython.extract_patches.slice_image' ignored\n",
        "Exception OverflowError: 'Python int too large to convert to C long' in 'menpofast.image.cython.extract_patches.calc_slices' ignored\n",
        "Exception ValueError: ValueError('got differing extents in dimension 1 (got 29 and 0)',) in 'menpofast.image.cython.extract_patches.slice_image' ignored\n",
        "Exception "
       ]
      },
      {
       "output_type": "stream",
       "stream": "stderr",
       "text": [
        "OverflowError: 'Python int too large to convert to C long' in 'menpofast.image.cython.extract_patches.calc_slices' ignored\n",
        "Exception ValueError: ValueError('got differing extents in dimension 1 (got 29 and 0)',) in 'menpofast.image.cython.extract_patches.slice_image' ignored\n",
        "Exception OverflowError: 'Python int too large to convert to C long' in 'menpofast.image.cython.extract_patches.calc_slices' ignored\n",
        "Exception ValueError: ValueError('got differing extents in dimension 1 (got 29 and 0)',) in 'menpofast.image.cython.extract_patches.slice_image' ignored\n",
        "Exception OverflowError: 'Python int too large to convert to C long' in 'menpofast.image.cython.extract_patches.calc_slices' ignored\n",
        "Exception ValueError: ValueError('got differing extents in dimension 1 (got 29 and 0)',) in 'menpofast.image.cython.extract_patches.slice_image' ignored\n",
        "Exception OverflowError: 'Python int too large to convert to C long' in 'menpofast.image.cython.extract_patches.calc_slices' ignored\n",
        "Exception ValueError: ValueError('got differing extents in dimension 1 (got 29 and 0)',) in 'menpofast.image.cython.extract_patches.slice_image' ignored\n",
        "Exception "
       ]
      },
      {
       "output_type": "stream",
       "stream": "stdout",
       "text": [
        " 5\n",
        "Initial error: 0.0864\n",
        "Final error: 0.0658\n",
        "Image: "
       ]
      },
      {
       "output_type": "stream",
       "stream": "stdout",
       "text": [
        " 5\n",
        "Initial error: 0.0864\n",
        "Final error: nan\n",
        "Image: "
       ]
      },
      {
       "output_type": "stream",
       "stream": "stderr",
       "text": [
        "OverflowError: 'Python int too large to convert to C long' in 'menpofast.image.cython.extract_patches.calc_slices' ignored\n",
        "Exception ValueError: ValueError('got differing extents in dimension 1 (got 29 and 0)',) in 'menpofast.image.cython.extract_patches.slice_image' ignored\n",
        "Exception "
       ]
      },
      {
       "output_type": "stream",
       "stream": "stderr",
       "text": [
        "OverflowError: 'Python int too large to convert to C long' in 'menpofast.image.cython.extract_patches.calc_slices' ignored\n",
        "Exception ValueError: ValueError('got differing extents in dimension 1 (got 29 and 0)',) in 'menpofast.image.cython.extract_patches.slice_image' ignored\n",
        "Exception OverflowError: 'Python int too large to convert to C long' in 'menpofast.image.cython.extract_patches.calc_slices' ignored\n",
        "Exception ValueError: ValueError('got differing extents in dimension 1 (got 29 and 0)',) in 'menpofast.image.cython.extract_patches.slice_image' ignored\n",
        "Exception OverflowError: 'Python int too large to convert to C long' in 'menpofast.image.cython.extract_patches.calc_slices' ignored\n",
        "Exception ValueError: ValueError('got differing extents in dimension 1 (got 29 and 0)',) in 'menpofast.image.cython.extract_patches.slice_image' ignored\n",
        "Exception OverflowError: 'Python int too large to convert to C long' in 'menpofast.image.cython.extract_patches.calc_slices' ignored\n",
        "Exception ValueError: ValueError('got differing extents in dimension 1 (got 29 and 0)',) in 'menpofast.image.cython.extract_patches.slice_image' ignored\n",
        "Exception "
       ]
      },
      {
       "output_type": "stream",
       "stream": "stderr",
       "text": [
        "OverflowError: 'Python int too large to convert to C long' in 'menpofast.image.cython.extract_patches.calc_slices' ignored\n",
        "Exception ValueError: ValueError('got differing extents in dimension 1 (got 29 and 0)',) in 'menpofast.image.cython.extract_patches.slice_image' ignored\n",
        "Exception OverflowError: 'Python int too large to convert to C long' in 'menpofast.image.cython.extract_patches.calc_slices' ignored\n",
        "Exception ValueError: ValueError('got differing extents in dimension 1 (got 29 and 0)',) in 'menpofast.image.cython.extract_patches.slice_image' ignored\n",
        "Exception OverflowError: 'Python int too large to convert to C long' in 'menpofast.image.cython.extract_patches.calc_slices' ignored\n",
        "Exception ValueError: ValueError('got differing extents in dimension 1 (got 29 and 0)',) in 'menpofast.image.cython.extract_patches.slice_image' ignored\n",
        "Exception OverflowError: 'Python int too large to convert to C long' in 'menpofast.image.cython.extract_patches.calc_slices' ignored\n",
        "Exception ValueError: ValueError('got differing extents in dimension 1 (got 29 and 0)',) in 'menpofast.image.cython.extract_patches.slice_image' ignored\n",
        "Exception "
       ]
      },
      {
       "output_type": "stream",
       "stream": "stdout",
       "text": [
        " 6\n",
        "Initial error: 0.0571\n",
        "Final error: 0.0377\n",
        "Image: "
       ]
      },
      {
       "output_type": "stream",
       "stream": "stdout",
       "text": [
        " 6\n",
        "Initial error: 0.0571\n",
        "Final error: nan\n",
        "Image: "
       ]
      },
      {
       "output_type": "stream",
       "stream": "stderr",
       "text": [
        "OverflowError: 'Python int too large to convert to C long' in 'menpofast.image.cython.extract_patches.calc_slices' ignored\n",
        "Exception ValueError: ValueError('got differing extents in dimension 1 (got 29 and 0)',) in 'menpofast.image.cython.extract_patches.slice_image' ignored\n",
        "Exception "
       ]
      },
      {
       "output_type": "stream",
       "stream": "stderr",
       "text": [
        "OverflowError: 'Python int too large to convert to C long' in 'menpofast.image.cython.extract_patches.calc_slices' ignored\n",
        "Exception ValueError: ValueError('got differing extents in dimension 1 (got 29 and 0)',) in 'menpofast.image.cython.extract_patches.slice_image' ignored\n",
        "Exception OverflowError: 'Python int too large to convert to C long' in 'menpofast.image.cython.extract_patches.calc_slices' ignored\n",
        "Exception ValueError: ValueError('got differing extents in dimension 1 (got 29 and 0)',) in 'menpofast.image.cython.extract_patches.slice_image' ignored\n",
        "Exception OverflowError: 'Python int too large to convert to C long' in 'menpofast.image.cython.extract_patches.calc_slices' ignored\n",
        "Exception ValueError: ValueError('got differing extents in dimension 1 (got 29 and 0)',) in 'menpofast.image.cython.extract_patches.slice_image' ignored\n",
        "Exception OverflowError: 'Python int too large to convert to C long' in 'menpofast.image.cython.extract_patches.calc_slices' ignored\n",
        "Exception ValueError: ValueError('got differing extents in dimension 1 (got 29 and 0)',) in 'menpofast.image.cython.extract_patches.slice_image' ignored\n",
        "Exception "
       ]
      },
      {
       "output_type": "stream",
       "stream": "stderr",
       "text": [
        "OverflowError: 'Python int too large to convert to C long' in 'menpofast.image.cython.extract_patches.calc_slices' ignored\n",
        "Exception ValueError: ValueError('got differing extents in dimension 1 (got 29 and 0)',) in 'menpofast.image.cython.extract_patches.slice_image' ignored\n",
        "Exception OverflowError: 'Python int too large to convert to C long' in 'menpofast.image.cython.extract_patches.calc_slices' ignored\n",
        "Exception ValueError: ValueError('got differing extents in dimension 1 (got 29 and 0)',) in 'menpofast.image.cython.extract_patches.slice_image' ignored\n",
        "Exception OverflowError: 'Python int too large to convert to C long' in 'menpofast.image.cython.extract_patches.calc_slices' ignored\n",
        "Exception ValueError: ValueError('got differing extents in dimension 1 (got 29 and 0)',) in 'menpofast.image.cython.extract_patches.slice_image' ignored\n",
        "Exception OverflowError: 'Python int too large to convert to C long' in 'menpofast.image.cython.extract_patches.calc_slices' ignored\n",
        "Exception ValueError: ValueError('got differing extents in dimension 1 (got 29 and 0)',) in 'menpofast.image.cython.extract_patches.slice_image' ignored\n",
        "Exception "
       ]
      },
      {
       "output_type": "stream",
       "stream": "stdout",
       "text": [
        " 7\n",
        "Initial error: 0.1051\n",
        "Final error: 0.0912\n",
        "Image: "
       ]
      },
      {
       "output_type": "stream",
       "stream": "stdout",
       "text": [
        " 7\n",
        "Initial error: 0.1051\n",
        "Final error: nan\n",
        "Image: "
       ]
      },
      {
       "output_type": "stream",
       "stream": "stderr",
       "text": [
        "OverflowError: 'Python int too large to convert to C long' in 'menpofast.image.cython.extract_patches.calc_slices' ignored\n",
        "Exception ValueError: ValueError('got differing extents in dimension 1 (got 29 and 0)',) in 'menpofast.image.cython.extract_patches.slice_image' ignored\n",
        "Exception "
       ]
      },
      {
       "output_type": "stream",
       "stream": "stderr",
       "text": [
        "OverflowError: 'Python int too large to convert to C long' in 'menpofast.image.cython.extract_patches.calc_slices' ignored\n",
        "Exception ValueError: ValueError('got differing extents in dimension 1 (got 29 and 0)',) in 'menpofast.image.cython.extract_patches.slice_image' ignored\n",
        "Exception OverflowError: 'Python int too large to convert to C long' in 'menpofast.image.cython.extract_patches.calc_slices' ignored\n",
        "Exception ValueError: ValueError('got differing extents in dimension 1 (got 29 and 0)',) in 'menpofast.image.cython.extract_patches.slice_image' ignored\n",
        "Exception OverflowError: 'Python int too large to convert to C long' in 'menpofast.image.cython.extract_patches.calc_slices' ignored\n",
        "Exception ValueError: ValueError('got differing extents in dimension 1 (got 29 and 0)',) in 'menpofast.image.cython.extract_patches.slice_image' ignored\n",
        "Exception OverflowError: 'Python int too large to convert to C long' in 'menpofast.image.cython.extract_patches.calc_slices' ignored\n",
        "Exception ValueError: ValueError('got differing extents in dimension 1 (got 29 and 0)',) in 'menpofast.image.cython.extract_patches.slice_image' ignored\n",
        "Exception "
       ]
      },
      {
       "output_type": "stream",
       "stream": "stderr",
       "text": [
        "OverflowError: 'Python int too large to convert to C long' in 'menpofast.image.cython.extract_patches.calc_slices' ignored\n",
        "Exception ValueError: ValueError('got differing extents in dimension 1 (got 29 and 0)',) in 'menpofast.image.cython.extract_patches.slice_image' ignored\n",
        "Exception OverflowError: 'Python int too large to convert to C long' in 'menpofast.image.cython.extract_patches.calc_slices' ignored\n",
        "Exception ValueError: ValueError('got differing extents in dimension 1 (got 29 and 0)',) in 'menpofast.image.cython.extract_patches.slice_image' ignored\n",
        "Exception OverflowError: 'Python int too large to convert to C long' in 'menpofast.image.cython.extract_patches.calc_slices' ignored\n",
        "Exception ValueError: ValueError('got differing extents in dimension 1 (got 29 and 0)',) in 'menpofast.image.cython.extract_patches.slice_image' ignored\n",
        "Exception OverflowError: 'Python int too large to convert to C long' in 'menpofast.image.cython.extract_patches.calc_slices' ignored\n",
        "Exception ValueError: ValueError('got differing extents in dimension 1 (got 29 and 0)',) in 'menpofast.image.cython.extract_patches.slice_image' ignored\n",
        "Exception "
       ]
      },
      {
       "output_type": "stream",
       "stream": "stdout",
       "text": [
        " 8\n",
        "Initial error: 0.0586\n",
        "Final error: 0.0542\n",
        "Image: "
       ]
      },
      {
       "output_type": "stream",
       "stream": "stdout",
       "text": [
        " 8\n",
        "Initial error: 0.0586\n",
        "Final error: nan\n",
        "Image: "
       ]
      },
      {
       "output_type": "stream",
       "stream": "stderr",
       "text": [
        "OverflowError: 'Python int too large to convert to C long' in 'menpofast.image.cython.extract_patches.calc_slices' ignored\n",
        "Exception ValueError: ValueError('got differing extents in dimension 1 (got 29 and 0)',) in 'menpofast.image.cython.extract_patches.slice_image' ignored\n",
        "Exception "
       ]
      },
      {
       "output_type": "stream",
       "stream": "stderr",
       "text": [
        "OverflowError: 'Python int too large to convert to C long' in 'menpofast.image.cython.extract_patches.calc_slices' ignored\n",
        "Exception ValueError: ValueError('got differing extents in dimension 1 (got 29 and 0)',) in 'menpofast.image.cython.extract_patches.slice_image' ignored\n",
        "Exception OverflowError: 'Python int too large to convert to C long' in 'menpofast.image.cython.extract_patches.calc_slices' ignored\n",
        "Exception ValueError: ValueError('got differing extents in dimension 1 (got 29 and 0)',) in 'menpofast.image.cython.extract_patches.slice_image' ignored\n",
        "Exception OverflowError: 'Python int too large to convert to C long' in 'menpofast.image.cython.extract_patches.calc_slices' ignored\n",
        "Exception ValueError: ValueError('got differing extents in dimension 1 (got 29 and 0)',) in 'menpofast.image.cython.extract_patches.slice_image' ignored\n",
        "Exception OverflowError: 'Python int too large to convert to C long' in 'menpofast.image.cython.extract_patches.calc_slices' ignored\n",
        "Exception ValueError: ValueError('got differing extents in dimension 1 (got 29 and 0)',) in 'menpofast.image.cython.extract_patches.slice_image' ignored\n",
        "Exception "
       ]
      },
      {
       "output_type": "stream",
       "stream": "stderr",
       "text": [
        "OverflowError: 'Python int too large to convert to C long' in 'menpofast.image.cython.extract_patches.calc_slices' ignored\n",
        "Exception ValueError: ValueError('got differing extents in dimension 1 (got 29 and 0)',) in 'menpofast.image.cython.extract_patches.slice_image' ignored\n",
        "Exception OverflowError: 'Python int too large to convert to C long' in 'menpofast.image.cython.extract_patches.calc_slices' ignored\n",
        "Exception ValueError: ValueError('got differing extents in dimension 1 (got 29 and 0)',) in 'menpofast.image.cython.extract_patches.slice_image' ignored\n",
        "Exception OverflowError: 'Python int too large to convert to C long' in 'menpofast.image.cython.extract_patches.calc_slices' ignored\n",
        "Exception ValueError: ValueError('got differing extents in dimension 1 (got 29 and 0)',) in 'menpofast.image.cython.extract_patches.slice_image' ignored\n",
        "Exception OverflowError: 'Python int too large to convert to C long' in 'menpofast.image.cython.extract_patches.calc_slices' ignored\n",
        "Exception ValueError: ValueError('got differing extents in dimension 1 (got 29 and 0)',) in 'menpofast.image.cython.extract_patches.slice_image' ignored\n",
        "Exception "
       ]
      },
      {
       "output_type": "stream",
       "stream": "stdout",
       "text": [
        " 9\n",
        "Initial error: 0.0815\n",
        "Final error: 0.0593\n",
        "Image: "
       ]
      },
      {
       "output_type": "stream",
       "stream": "stdout",
       "text": [
        " 9\n",
        "Initial error: 0.0815\n",
        "Final error: nan\n",
        "Image: "
       ]
      },
      {
       "output_type": "stream",
       "stream": "stderr",
       "text": [
        "OverflowError: 'Python int too large to convert to C long' in 'menpofast.image.cython.extract_patches.calc_slices' ignored\n",
        "Exception ValueError: ValueError('got differing extents in dimension 1 (got 29 and 0)',) in 'menpofast.image.cython.extract_patches.slice_image' ignored\n",
        "Exception "
       ]
      },
      {
       "output_type": "stream",
       "stream": "stderr",
       "text": [
        "OverflowError: 'Python int too large to convert to C long' in 'menpofast.image.cython.extract_patches.calc_slices' ignored\n",
        "Exception ValueError: ValueError('got differing extents in dimension 1 (got 29 and 0)',) in 'menpofast.image.cython.extract_patches.slice_image' ignored\n",
        "Exception OverflowError: 'Python int too large to convert to C long' in 'menpofast.image.cython.extract_patches.calc_slices' ignored\n",
        "Exception ValueError: ValueError('got differing extents in dimension 1 (got 29 and 0)',) in 'menpofast.image.cython.extract_patches.slice_image' ignored\n",
        "Exception OverflowError: 'Python int too large to convert to C long' in 'menpofast.image.cython.extract_patches.calc_slices' ignored\n",
        "Exception ValueError: ValueError('got differing extents in dimension 1 (got 29 and 0)',) in 'menpofast.image.cython.extract_patches.slice_image' ignored\n",
        "Exception OverflowError: 'Python int too large to convert to C long' in 'menpofast.image.cython.extract_patches.calc_slices' ignored\n",
        "Exception ValueError: ValueError('got differing extents in dimension 1 (got 29 and 0)',) in 'menpofast.image.cython.extract_patches.slice_image' ignored\n",
        "Exception "
       ]
      },
      {
       "output_type": "stream",
       "stream": "stderr",
       "text": [
        "OverflowError: 'Python int too large to convert to C long' in 'menpofast.image.cython.extract_patches.calc_slices' ignored\n",
        "Exception ValueError: ValueError('got differing extents in dimension 1 (got 29 and 0)',) in 'menpofast.image.cython.extract_patches.slice_image' ignored\n",
        "Exception OverflowError: 'Python int too large to convert to C long' in 'menpofast.image.cython.extract_patches.calc_slices' ignored\n",
        "Exception ValueError: ValueError('got differing extents in dimension 1 (got 29 and 0)',) in 'menpofast.image.cython.extract_patches.slice_image' ignored\n",
        "Exception OverflowError: 'Python int too large to convert to C long' in 'menpofast.image.cython.extract_patches.calc_slices' ignored\n",
        "Exception ValueError: ValueError('got differing extents in dimension 1 (got 29 and 0)',) in 'menpofast.image.cython.extract_patches.slice_image' ignored\n",
        "Exception OverflowError: 'Python int too large to convert to C long' in 'menpofast.image.cython.extract_patches.calc_slices' ignored\n",
        "Exception ValueError: ValueError('got differing extents in dimension 1 (got 29 and 0)',) in 'menpofast.image.cython.extract_patches.slice_image' ignored\n",
        "Exception "
       ]
      },
      {
       "output_type": "stream",
       "stream": "stdout",
       "text": [
        " 10\n",
        "Initial error: 0.1578\n",
        "Final error: 0.1196\n",
        "Image: "
       ]
      },
      {
       "output_type": "stream",
       "stream": "stdout",
       "text": [
        " 10\n",
        "Initial error: 0.1578\n",
        "Final error: nan\n",
        "Image: "
       ]
      },
      {
       "output_type": "stream",
       "stream": "stderr",
       "text": [
        "OverflowError: 'Python int too large to convert to C long' in 'menpofast.image.cython.extract_patches.calc_slices' ignored\n",
        "Exception ValueError: ValueError('got differing extents in dimension 1 (got 29 and 0)',) in 'menpofast.image.cython.extract_patches.slice_image' ignored\n",
        "Exception "
       ]
      },
      {
       "output_type": "stream",
       "stream": "stderr",
       "text": [
        "OverflowError: 'Python int too large to convert to C long' in 'menpofast.image.cython.extract_patches.calc_slices' ignored\n",
        "Exception ValueError: ValueError('got differing extents in dimension 1 (got 29 and 0)',) in 'menpofast.image.cython.extract_patches.slice_image' ignored\n",
        "Exception OverflowError: 'Python int too large to convert to C long' in 'menpofast.image.cython.extract_patches.calc_slices' ignored\n",
        "Exception ValueError: ValueError('got differing extents in dimension 1 (got 29 and 0)',) in 'menpofast.image.cython.extract_patches.slice_image' ignored\n",
        "Exception OverflowError: 'Python int too large to convert to C long' in 'menpofast.image.cython.extract_patches.calc_slices' ignored\n",
        "Exception ValueError: ValueError('got differing extents in dimension 1 (got 29 and 0)',) in 'menpofast.image.cython.extract_patches.slice_image' ignored\n",
        "Exception OverflowError: 'Python int too large to convert to C long' in 'menpofast.image.cython.extract_patches.calc_slices' ignored\n",
        "Exception ValueError: ValueError('got differing extents in dimension 1 (got 29 and 0)',) in 'menpofast.image.cython.extract_patches.slice_image' ignored\n",
        "Exception "
       ]
      },
      {
       "output_type": "stream",
       "stream": "stderr",
       "text": [
        "OverflowError: 'Python int too large to convert to C long' in 'menpofast.image.cython.extract_patches.calc_slices' ignored\n",
        "Exception ValueError: ValueError('got differing extents in dimension 1 (got 29 and 0)',) in 'menpofast.image.cython.extract_patches.slice_image' ignored\n",
        "Exception OverflowError: 'Python int too large to convert to C long' in 'menpofast.image.cython.extract_patches.calc_slices' ignored\n",
        "Exception ValueError: ValueError('got differing extents in dimension 1 (got 29 and 0)',) in 'menpofast.image.cython.extract_patches.slice_image' ignored\n",
        "Exception OverflowError: 'Python int too large to convert to C long' in 'menpofast.image.cython.extract_patches.calc_slices' ignored\n",
        "Exception ValueError: ValueError('got differing extents in dimension 1 (got 29 and 0)',) in 'menpofast.image.cython.extract_patches.slice_image' ignored\n",
        "Exception OverflowError: 'Python int too large to convert to C long' in 'menpofast.image.cython.extract_patches.calc_slices' ignored\n",
        "Exception ValueError: ValueError('got differing extents in dimension 1 (got 29 and 0)',) in 'menpofast.image.cython.extract_patches.slice_image' ignored\n",
        "Exception "
       ]
      },
      {
       "output_type": "stream",
       "stream": "stdout",
       "text": [
        " 11\n",
        "Initial error: 0.0720\n",
        "Final error: 0.0559\n",
        "Image: "
       ]
      },
      {
       "output_type": "stream",
       "stream": "stdout",
       "text": [
        " 11\n",
        "Initial error: 0.0720\n",
        "Final error: nan\n",
        "Image: "
       ]
      },
      {
       "output_type": "stream",
       "stream": "stderr",
       "text": [
        "OverflowError: 'Python int too large to convert to C long' in 'menpofast.image.cython.extract_patches.calc_slices' ignored\n",
        "Exception ValueError: ValueError('got differing extents in dimension 1 (got 29 and 0)',) in 'menpofast.image.cython.extract_patches.slice_image' ignored\n",
        "Exception "
       ]
      },
      {
       "output_type": "stream",
       "stream": "stderr",
       "text": [
        "OverflowError: 'Python int too large to convert to C long' in 'menpofast.image.cython.extract_patches.calc_slices' ignored\n",
        "Exception ValueError: ValueError('got differing extents in dimension 1 (got 29 and 0)',) in 'menpofast.image.cython.extract_patches.slice_image' ignored\n",
        "Exception OverflowError: 'Python int too large to convert to C long' in 'menpofast.image.cython.extract_patches.calc_slices' ignored\n",
        "Exception ValueError: ValueError('got differing extents in dimension 1 (got 29 and 0)',) in 'menpofast.image.cython.extract_patches.slice_image' ignored\n",
        "Exception OverflowError: 'Python int too large to convert to C long' in 'menpofast.image.cython.extract_patches.calc_slices' ignored\n",
        "Exception ValueError: ValueError('got differing extents in dimension 1 (got 29 and 0)',) in 'menpofast.image.cython.extract_patches.slice_image' ignored\n",
        "Exception OverflowError: 'Python int too large to convert to C long' in 'menpofast.image.cython.extract_patches.calc_slices' ignored\n",
        "Exception ValueError: ValueError('got differing extents in dimension 1 (got 29 and 0)',) in 'menpofast.image.cython.extract_patches.slice_image' ignored\n",
        "Exception "
       ]
      },
      {
       "output_type": "stream",
       "stream": "stderr",
       "text": [
        "OverflowError: 'Python int too large to convert to C long' in 'menpofast.image.cython.extract_patches.calc_slices' ignored\n",
        "Exception ValueError: ValueError('got differing extents in dimension 1 (got 29 and 0)',) in 'menpofast.image.cython.extract_patches.slice_image' ignored\n",
        "Exception OverflowError: 'Python int too large to convert to C long' in 'menpofast.image.cython.extract_patches.calc_slices' ignored\n",
        "Exception ValueError: ValueError('got differing extents in dimension 1 (got 29 and 0)',) in 'menpofast.image.cython.extract_patches.slice_image' ignored\n",
        "Exception OverflowError: 'Python int too large to convert to C long' in 'menpofast.image.cython.extract_patches.calc_slices' ignored\n",
        "Exception ValueError: ValueError('got differing extents in dimension 1 (got 29 and 0)',) in 'menpofast.image.cython.extract_patches.slice_image' ignored\n",
        "Exception OverflowError: 'Python int too large to convert to C long' in 'menpofast.image.cython.extract_patches.calc_slices' ignored\n",
        "Exception ValueError: ValueError('got differing extents in dimension 1 (got 29 and 0)',) in 'menpofast.image.cython.extract_patches.slice_image' ignored\n",
        "Exception "
       ]
      },
      {
       "output_type": "stream",
       "stream": "stdout",
       "text": [
        " 12\n",
        "Initial error: 0.1278\n",
        "Final error: 0.1128\n",
        "Image: "
       ]
      },
      {
       "output_type": "stream",
       "stream": "stdout",
       "text": [
        " 12\n",
        "Initial error: 0.1278\n",
        "Final error: nan\n",
        "Image: "
       ]
      },
      {
       "output_type": "stream",
       "stream": "stderr",
       "text": [
        "OverflowError: 'Python int too large to convert to C long' in 'menpofast.image.cython.extract_patches.calc_slices' ignored\n",
        "Exception ValueError: ValueError('got differing extents in dimension 1 (got 29 and 0)',) in 'menpofast.image.cython.extract_patches.slice_image' ignored\n",
        "Exception "
       ]
      },
      {
       "output_type": "stream",
       "stream": "stderr",
       "text": [
        "OverflowError: 'Python int too large to convert to C long' in 'menpofast.image.cython.extract_patches.calc_slices' ignored\n",
        "Exception ValueError: ValueError('got differing extents in dimension 1 (got 29 and 0)',) in 'menpofast.image.cython.extract_patches.slice_image' ignored\n",
        "Exception OverflowError: 'Python int too large to convert to C long' in 'menpofast.image.cython.extract_patches.calc_slices' ignored\n",
        "Exception ValueError: ValueError('got differing extents in dimension 1 (got 29 and 0)',) in 'menpofast.image.cython.extract_patches.slice_image' ignored\n",
        "Exception OverflowError: 'Python int too large to convert to C long' in 'menpofast.image.cython.extract_patches.calc_slices' ignored\n",
        "Exception ValueError: ValueError('got differing extents in dimension 1 (got 29 and 0)',) in 'menpofast.image.cython.extract_patches.slice_image' ignored\n",
        "Exception OverflowError: 'Python int too large to convert to C long' in 'menpofast.image.cython.extract_patches.calc_slices' ignored\n",
        "Exception ValueError: ValueError('got differing extents in dimension 1 (got 29 and 0)',) in 'menpofast.image.cython.extract_patches.slice_image' ignored\n",
        "Exception "
       ]
      },
      {
       "output_type": "stream",
       "stream": "stderr",
       "text": [
        "OverflowError: 'Python int too large to convert to C long' in 'menpofast.image.cython.extract_patches.calc_slices' ignored\n",
        "Exception ValueError: ValueError('got differing extents in dimension 1 (got 29 and 0)',) in 'menpofast.image.cython.extract_patches.slice_image' ignored\n",
        "Exception OverflowError: 'Python int too large to convert to C long' in 'menpofast.image.cython.extract_patches.calc_slices' ignored\n",
        "Exception ValueError: ValueError('got differing extents in dimension 1 (got 29 and 0)',) in 'menpofast.image.cython.extract_patches.slice_image' ignored\n",
        "Exception OverflowError: 'Python int too large to convert to C long' in 'menpofast.image.cython.extract_patches.calc_slices' ignored\n",
        "Exception ValueError: ValueError('got differing extents in dimension 1 (got 29 and 0)',) in 'menpofast.image.cython.extract_patches.slice_image' ignored\n",
        "Exception OverflowError: 'Python int too large to convert to C long' in 'menpofast.image.cython.extract_patches.calc_slices' ignored\n",
        "Exception ValueError: ValueError('got differing extents in dimension 1 (got 29 and 0)',) in 'menpofast.image.cython.extract_patches.slice_image' ignored\n",
        "Exception "
       ]
      },
      {
       "output_type": "stream",
       "stream": "stdout",
       "text": [
        " 13\n",
        "Initial error: 0.0726\n",
        "Final error: 0.0650\n",
        "Image: "
       ]
      },
      {
       "output_type": "stream",
       "stream": "stdout",
       "text": [
        " 13\n",
        "Initial error: 0.0726\n",
        "Final error: nan\n",
        "Image: "
       ]
      },
      {
       "output_type": "stream",
       "stream": "stderr",
       "text": [
        "OverflowError: 'Python int too large to convert to C long' in 'menpofast.image.cython.extract_patches.calc_slices' ignored\n",
        "Exception ValueError: ValueError('got differing extents in dimension 1 (got 29 and 0)',) in 'menpofast.image.cython.extract_patches.slice_image' ignored\n",
        "Exception "
       ]
      },
      {
       "output_type": "stream",
       "stream": "stderr",
       "text": [
        "OverflowError: 'Python int too large to convert to C long' in 'menpofast.image.cython.extract_patches.calc_slices' ignored\n",
        "Exception ValueError: ValueError('got differing extents in dimension 1 (got 29 and 0)',) in 'menpofast.image.cython.extract_patches.slice_image' ignored\n",
        "Exception OverflowError: 'Python int too large to convert to C long' in 'menpofast.image.cython.extract_patches.calc_slices' ignored\n",
        "Exception ValueError: ValueError('got differing extents in dimension 1 (got 29 and 0)',) in 'menpofast.image.cython.extract_patches.slice_image' ignored\n",
        "Exception OverflowError: 'Python int too large to convert to C long' in 'menpofast.image.cython.extract_patches.calc_slices' ignored\n",
        "Exception ValueError: ValueError('got differing extents in dimension 1 (got 29 and 0)',) in 'menpofast.image.cython.extract_patches.slice_image' ignored\n",
        "Exception OverflowError: 'Python int too large to convert to C long' in 'menpofast.image.cython.extract_patches.calc_slices' ignored\n",
        "Exception ValueError: ValueError('got differing extents in dimension 1 (got 29 and 0)',) in 'menpofast.image.cython.extract_patches.slice_image' ignored\n",
        "Exception "
       ]
      },
      {
       "output_type": "stream",
       "stream": "stderr",
       "text": [
        "OverflowError: 'Python int too large to convert to C long' in 'menpofast.image.cython.extract_patches.calc_slices' ignored\n",
        "Exception ValueError: ValueError('got differing extents in dimension 1 (got 29 and 0)',) in 'menpofast.image.cython.extract_patches.slice_image' ignored\n",
        "Exception OverflowError: 'Python int too large to convert to C long' in 'menpofast.image.cython.extract_patches.calc_slices' ignored\n",
        "Exception ValueError: ValueError('got differing extents in dimension 1 (got 29 and 0)',) in 'menpofast.image.cython.extract_patches.slice_image' ignored\n",
        "Exception OverflowError: 'Python int too large to convert to C long' in 'menpofast.image.cython.extract_patches.calc_slices' ignored\n",
        "Exception ValueError: ValueError('got differing extents in dimension 1 (got 29 and 0)',) in 'menpofast.image.cython.extract_patches.slice_image' ignored\n",
        "Exception OverflowError: 'Python int too large to convert to C long' in 'menpofast.image.cython.extract_patches.calc_slices' ignored\n",
        "Exception ValueError: ValueError('got differing extents in dimension 1 (got 29 and 0)',) in 'menpofast.image.cython.extract_patches.slice_image' ignored\n",
        "Exception "
       ]
      },
      {
       "output_type": "stream",
       "stream": "stdout",
       "text": [
        " 14\n",
        "Initial error: 0.0620\n",
        "Final error: 0.0586\n",
        "Image: "
       ]
      },
      {
       "output_type": "stream",
       "stream": "stdout",
       "text": [
        " 14\n",
        "Initial error: 0.0620\n",
        "Final error: nan\n",
        "Image: "
       ]
      },
      {
       "output_type": "stream",
       "stream": "stderr",
       "text": [
        "OverflowError: 'Python int too large to convert to C long' in 'menpofast.image.cython.extract_patches.calc_slices' ignored\n",
        "Exception ValueError: ValueError('got differing extents in dimension 1 (got 29 and 0)',) in 'menpofast.image.cython.extract_patches.slice_image' ignored\n",
        "Exception "
       ]
      },
      {
       "output_type": "stream",
       "stream": "stderr",
       "text": [
        "OverflowError: 'Python int too large to convert to C long' in 'menpofast.image.cython.extract_patches.calc_slices' ignored\n",
        "Exception ValueError: ValueError('got differing extents in dimension 1 (got 29 and 0)',) in 'menpofast.image.cython.extract_patches.slice_image' ignored\n",
        "Exception OverflowError: 'Python int too large to convert to C long' in 'menpofast.image.cython.extract_patches.calc_slices' ignored\n",
        "Exception ValueError: ValueError('got differing extents in dimension 1 (got 29 and 0)',) in 'menpofast.image.cython.extract_patches.slice_image' ignored\n",
        "Exception OverflowError: 'Python int too large to convert to C long' in 'menpofast.image.cython.extract_patches.calc_slices' ignored\n",
        "Exception ValueError: ValueError('got differing extents in dimension 1 (got 29 and 0)',) in 'menpofast.image.cython.extract_patches.slice_image' ignored\n",
        "Exception OverflowError: 'Python int too large to convert to C long' in 'menpofast.image.cython.extract_patches.calc_slices' ignored\n",
        "Exception ValueError: ValueError('got differing extents in dimension 1 (got 29 and 0)',) in 'menpofast.image.cython.extract_patches.slice_image' ignored\n",
        "Exception "
       ]
      },
      {
       "output_type": "stream",
       "stream": "stderr",
       "text": [
        "OverflowError: 'Python int too large to convert to C long' in 'menpofast.image.cython.extract_patches.calc_slices' ignored\n",
        "Exception ValueError: ValueError('got differing extents in dimension 1 (got 29 and 0)',) in 'menpofast.image.cython.extract_patches.slice_image' ignored\n",
        "Exception OverflowError: 'Python int too large to convert to C long' in 'menpofast.image.cython.extract_patches.calc_slices' ignored\n",
        "Exception ValueError: ValueError('got differing extents in dimension 1 (got 29 and 0)',) in 'menpofast.image.cython.extract_patches.slice_image' ignored\n",
        "Exception OverflowError: 'Python int too large to convert to C long' in 'menpofast.image.cython.extract_patches.calc_slices' ignored\n",
        "Exception ValueError: ValueError('got differing extents in dimension 1 (got 29 and 0)',) in 'menpofast.image.cython.extract_patches.slice_image' ignored\n",
        "Exception OverflowError: 'Python int too large to convert to C long' in 'menpofast.image.cython.extract_patches.calc_slices' ignored\n",
        "Exception ValueError: ValueError('got differing extents in dimension 1 (got 29 and 0)',) in 'menpofast.image.cython.extract_patches.slice_image' ignored\n",
        "Exception "
       ]
      },
      {
       "output_type": "stream",
       "stream": "stdout",
       "text": [
        " 15\n",
        "Initial error: 0.1434\n",
        "Final error: 0.1535\n",
        "Image: "
       ]
      },
      {
       "output_type": "stream",
       "stream": "stdout",
       "text": [
        " 15\n",
        "Initial error: 0.1434\n",
        "Final error: nan\n",
        "Image: "
       ]
      },
      {
       "output_type": "stream",
       "stream": "stderr",
       "text": [
        "OverflowError: 'Python int too large to convert to C long' in 'menpofast.image.cython.extract_patches.calc_slices' ignored\n",
        "Exception ValueError: ValueError('got differing extents in dimension 1 (got 29 and 0)',) in 'menpofast.image.cython.extract_patches.slice_image' ignored\n",
        "Exception "
       ]
      },
      {
       "output_type": "stream",
       "stream": "stderr",
       "text": [
        "OverflowError: 'Python int too large to convert to C long' in 'menpofast.image.cython.extract_patches.calc_slices' ignored\n",
        "Exception ValueError: ValueError('got differing extents in dimension 1 (got 29 and 0)',) in 'menpofast.image.cython.extract_patches.slice_image' ignored\n",
        "Exception OverflowError: 'Python int too large to convert to C long' in 'menpofast.image.cython.extract_patches.calc_slices' ignored\n",
        "Exception ValueError: ValueError('got differing extents in dimension 1 (got 29 and 0)',) in 'menpofast.image.cython.extract_patches.slice_image' ignored\n",
        "Exception OverflowError: 'Python int too large to convert to C long' in 'menpofast.image.cython.extract_patches.calc_slices' ignored\n",
        "Exception ValueError: ValueError('got differing extents in dimension 1 (got 29 and 0)',) in 'menpofast.image.cython.extract_patches.slice_image' ignored\n",
        "Exception OverflowError: 'Python int too large to convert to C long' in 'menpofast.image.cython.extract_patches.calc_slices' ignored\n",
        "Exception ValueError: ValueError('got differing extents in dimension 1 (got 29 and 0)',) in 'menpofast.image.cython.extract_patches.slice_image' ignored\n",
        "Exception "
       ]
      },
      {
       "output_type": "stream",
       "stream": "stderr",
       "text": [
        "OverflowError: 'Python int too large to convert to C long' in 'menpofast.image.cython.extract_patches.calc_slices' ignored\n",
        "Exception ValueError: ValueError('got differing extents in dimension 1 (got 29 and 0)',) in 'menpofast.image.cython.extract_patches.slice_image' ignored\n",
        "Exception OverflowError: 'Python int too large to convert to C long' in 'menpofast.image.cython.extract_patches.calc_slices' ignored\n",
        "Exception ValueError: ValueError('got differing extents in dimension 1 (got 29 and 0)',) in 'menpofast.image.cython.extract_patches.slice_image' ignored\n",
        "Exception OverflowError: 'Python int too large to convert to C long' in 'menpofast.image.cython.extract_patches.calc_slices' ignored\n",
        "Exception ValueError: ValueError('got differing extents in dimension 1 (got 29 and 0)',) in 'menpofast.image.cython.extract_patches.slice_image' ignored\n",
        "Exception OverflowError: 'Python int too large to convert to C long' in 'menpofast.image.cython.extract_patches.calc_slices' ignored\n",
        "Exception ValueError: ValueError('got differing extents in dimension 1 (got 29 and 0)',) in 'menpofast.image.cython.extract_patches.slice_image' ignored\n",
        "Exception "
       ]
      },
      {
       "output_type": "stream",
       "stream": "stdout",
       "text": [
        " 16\n",
        "Initial error: 0.0831\n",
        "Final error: 0.0505\n",
        "Image: "
       ]
      },
      {
       "output_type": "stream",
       "stream": "stdout",
       "text": [
        " 16\n",
        "Initial error: 0.0831\n",
        "Final error: nan\n",
        "Image: "
       ]
      },
      {
       "output_type": "stream",
       "stream": "stderr",
       "text": [
        "OverflowError: 'Python int too large to convert to C long' in 'menpofast.image.cython.extract_patches.calc_slices' ignored\n",
        "Exception ValueError: ValueError('got differing extents in dimension 1 (got 29 and 0)',) in 'menpofast.image.cython.extract_patches.slice_image' ignored\n",
        "Exception "
       ]
      },
      {
       "output_type": "stream",
       "stream": "stderr",
       "text": [
        "OverflowError: 'Python int too large to convert to C long' in 'menpofast.image.cython.extract_patches.calc_slices' ignored\n",
        "Exception ValueError: ValueError('got differing extents in dimension 1 (got 29 and 0)',) in 'menpofast.image.cython.extract_patches.slice_image' ignored\n",
        "Exception OverflowError: 'Python int too large to convert to C long' in 'menpofast.image.cython.extract_patches.calc_slices' ignored\n",
        "Exception ValueError: ValueError('got differing extents in dimension 1 (got 29 and 0)',) in 'menpofast.image.cython.extract_patches.slice_image' ignored\n",
        "Exception OverflowError: 'Python int too large to convert to C long' in 'menpofast.image.cython.extract_patches.calc_slices' ignored\n",
        "Exception ValueError: ValueError('got differing extents in dimension 1 (got 29 and 0)',) in 'menpofast.image.cython.extract_patches.slice_image' ignored\n",
        "Exception OverflowError: 'Python int too large to convert to C long' in 'menpofast.image.cython.extract_patches.calc_slices' ignored\n",
        "Exception ValueError: ValueError('got differing extents in dimension 1 (got 29 and 0)',) in 'menpofast.image.cython.extract_patches.slice_image' ignored\n",
        "Exception "
       ]
      },
      {
       "output_type": "stream",
       "stream": "stderr",
       "text": [
        "OverflowError: 'Python int too large to convert to C long' in 'menpofast.image.cython.extract_patches.calc_slices' ignored\n",
        "Exception ValueError: ValueError('got differing extents in dimension 1 (got 29 and 0)',) in 'menpofast.image.cython.extract_patches.slice_image' ignored\n",
        "Exception OverflowError: 'Python int too large to convert to C long' in 'menpofast.image.cython.extract_patches.calc_slices' ignored\n",
        "Exception ValueError: ValueError('got differing extents in dimension 1 (got 29 and 0)',) in 'menpofast.image.cython.extract_patches.slice_image' ignored\n",
        "Exception OverflowError: 'Python int too large to convert to C long' in 'menpofast.image.cython.extract_patches.calc_slices' ignored\n",
        "Exception ValueError: ValueError('got differing extents in dimension 1 (got 29 and 0)',) in 'menpofast.image.cython.extract_patches.slice_image' ignored\n",
        "Exception OverflowError: 'Python int too large to convert to C long' in 'menpofast.image.cython.extract_patches.calc_slices' ignored\n",
        "Exception ValueError: ValueError('got differing extents in dimension 1 (got 29 and 0)',) in 'menpofast.image.cython.extract_patches.slice_image' ignored\n",
        "Exception "
       ]
      },
      {
       "output_type": "stream",
       "stream": "stdout",
       "text": [
        " 17\n",
        "Initial error: 0.1267\n",
        "Final error: 0.0913\n",
        "Image: "
       ]
      },
      {
       "output_type": "stream",
       "stream": "stdout",
       "text": [
        " 17\n",
        "Initial error: 0.1267\n",
        "Final error: nan\n",
        "Image: "
       ]
      },
      {
       "output_type": "stream",
       "stream": "stderr",
       "text": [
        "OverflowError: 'Python int too large to convert to C long' in 'menpofast.image.cython.extract_patches.calc_slices' ignored\n",
        "Exception ValueError: ValueError('got differing extents in dimension 1 (got 29 and 0)',) in 'menpofast.image.cython.extract_patches.slice_image' ignored\n",
        "Exception "
       ]
      },
      {
       "output_type": "stream",
       "stream": "stderr",
       "text": [
        "OverflowError: 'Python int too large to convert to C long' in 'menpofast.image.cython.extract_patches.calc_slices' ignored\n",
        "Exception ValueError: ValueError('got differing extents in dimension 1 (got 29 and 0)',) in 'menpofast.image.cython.extract_patches.slice_image' ignored\n",
        "Exception OverflowError: 'Python int too large to convert to C long' in 'menpofast.image.cython.extract_patches.calc_slices' ignored\n",
        "Exception ValueError: ValueError('got differing extents in dimension 1 (got 29 and 0)',) in 'menpofast.image.cython.extract_patches.slice_image' ignored\n",
        "Exception OverflowError: 'Python int too large to convert to C long' in 'menpofast.image.cython.extract_patches.calc_slices' ignored\n",
        "Exception ValueError: ValueError('got differing extents in dimension 1 (got 29 and 0)',) in 'menpofast.image.cython.extract_patches.slice_image' ignored\n",
        "Exception OverflowError: 'Python int too large to convert to C long' in 'menpofast.image.cython.extract_patches.calc_slices' ignored\n",
        "Exception ValueError: ValueError('got differing extents in dimension 1 (got 29 and 0)',) in 'menpofast.image.cython.extract_patches.slice_image' ignored\n",
        "Exception "
       ]
      },
      {
       "output_type": "stream",
       "stream": "stderr",
       "text": [
        "OverflowError: 'Python int too large to convert to C long' in 'menpofast.image.cython.extract_patches.calc_slices' ignored\n",
        "Exception ValueError: ValueError('got differing extents in dimension 1 (got 29 and 0)',) in 'menpofast.image.cython.extract_patches.slice_image' ignored\n",
        "Exception OverflowError: 'Python int too large to convert to C long' in 'menpofast.image.cython.extract_patches.calc_slices' ignored\n",
        "Exception ValueError: ValueError('got differing extents in dimension 1 (got 29 and 0)',) in 'menpofast.image.cython.extract_patches.slice_image' ignored\n",
        "Exception OverflowError: 'Python int too large to convert to C long' in 'menpofast.image.cython.extract_patches.calc_slices' ignored\n",
        "Exception ValueError: ValueError('got differing extents in dimension 1 (got 29 and 0)',) in 'menpofast.image.cython.extract_patches.slice_image' ignored\n",
        "Exception OverflowError: 'Python int too large to convert to C long' in 'menpofast.image.cython.extract_patches.calc_slices' ignored\n",
        "Exception ValueError: ValueError('got differing extents in dimension 1 (got 29 and 0)',) in 'menpofast.image.cython.extract_patches.slice_image' ignored\n",
        "Exception "
       ]
      },
      {
       "output_type": "stream",
       "stream": "stdout",
       "text": [
        " 18\n",
        "Initial error: 0.0798\n",
        "Final error: 0.0711\n",
        "Image: "
       ]
      },
      {
       "output_type": "stream",
       "stream": "stdout",
       "text": [
        " 18\n",
        "Initial error: 0.0798\n",
        "Final error: nan\n",
        "Image: "
       ]
      },
      {
       "output_type": "stream",
       "stream": "stderr",
       "text": [
        "OverflowError: 'Python int too large to convert to C long' in 'menpofast.image.cython.extract_patches.calc_slices' ignored\n",
        "Exception ValueError: ValueError('got differing extents in dimension 1 (got 29 and 0)',) in 'menpofast.image.cython.extract_patches.slice_image' ignored\n",
        "Exception "
       ]
      },
      {
       "output_type": "stream",
       "stream": "stderr",
       "text": [
        "OverflowError: 'Python int too large to convert to C long' in 'menpofast.image.cython.extract_patches.calc_slices' ignored\n",
        "Exception ValueError: ValueError('got differing extents in dimension 1 (got 29 and 0)',) in 'menpofast.image.cython.extract_patches.slice_image' ignored\n",
        "Exception OverflowError: 'Python int too large to convert to C long' in 'menpofast.image.cython.extract_patches.calc_slices' ignored\n",
        "Exception ValueError: ValueError('got differing extents in dimension 1 (got 29 and 0)',) in 'menpofast.image.cython.extract_patches.slice_image' ignored\n",
        "Exception OverflowError: 'Python int too large to convert to C long' in 'menpofast.image.cython.extract_patches.calc_slices' ignored\n",
        "Exception ValueError: ValueError('got differing extents in dimension 1 (got 29 and 0)',) in 'menpofast.image.cython.extract_patches.slice_image' ignored\n",
        "Exception OverflowError: 'Python int too large to convert to C long' in 'menpofast.image.cython.extract_patches.calc_slices' ignored\n",
        "Exception ValueError: ValueError('got differing extents in dimension 1 (got 29 and 0)',) in 'menpofast.image.cython.extract_patches.slice_image' ignored\n",
        "Exception "
       ]
      },
      {
       "output_type": "stream",
       "stream": "stderr",
       "text": [
        "OverflowError: 'Python int too large to convert to C long' in 'menpofast.image.cython.extract_patches.calc_slices' ignored\n",
        "Exception ValueError: ValueError('got differing extents in dimension 1 (got 29 and 0)',) in 'menpofast.image.cython.extract_patches.slice_image' ignored\n",
        "Exception OverflowError: 'Python int too large to convert to C long' in 'menpofast.image.cython.extract_patches.calc_slices' ignored\n",
        "Exception ValueError: ValueError('got differing extents in dimension 1 (got 29 and 0)',) in 'menpofast.image.cython.extract_patches.slice_image' ignored\n",
        "Exception OverflowError: 'Python int too large to convert to C long' in 'menpofast.image.cython.extract_patches.calc_slices' ignored\n",
        "Exception ValueError: ValueError('got differing extents in dimension 1 (got 29 and 0)',) in 'menpofast.image.cython.extract_patches.slice_image' ignored\n",
        "Exception OverflowError: 'Python int too large to convert to C long' in 'menpofast.image.cython.extract_patches.calc_slices' ignored\n",
        "Exception ValueError: ValueError('got differing extents in dimension 1 (got 29 and 0)',) in 'menpofast.image.cython.extract_patches.slice_image' ignored\n",
        "Exception "
       ]
      },
      {
       "output_type": "stream",
       "stream": "stdout",
       "text": [
        " 19\n",
        "Initial error: 0.0550\n",
        "Final error: 0.0332\n",
        "Image: "
       ]
      },
      {
       "output_type": "stream",
       "stream": "stdout",
       "text": [
        " 19\n",
        "Initial error: 0.0550\n",
        "Final error: nan\n",
        "Image: "
       ]
      },
      {
       "output_type": "stream",
       "stream": "stderr",
       "text": [
        "OverflowError: 'Python int too large to convert to C long' in 'menpofast.image.cython.extract_patches.calc_slices' ignored\n",
        "Exception ValueError: ValueError('got differing extents in dimension 1 (got 29 and 0)',) in 'menpofast.image.cython.extract_patches.slice_image' ignored\n",
        "Exception "
       ]
      },
      {
       "output_type": "stream",
       "stream": "stderr",
       "text": [
        "OverflowError: 'Python int too large to convert to C long' in 'menpofast.image.cython.extract_patches.calc_slices' ignored\n",
        "Exception ValueError: ValueError('got differing extents in dimension 1 (got 29 and 0)',) in 'menpofast.image.cython.extract_patches.slice_image' ignored\n",
        "Exception OverflowError: 'Python int too large to convert to C long' in 'menpofast.image.cython.extract_patches.calc_slices' ignored\n",
        "Exception ValueError: ValueError('got differing extents in dimension 1 (got 29 and 0)',) in 'menpofast.image.cython.extract_patches.slice_image' ignored\n",
        "Exception OverflowError: 'Python int too large to convert to C long' in 'menpofast.image.cython.extract_patches.calc_slices' ignored\n",
        "Exception ValueError: ValueError('got differing extents in dimension 1 (got 29 and 0)',) in 'menpofast.image.cython.extract_patches.slice_image' ignored\n",
        "Exception OverflowError: 'Python int too large to convert to C long' in 'menpofast.image.cython.extract_patches.calc_slices' ignored\n",
        "Exception ValueError: ValueError('got differing extents in dimension 1 (got 29 and 0)',) in 'menpofast.image.cython.extract_patches.slice_image' ignored\n",
        "Exception "
       ]
      },
      {
       "output_type": "stream",
       "stream": "stderr",
       "text": [
        "OverflowError: 'Python int too large to convert to C long' in 'menpofast.image.cython.extract_patches.calc_slices' ignored\n",
        "Exception ValueError: ValueError('got differing extents in dimension 1 (got 29 and 0)',) in 'menpofast.image.cython.extract_patches.slice_image' ignored\n",
        "Exception OverflowError: 'Python int too large to convert to C long' in 'menpofast.image.cython.extract_patches.calc_slices' ignored\n",
        "Exception ValueError: ValueError('got differing extents in dimension 1 (got 29 and 0)',) in 'menpofast.image.cython.extract_patches.slice_image' ignored\n",
        "Exception OverflowError: 'Python int too large to convert to C long' in 'menpofast.image.cython.extract_patches.calc_slices' ignored\n",
        "Exception ValueError: ValueError('got differing extents in dimension 1 (got 29 and 0)',) in 'menpofast.image.cython.extract_patches.slice_image' ignored\n",
        "Exception OverflowError: 'Python int too large to convert to C long' in 'menpofast.image.cython.extract_patches.calc_slices' ignored\n",
        "Exception ValueError: ValueError('got differing extents in dimension 1 (got 29 and 0)',) in 'menpofast.image.cython.extract_patches.slice_image' ignored\n",
        "Exception "
       ]
      },
      {
       "output_type": "stream",
       "stream": "stdout",
       "text": [
        " 20\n",
        "Initial error: 0.1250\n",
        "Final error: 0.0723\n",
        "Image: "
       ]
      },
      {
       "output_type": "stream",
       "stream": "stdout",
       "text": [
        " 20\n",
        "Initial error: 0.1250\n",
        "Final error: nan\n",
        "Image: "
       ]
      },
      {
       "output_type": "stream",
       "stream": "stderr",
       "text": [
        "OverflowError: 'Python int too large to convert to C long' in 'menpofast.image.cython.extract_patches.calc_slices' ignored\n",
        "Exception ValueError: ValueError('got differing extents in dimension 1 (got 29 and 0)',) in 'menpofast.image.cython.extract_patches.slice_image' ignored\n",
        "Exception "
       ]
      },
      {
       "output_type": "stream",
       "stream": "stderr",
       "text": [
        "OverflowError: 'Python int too large to convert to C long' in 'menpofast.image.cython.extract_patches.calc_slices' ignored\n",
        "Exception ValueError: ValueError('got differing extents in dimension 1 (got 29 and 0)',) in 'menpofast.image.cython.extract_patches.slice_image' ignored\n",
        "Exception OverflowError: 'Python int too large to convert to C long' in 'menpofast.image.cython.extract_patches.calc_slices' ignored\n",
        "Exception ValueError: ValueError('got differing extents in dimension 1 (got 29 and 0)',) in 'menpofast.image.cython.extract_patches.slice_image' ignored\n",
        "Exception OverflowError: 'Python int too large to convert to C long' in 'menpofast.image.cython.extract_patches.calc_slices' ignored\n",
        "Exception ValueError: ValueError('got differing extents in dimension 1 (got 29 and 0)',) in 'menpofast.image.cython.extract_patches.slice_image' ignored\n",
        "Exception OverflowError: 'Python int too large to convert to C long' in 'menpofast.image.cython.extract_patches.calc_slices' ignored\n",
        "Exception ValueError: ValueError('got differing extents in dimension 1 (got 29 and 0)',) in 'menpofast.image.cython.extract_patches.slice_image' ignored\n",
        "Exception "
       ]
      },
      {
       "output_type": "stream",
       "stream": "stderr",
       "text": [
        "OverflowError: 'Python int too large to convert to C long' in 'menpofast.image.cython.extract_patches.calc_slices' ignored\n",
        "Exception ValueError: ValueError('got differing extents in dimension 1 (got 29 and 0)',) in 'menpofast.image.cython.extract_patches.slice_image' ignored\n",
        "Exception OverflowError: 'Python int too large to convert to C long' in 'menpofast.image.cython.extract_patches.calc_slices' ignored\n",
        "Exception ValueError: ValueError('got differing extents in dimension 1 (got 29 and 0)',) in 'menpofast.image.cython.extract_patches.slice_image' ignored\n",
        "Exception OverflowError: 'Python int too large to convert to C long' in 'menpofast.image.cython.extract_patches.calc_slices' ignored\n",
        "Exception ValueError: ValueError('got differing extents in dimension 1 (got 29 and 0)',) in 'menpofast.image.cython.extract_patches.slice_image' ignored\n",
        "Exception OverflowError: 'Python int too large to convert to C long' in 'menpofast.image.cython.extract_patches.calc_slices' ignored\n",
        "Exception ValueError: ValueError('got differing extents in dimension 1 (got 29 and 0)',) in 'menpofast.image.cython.extract_patches.slice_image' ignored\n",
        "Exception "
       ]
      },
      {
       "output_type": "stream",
       "stream": "stdout",
       "text": [
        " 21\n",
        "Initial error: 0.0439\n",
        "Final error: 0.0197\n",
        "Image: "
       ]
      },
      {
       "output_type": "stream",
       "stream": "stdout",
       "text": [
        " 21\n",
        "Initial error: 0.0439\n",
        "Final error: nan\n",
        "Image: "
       ]
      },
      {
       "output_type": "stream",
       "stream": "stderr",
       "text": [
        "OverflowError: 'Python int too large to convert to C long' in 'menpofast.image.cython.extract_patches.calc_slices' ignored\n",
        "Exception ValueError: ValueError('got differing extents in dimension 1 (got 29 and 0)',) in 'menpofast.image.cython.extract_patches.slice_image' ignored\n",
        "Exception "
       ]
      },
      {
       "output_type": "stream",
       "stream": "stderr",
       "text": [
        "OverflowError: 'Python int too large to convert to C long' in 'menpofast.image.cython.extract_patches.calc_slices' ignored\n",
        "Exception ValueError: ValueError('got differing extents in dimension 1 (got 29 and 0)',) in 'menpofast.image.cython.extract_patches.slice_image' ignored\n",
        "Exception OverflowError: 'Python int too large to convert to C long' in 'menpofast.image.cython.extract_patches.calc_slices' ignored\n",
        "Exception ValueError: ValueError('got differing extents in dimension 1 (got 29 and 0)',) in 'menpofast.image.cython.extract_patches.slice_image' ignored\n",
        "Exception OverflowError: 'Python int too large to convert to C long' in 'menpofast.image.cython.extract_patches.calc_slices' ignored\n",
        "Exception ValueError: ValueError('got differing extents in dimension 1 (got 29 and 0)',) in 'menpofast.image.cython.extract_patches.slice_image' ignored\n",
        "Exception OverflowError: 'Python int too large to convert to C long' in 'menpofast.image.cython.extract_patches.calc_slices' ignored\n",
        "Exception ValueError: ValueError('got differing extents in dimension 1 (got 29 and 0)',) in 'menpofast.image.cython.extract_patches.slice_image' ignored\n",
        "Exception "
       ]
      },
      {
       "output_type": "stream",
       "stream": "stderr",
       "text": [
        "OverflowError: 'Python int too large to convert to C long' in 'menpofast.image.cython.extract_patches.calc_slices' ignored\n",
        "Exception ValueError: ValueError('got differing extents in dimension 1 (got 29 and 0)',) in 'menpofast.image.cython.extract_patches.slice_image' ignored\n",
        "Exception OverflowError: 'Python int too large to convert to C long' in 'menpofast.image.cython.extract_patches.calc_slices' ignored\n",
        "Exception ValueError: ValueError('got differing extents in dimension 1 (got 29 and 0)',) in 'menpofast.image.cython.extract_patches.slice_image' ignored\n",
        "Exception OverflowError: 'Python int too large to convert to C long' in 'menpofast.image.cython.extract_patches.calc_slices' ignored\n",
        "Exception ValueError: ValueError('got differing extents in dimension 1 (got 29 and 0)',) in 'menpofast.image.cython.extract_patches.slice_image' ignored\n",
        "Exception OverflowError: 'Python int too large to convert to C long' in 'menpofast.image.cython.extract_patches.calc_slices' ignored\n",
        "Exception ValueError: ValueError('got differing extents in dimension 1 (got 29 and 0)',) in 'menpofast.image.cython.extract_patches.slice_image' ignored\n",
        "Exception "
       ]
      },
      {
       "output_type": "stream",
       "stream": "stdout",
       "text": [
        " 22\n",
        "Initial error: 0.1173\n",
        "Final error: 0.0815\n",
        "Image: "
       ]
      },
      {
       "output_type": "stream",
       "stream": "stdout",
       "text": [
        " 22\n",
        "Initial error: 0.1173\n",
        "Final error: nan\n",
        "Image: "
       ]
      },
      {
       "output_type": "stream",
       "stream": "stderr",
       "text": [
        "OverflowError: 'Python int too large to convert to C long' in 'menpofast.image.cython.extract_patches.calc_slices' ignored\n",
        "Exception ValueError: ValueError('got differing extents in dimension 1 (got 29 and 0)',) in 'menpofast.image.cython.extract_patches.slice_image' ignored\n",
        "Exception "
       ]
      },
      {
       "output_type": "stream",
       "stream": "stderr",
       "text": [
        "OverflowError: 'Python int too large to convert to C long' in 'menpofast.image.cython.extract_patches.calc_slices' ignored\n",
        "Exception ValueError: ValueError('got differing extents in dimension 1 (got 29 and 0)',) in 'menpofast.image.cython.extract_patches.slice_image' ignored\n",
        "Exception OverflowError: 'Python int too large to convert to C long' in 'menpofast.image.cython.extract_patches.calc_slices' ignored\n",
        "Exception ValueError: ValueError('got differing extents in dimension 1 (got 29 and 0)',) in 'menpofast.image.cython.extract_patches.slice_image' ignored\n",
        "Exception OverflowError: 'Python int too large to convert to C long' in 'menpofast.image.cython.extract_patches.calc_slices' ignored\n",
        "Exception ValueError: ValueError('got differing extents in dimension 1 (got 29 and 0)',) in 'menpofast.image.cython.extract_patches.slice_image' ignored\n",
        "Exception OverflowError: 'Python int too large to convert to C long' in 'menpofast.image.cython.extract_patches.calc_slices' ignored\n",
        "Exception ValueError: ValueError('got differing extents in dimension 1 (got 29 and 0)',) in 'menpofast.image.cython.extract_patches.slice_image' ignored\n",
        "Exception "
       ]
      },
      {
       "output_type": "stream",
       "stream": "stderr",
       "text": [
        "OverflowError: 'Python int too large to convert to C long' in 'menpofast.image.cython.extract_patches.calc_slices' ignored\n",
        "Exception ValueError: ValueError('got differing extents in dimension 1 (got 29 and 0)',) in 'menpofast.image.cython.extract_patches.slice_image' ignored\n",
        "Exception OverflowError: 'Python int too large to convert to C long' in 'menpofast.image.cython.extract_patches.calc_slices' ignored\n",
        "Exception ValueError: ValueError('got differing extents in dimension 1 (got 29 and 0)',) in 'menpofast.image.cython.extract_patches.slice_image' ignored\n",
        "Exception OverflowError: 'Python int too large to convert to C long' in 'menpofast.image.cython.extract_patches.calc_slices' ignored\n",
        "Exception ValueError: ValueError('got differing extents in dimension 1 (got 29 and 0)',) in 'menpofast.image.cython.extract_patches.slice_image' ignored\n",
        "Exception OverflowError: 'Python int too large to convert to C long' in 'menpofast.image.cython.extract_patches.calc_slices' ignored\n",
        "Exception ValueError: ValueError('got differing extents in dimension 1 (got 29 and 0)',) in 'menpofast.image.cython.extract_patches.slice_image' ignored\n",
        "Exception "
       ]
      },
      {
       "output_type": "stream",
       "stream": "stdout",
       "text": [
        " 23\n",
        "Initial error: 0.0946\n",
        "Final error: 0.0719\n",
        "Image: "
       ]
      },
      {
       "output_type": "stream",
       "stream": "stdout",
       "text": [
        " 23\n",
        "Initial error: 0.0946\n",
        "Final error: nan\n",
        "Image: "
       ]
      },
      {
       "output_type": "stream",
       "stream": "stderr",
       "text": [
        "OverflowError: 'Python int too large to convert to C long' in 'menpofast.image.cython.extract_patches.calc_slices' ignored\n",
        "Exception ValueError: ValueError('got differing extents in dimension 1 (got 29 and 0)',) in 'menpofast.image.cython.extract_patches.slice_image' ignored\n",
        "Exception "
       ]
      },
      {
       "output_type": "stream",
       "stream": "stderr",
       "text": [
        "OverflowError: 'Python int too large to convert to C long' in 'menpofast.image.cython.extract_patches.calc_slices' ignored\n",
        "Exception ValueError: ValueError('got differing extents in dimension 1 (got 29 and 0)',) in 'menpofast.image.cython.extract_patches.slice_image' ignored\n",
        "Exception OverflowError: 'Python int too large to convert to C long' in 'menpofast.image.cython.extract_patches.calc_slices' ignored\n",
        "Exception ValueError: ValueError('got differing extents in dimension 1 (got 29 and 0)',) in 'menpofast.image.cython.extract_patches.slice_image' ignored\n",
        "Exception OverflowError: 'Python int too large to convert to C long' in 'menpofast.image.cython.extract_patches.calc_slices' ignored\n",
        "Exception ValueError: ValueError('got differing extents in dimension 1 (got 29 and 0)',) in 'menpofast.image.cython.extract_patches.slice_image' ignored\n",
        "Exception OverflowError: 'Python int too large to convert to C long' in 'menpofast.image.cython.extract_patches.calc_slices' ignored\n",
        "Exception ValueError: ValueError('got differing extents in dimension 1 (got 29 and 0)',) in 'menpofast.image.cython.extract_patches.slice_image' ignored\n",
        "Exception "
       ]
      },
      {
       "output_type": "stream",
       "stream": "stderr",
       "text": [
        "OverflowError: 'Python int too large to convert to C long' in 'menpofast.image.cython.extract_patches.calc_slices' ignored\n",
        "Exception ValueError: ValueError('got differing extents in dimension 1 (got 29 and 0)',) in 'menpofast.image.cython.extract_patches.slice_image' ignored\n",
        "Exception OverflowError: 'Python int too large to convert to C long' in 'menpofast.image.cython.extract_patches.calc_slices' ignored\n",
        "Exception ValueError: ValueError('got differing extents in dimension 1 (got 29 and 0)',) in 'menpofast.image.cython.extract_patches.slice_image' ignored\n",
        "Exception OverflowError: 'Python int too large to convert to C long' in 'menpofast.image.cython.extract_patches.calc_slices' ignored\n",
        "Exception ValueError: ValueError('got differing extents in dimension 1 (got 29 and 0)',) in 'menpofast.image.cython.extract_patches.slice_image' ignored\n",
        "Exception OverflowError: 'Python int too large to convert to C long' in 'menpofast.image.cython.extract_patches.calc_slices' ignored\n",
        "Exception ValueError: ValueError('got differing extents in dimension 1 (got 29 and 0)',) in 'menpofast.image.cython.extract_patches.slice_image' ignored\n",
        "Exception "
       ]
      },
      {
       "output_type": "stream",
       "stream": "stdout",
       "text": [
        " 24\n",
        "Initial error: 0.0341\n",
        "Final error: 0.0172\n",
        "Image: "
       ]
      },
      {
       "output_type": "stream",
       "stream": "stdout",
       "text": [
        " 24\n",
        "Initial error: 0.0341\n",
        "Final error: nan\n",
        "Image: "
       ]
      },
      {
       "output_type": "stream",
       "stream": "stderr",
       "text": [
        "OverflowError: 'Python int too large to convert to C long' in 'menpofast.image.cython.extract_patches.calc_slices' ignored\n",
        "Exception ValueError: ValueError('got differing extents in dimension 1 (got 29 and 0)',) in 'menpofast.image.cython.extract_patches.slice_image' ignored\n",
        "Exception "
       ]
      },
      {
       "output_type": "stream",
       "stream": "stderr",
       "text": [
        "OverflowError: 'Python int too large to convert to C long' in 'menpofast.image.cython.extract_patches.calc_slices' ignored\n",
        "Exception ValueError: ValueError('got differing extents in dimension 1 (got 29 and 0)',) in 'menpofast.image.cython.extract_patches.slice_image' ignored\n",
        "Exception OverflowError: 'Python int too large to convert to C long' in 'menpofast.image.cython.extract_patches.calc_slices' ignored\n",
        "Exception ValueError: ValueError('got differing extents in dimension 1 (got 29 and 0)',) in 'menpofast.image.cython.extract_patches.slice_image' ignored\n",
        "Exception OverflowError: 'Python int too large to convert to C long' in 'menpofast.image.cython.extract_patches.calc_slices' ignored\n",
        "Exception ValueError: ValueError('got differing extents in dimension 1 (got 29 and 0)',) in 'menpofast.image.cython.extract_patches.slice_image' ignored\n",
        "Exception OverflowError: 'Python int too large to convert to C long' in 'menpofast.image.cython.extract_patches.calc_slices' ignored\n",
        "Exception ValueError: ValueError('got differing extents in dimension 1 (got 29 and 0)',) in 'menpofast.image.cython.extract_patches.slice_image' ignored\n",
        "Exception "
       ]
      },
      {
       "output_type": "stream",
       "stream": "stderr",
       "text": [
        "OverflowError: 'Python int too large to convert to C long' in 'menpofast.image.cython.extract_patches.calc_slices' ignored\n",
        "Exception ValueError: ValueError('got differing extents in dimension 1 (got 29 and 0)',) in 'menpofast.image.cython.extract_patches.slice_image' ignored\n",
        "Exception OverflowError: 'Python int too large to convert to C long' in 'menpofast.image.cython.extract_patches.calc_slices' ignored\n",
        "Exception ValueError: ValueError('got differing extents in dimension 1 (got 29 and 0)',) in 'menpofast.image.cython.extract_patches.slice_image' ignored\n",
        "Exception OverflowError: 'Python int too large to convert to C long' in 'menpofast.image.cython.extract_patches.calc_slices' ignored\n",
        "Exception ValueError: ValueError('got differing extents in dimension 1 (got 29 and 0)',) in 'menpofast.image.cython.extract_patches.slice_image' ignored\n",
        "Exception OverflowError: 'Python int too large to convert to C long' in 'menpofast.image.cython.extract_patches.calc_slices' ignored\n",
        "Exception ValueError: ValueError('got differing extents in dimension 1 (got 29 and 0)',) in 'menpofast.image.cython.extract_patches.slice_image' ignored\n",
        "Exception "
       ]
      },
      {
       "output_type": "stream",
       "stream": "stdout",
       "text": [
        " 25\n",
        "Initial error: 0.0839\n",
        "Final error: 0.0392\n",
        "Image: "
       ]
      },
      {
       "output_type": "stream",
       "stream": "stdout",
       "text": [
        " 25\n",
        "Initial error: 0.0839\n",
        "Final error: nan\n",
        "Image: "
       ]
      },
      {
       "output_type": "stream",
       "stream": "stderr",
       "text": [
        "OverflowError: 'Python int too large to convert to C long' in 'menpofast.image.cython.extract_patches.calc_slices' ignored\n",
        "Exception ValueError: ValueError('got differing extents in dimension 1 (got 29 and 0)',) in 'menpofast.image.cython.extract_patches.slice_image' ignored\n",
        "Exception "
       ]
      },
      {
       "output_type": "stream",
       "stream": "stderr",
       "text": [
        "OverflowError: 'Python int too large to convert to C long' in 'menpofast.image.cython.extract_patches.calc_slices' ignored\n",
        "Exception ValueError: ValueError('got differing extents in dimension 1 (got 29 and 0)',) in 'menpofast.image.cython.extract_patches.slice_image' ignored\n",
        "Exception OverflowError: 'Python int too large to convert to C long' in 'menpofast.image.cython.extract_patches.calc_slices' ignored\n",
        "Exception ValueError: ValueError('got differing extents in dimension 1 (got 29 and 0)',) in 'menpofast.image.cython.extract_patches.slice_image' ignored\n",
        "Exception OverflowError: 'Python int too large to convert to C long' in 'menpofast.image.cython.extract_patches.calc_slices' ignored\n",
        "Exception ValueError: ValueError('got differing extents in dimension 1 (got 29 and 0)',) in 'menpofast.image.cython.extract_patches.slice_image' ignored\n",
        "Exception OverflowError: 'Python int too large to convert to C long' in 'menpofast.image.cython.extract_patches.calc_slices' ignored\n",
        "Exception ValueError: ValueError('got differing extents in dimension 1 (got 29 and 0)',) in 'menpofast.image.cython.extract_patches.slice_image' ignored\n",
        "Exception "
       ]
      },
      {
       "output_type": "stream",
       "stream": "stderr",
       "text": [
        "OverflowError: 'Python int too large to convert to C long' in 'menpofast.image.cython.extract_patches.calc_slices' ignored\n",
        "Exception ValueError: ValueError('got differing extents in dimension 1 (got 29 and 0)',) in 'menpofast.image.cython.extract_patches.slice_image' ignored\n",
        "Exception OverflowError: 'Python int too large to convert to C long' in 'menpofast.image.cython.extract_patches.calc_slices' ignored\n",
        "Exception ValueError: ValueError('got differing extents in dimension 1 (got 29 and 0)',) in 'menpofast.image.cython.extract_patches.slice_image' ignored\n",
        "Exception OverflowError: 'Python int too large to convert to C long' in 'menpofast.image.cython.extract_patches.calc_slices' ignored\n",
        "Exception ValueError: ValueError('got differing extents in dimension 1 (got 29 and 0)',) in 'menpofast.image.cython.extract_patches.slice_image' ignored\n",
        "Exception OverflowError: 'Python int too large to convert to C long' in 'menpofast.image.cython.extract_patches.calc_slices' ignored\n",
        "Exception ValueError: ValueError('got differing extents in dimension 1 (got 29 and 0)',) in 'menpofast.image.cython.extract_patches.slice_image' ignored\n",
        "Exception "
       ]
      },
      {
       "output_type": "stream",
       "stream": "stdout",
       "text": [
        " 26\n",
        "Initial error: 0.0768\n",
        "Final error: 0.0554\n",
        "Image: "
       ]
      },
      {
       "output_type": "stream",
       "stream": "stdout",
       "text": [
        " 26\n",
        "Initial error: 0.0768\n",
        "Final error: nan\n",
        "Image: "
       ]
      },
      {
       "output_type": "stream",
       "stream": "stderr",
       "text": [
        "OverflowError: 'Python int too large to convert to C long' in 'menpofast.image.cython.extract_patches.calc_slices' ignored\n",
        "Exception ValueError: ValueError('got differing extents in dimension 1 (got 29 and 0)',) in 'menpofast.image.cython.extract_patches.slice_image' ignored\n",
        "Exception "
       ]
      },
      {
       "output_type": "stream",
       "stream": "stderr",
       "text": [
        "OverflowError: 'Python int too large to convert to C long' in 'menpofast.image.cython.extract_patches.calc_slices' ignored\n",
        "Exception ValueError: ValueError('got differing extents in dimension 1 (got 29 and 0)',) in 'menpofast.image.cython.extract_patches.slice_image' ignored\n",
        "Exception OverflowError: 'Python int too large to convert to C long' in 'menpofast.image.cython.extract_patches.calc_slices' ignored\n",
        "Exception ValueError: ValueError('got differing extents in dimension 1 (got 29 and 0)',) in 'menpofast.image.cython.extract_patches.slice_image' ignored\n",
        "Exception OverflowError: 'Python int too large to convert to C long' in 'menpofast.image.cython.extract_patches.calc_slices' ignored\n",
        "Exception ValueError: ValueError('got differing extents in dimension 1 (got 29 and 0)',) in 'menpofast.image.cython.extract_patches.slice_image' ignored\n",
        "Exception OverflowError: 'Python int too large to convert to C long' in 'menpofast.image.cython.extract_patches.calc_slices' ignored\n",
        "Exception ValueError: ValueError('got differing extents in dimension 1 (got 29 and 0)',) in 'menpofast.image.cython.extract_patches.slice_image' ignored\n",
        "Exception "
       ]
      },
      {
       "output_type": "stream",
       "stream": "stderr",
       "text": [
        "OverflowError: 'Python int too large to convert to C long' in 'menpofast.image.cython.extract_patches.calc_slices' ignored\n",
        "Exception ValueError: ValueError('got differing extents in dimension 1 (got 29 and 0)',) in 'menpofast.image.cython.extract_patches.slice_image' ignored\n",
        "Exception OverflowError: 'Python int too large to convert to C long' in 'menpofast.image.cython.extract_patches.calc_slices' ignored\n",
        "Exception ValueError: ValueError('got differing extents in dimension 1 (got 29 and 0)',) in 'menpofast.image.cython.extract_patches.slice_image' ignored\n",
        "Exception OverflowError: 'Python int too large to convert to C long' in 'menpofast.image.cython.extract_patches.calc_slices' ignored\n",
        "Exception ValueError: ValueError('got differing extents in dimension 1 (got 29 and 0)',) in 'menpofast.image.cython.extract_patches.slice_image' ignored\n",
        "Exception OverflowError: 'Python int too large to convert to C long' in 'menpofast.image.cython.extract_patches.calc_slices' ignored\n",
        "Exception ValueError: ValueError('got differing extents in dimension 1 (got 29 and 0)',) in 'menpofast.image.cython.extract_patches.slice_image' ignored\n",
        "Exception "
       ]
      },
      {
       "output_type": "stream",
       "stream": "stdout",
       "text": [
        " 27\n",
        "Initial error: 0.1038\n",
        "Final error: 0.0936\n",
        "Image: "
       ]
      },
      {
       "output_type": "stream",
       "stream": "stdout",
       "text": [
        " 27\n",
        "Initial error: 0.1038\n",
        "Final error: nan\n",
        "Image: "
       ]
      },
      {
       "output_type": "stream",
       "stream": "stderr",
       "text": [
        "OverflowError: 'Python int too large to convert to C long' in 'menpofast.image.cython.extract_patches.calc_slices' ignored\n",
        "Exception ValueError: ValueError('got differing extents in dimension 1 (got 29 and 0)',) in 'menpofast.image.cython.extract_patches.slice_image' ignored\n",
        "Exception "
       ]
      },
      {
       "output_type": "stream",
       "stream": "stderr",
       "text": [
        "OverflowError: 'Python int too large to convert to C long' in 'menpofast.image.cython.extract_patches.calc_slices' ignored\n",
        "Exception ValueError: ValueError('got differing extents in dimension 1 (got 29 and 0)',) in 'menpofast.image.cython.extract_patches.slice_image' ignored\n",
        "Exception OverflowError: 'Python int too large to convert to C long' in 'menpofast.image.cython.extract_patches.calc_slices' ignored\n",
        "Exception ValueError: ValueError('got differing extents in dimension 1 (got 29 and 0)',) in 'menpofast.image.cython.extract_patches.slice_image' ignored\n",
        "Exception OverflowError: 'Python int too large to convert to C long' in 'menpofast.image.cython.extract_patches.calc_slices' ignored\n",
        "Exception ValueError: ValueError('got differing extents in dimension 1 (got 29 and 0)',) in 'menpofast.image.cython.extract_patches.slice_image' ignored\n",
        "Exception OverflowError: 'Python int too large to convert to C long' in 'menpofast.image.cython.extract_patches.calc_slices' ignored\n",
        "Exception ValueError: ValueError('got differing extents in dimension 1 (got 29 and 0)',) in 'menpofast.image.cython.extract_patches.slice_image' ignored\n",
        "Exception "
       ]
      },
      {
       "output_type": "stream",
       "stream": "stderr",
       "text": [
        "OverflowError: 'Python int too large to convert to C long' in 'menpofast.image.cython.extract_patches.calc_slices' ignored\n",
        "Exception ValueError: ValueError('got differing extents in dimension 1 (got 29 and 0)',) in 'menpofast.image.cython.extract_patches.slice_image' ignored\n",
        "Exception OverflowError: 'Python int too large to convert to C long' in 'menpofast.image.cython.extract_patches.calc_slices' ignored\n",
        "Exception ValueError: ValueError('got differing extents in dimension 1 (got 29 and 0)',) in 'menpofast.image.cython.extract_patches.slice_image' ignored\n",
        "Exception OverflowError: 'Python int too large to convert to C long' in 'menpofast.image.cython.extract_patches.calc_slices' ignored\n",
        "Exception ValueError: ValueError('got differing extents in dimension 1 (got 29 and 0)',) in 'menpofast.image.cython.extract_patches.slice_image' ignored\n",
        "Exception OverflowError: 'Python int too large to convert to C long' in 'menpofast.image.cython.extract_patches.calc_slices' ignored\n",
        "Exception ValueError: ValueError('got differing extents in dimension 1 (got 29 and 0)',) in 'menpofast.image.cython.extract_patches.slice_image' ignored\n",
        "Exception "
       ]
      },
      {
       "output_type": "stream",
       "stream": "stdout",
       "text": [
        " 28\n",
        "Initial error: 0.0862\n",
        "Final error: 0.0610\n",
        "Image: "
       ]
      },
      {
       "output_type": "stream",
       "stream": "stdout",
       "text": [
        " 28\n",
        "Initial error: 0.0862\n",
        "Final error: nan\n",
        "Image: "
       ]
      },
      {
       "output_type": "stream",
       "stream": "stderr",
       "text": [
        "OverflowError: 'Python int too large to convert to C long' in 'menpofast.image.cython.extract_patches.calc_slices' ignored\n",
        "Exception ValueError: ValueError('got differing extents in dimension 1 (got 29 and 0)',) in 'menpofast.image.cython.extract_patches.slice_image' ignored\n",
        "Exception "
       ]
      },
      {
       "output_type": "stream",
       "stream": "stderr",
       "text": [
        "OverflowError: 'Python int too large to convert to C long' in 'menpofast.image.cython.extract_patches.calc_slices' ignored\n",
        "Exception ValueError: ValueError('got differing extents in dimension 1 (got 29 and 0)',) in 'menpofast.image.cython.extract_patches.slice_image' ignored\n",
        "Exception OverflowError: 'Python int too large to convert to C long' in 'menpofast.image.cython.extract_patches.calc_slices' ignored\n",
        "Exception ValueError: ValueError('got differing extents in dimension 1 (got 29 and 0)',) in 'menpofast.image.cython.extract_patches.slice_image' ignored\n",
        "Exception OverflowError: 'Python int too large to convert to C long' in 'menpofast.image.cython.extract_patches.calc_slices' ignored\n",
        "Exception ValueError: ValueError('got differing extents in dimension 1 (got 29 and 0)',) in 'menpofast.image.cython.extract_patches.slice_image' ignored\n",
        "Exception OverflowError: 'Python int too large to convert to C long' in 'menpofast.image.cython.extract_patches.calc_slices' ignored\n",
        "Exception ValueError: ValueError('got differing extents in dimension 1 (got 29 and 0)',) in 'menpofast.image.cython.extract_patches.slice_image' ignored\n",
        "Exception "
       ]
      },
      {
       "output_type": "stream",
       "stream": "stderr",
       "text": [
        "OverflowError: 'Python int too large to convert to C long' in 'menpofast.image.cython.extract_patches.calc_slices' ignored\n",
        "Exception ValueError: ValueError('got differing extents in dimension 1 (got 29 and 0)',) in 'menpofast.image.cython.extract_patches.slice_image' ignored\n",
        "Exception OverflowError: 'Python int too large to convert to C long' in 'menpofast.image.cython.extract_patches.calc_slices' ignored\n",
        "Exception ValueError: ValueError('got differing extents in dimension 1 (got 29 and 0)',) in 'menpofast.image.cython.extract_patches.slice_image' ignored\n",
        "Exception OverflowError: 'Python int too large to convert to C long' in 'menpofast.image.cython.extract_patches.calc_slices' ignored\n",
        "Exception ValueError: ValueError('got differing extents in dimension 1 (got 29 and 0)',) in 'menpofast.image.cython.extract_patches.slice_image' ignored\n",
        "Exception OverflowError: 'Python int too large to convert to C long' in 'menpofast.image.cython.extract_patches.calc_slices' ignored\n",
        "Exception ValueError: ValueError('got differing extents in dimension 1 (got 29 and 0)',) in 'menpofast.image.cython.extract_patches.slice_image' ignored\n",
        "Exception "
       ]
      },
      {
       "output_type": "stream",
       "stream": "stdout",
       "text": [
        " 29\n",
        "Initial error: 0.0835\n",
        "Final error: 0.0537\n",
        "Image: "
       ]
      },
      {
       "output_type": "stream",
       "stream": "stdout",
       "text": [
        " 29\n",
        "Initial error: 0.0835\n",
        "Final error: nan\n",
        "Image: "
       ]
      },
      {
       "output_type": "stream",
       "stream": "stderr",
       "text": [
        "OverflowError: 'Python int too large to convert to C long' in 'menpofast.image.cython.extract_patches.calc_slices' ignored\n",
        "Exception ValueError: ValueError('got differing extents in dimension 1 (got 29 and 0)',) in 'menpofast.image.cython.extract_patches.slice_image' ignored\n",
        "Exception "
       ]
      },
      {
       "output_type": "stream",
       "stream": "stderr",
       "text": [
        "OverflowError: 'Python int too large to convert to C long' in 'menpofast.image.cython.extract_patches.calc_slices' ignored\n",
        "Exception ValueError: ValueError('got differing extents in dimension 1 (got 29 and 0)',) in 'menpofast.image.cython.extract_patches.slice_image' ignored\n",
        "Exception OverflowError: 'Python int too large to convert to C long' in 'menpofast.image.cython.extract_patches.calc_slices' ignored\n",
        "Exception ValueError: ValueError('got differing extents in dimension 1 (got 29 and 0)',) in 'menpofast.image.cython.extract_patches.slice_image' ignored\n",
        "Exception OverflowError: 'Python int too large to convert to C long' in 'menpofast.image.cython.extract_patches.calc_slices' ignored\n",
        "Exception ValueError: ValueError('got differing extents in dimension 1 (got 29 and 0)',) in 'menpofast.image.cython.extract_patches.slice_image' ignored\n",
        "Exception OverflowError: 'Python int too large to convert to C long' in 'menpofast.image.cython.extract_patches.calc_slices' ignored\n",
        "Exception ValueError: ValueError('got differing extents in dimension 1 (got 29 and 0)',) in 'menpofast.image.cython.extract_patches.slice_image' ignored\n",
        "Exception "
       ]
      },
      {
       "output_type": "stream",
       "stream": "stderr",
       "text": [
        "OverflowError: 'Python int too large to convert to C long' in 'menpofast.image.cython.extract_patches.calc_slices' ignored\n",
        "Exception ValueError: ValueError('got differing extents in dimension 1 (got 29 and 0)',) in 'menpofast.image.cython.extract_patches.slice_image' ignored\n",
        "Exception OverflowError: 'Python int too large to convert to C long' in 'menpofast.image.cython.extract_patches.calc_slices' ignored\n",
        "Exception ValueError: ValueError('got differing extents in dimension 1 (got 29 and 0)',) in 'menpofast.image.cython.extract_patches.slice_image' ignored\n",
        "Exception OverflowError: 'Python int too large to convert to C long' in 'menpofast.image.cython.extract_patches.calc_slices' ignored\n",
        "Exception ValueError: ValueError('got differing extents in dimension 1 (got 29 and 0)',) in 'menpofast.image.cython.extract_patches.slice_image' ignored\n",
        "Exception OverflowError: 'Python int too large to convert to C long' in 'menpofast.image.cython.extract_patches.calc_slices' ignored\n",
        "Exception ValueError: ValueError('got differing extents in dimension 1 (got 29 and 0)',) in 'menpofast.image.cython.extract_patches.slice_image' ignored\n",
        "Exception "
       ]
      },
      {
       "output_type": "stream",
       "stream": "stdout",
       "text": [
        " 30\n",
        "Initial error: 0.1023\n",
        "Final error: 0.0533\n",
        "Image: "
       ]
      },
      {
       "output_type": "stream",
       "stream": "stdout",
       "text": [
        " 30\n",
        "Initial error: 0.1023\n",
        "Final error: nan\n",
        "Image: "
       ]
      },
      {
       "output_type": "stream",
       "stream": "stderr",
       "text": [
        "OverflowError: 'Python int too large to convert to C long' in 'menpofast.image.cython.extract_patches.calc_slices' ignored\n",
        "Exception ValueError: ValueError('got differing extents in dimension 1 (got 29 and 0)',) in 'menpofast.image.cython.extract_patches.slice_image' ignored\n",
        "Exception "
       ]
      },
      {
       "output_type": "stream",
       "stream": "stderr",
       "text": [
        "OverflowError: 'Python int too large to convert to C long' in 'menpofast.image.cython.extract_patches.calc_slices' ignored\n",
        "Exception ValueError: ValueError('got differing extents in dimension 1 (got 29 and 0)',) in 'menpofast.image.cython.extract_patches.slice_image' ignored\n",
        "Exception OverflowError: 'Python int too large to convert to C long' in 'menpofast.image.cython.extract_patches.calc_slices' ignored\n",
        "Exception ValueError: ValueError('got differing extents in dimension 1 (got 29 and 0)',) in 'menpofast.image.cython.extract_patches.slice_image' ignored\n",
        "Exception OverflowError: 'Python int too large to convert to C long' in 'menpofast.image.cython.extract_patches.calc_slices' ignored\n",
        "Exception ValueError: ValueError('got differing extents in dimension 1 (got 29 and 0)',) in 'menpofast.image.cython.extract_patches.slice_image' ignored\n",
        "Exception OverflowError: 'Python int too large to convert to C long' in 'menpofast.image.cython.extract_patches.calc_slices' ignored\n",
        "Exception ValueError: ValueError('got differing extents in dimension 1 (got 29 and 0)',) in 'menpofast.image.cython.extract_patches.slice_image' ignored\n",
        "Exception "
       ]
      },
      {
       "output_type": "stream",
       "stream": "stderr",
       "text": [
        "OverflowError: 'Python int too large to convert to C long' in 'menpofast.image.cython.extract_patches.calc_slices' ignored\n",
        "Exception ValueError: ValueError('got differing extents in dimension 1 (got 29 and 0)',) in 'menpofast.image.cython.extract_patches.slice_image' ignored\n",
        "Exception OverflowError: 'Python int too large to convert to C long' in 'menpofast.image.cython.extract_patches.calc_slices' ignored\n",
        "Exception ValueError: ValueError('got differing extents in dimension 1 (got 29 and 0)',) in 'menpofast.image.cython.extract_patches.slice_image' ignored\n",
        "Exception OverflowError: 'Python int too large to convert to C long' in 'menpofast.image.cython.extract_patches.calc_slices' ignored\n",
        "Exception ValueError: ValueError('got differing extents in dimension 1 (got 29 and 0)',) in 'menpofast.image.cython.extract_patches.slice_image' ignored\n",
        "Exception OverflowError: 'Python int too large to convert to C long' in 'menpofast.image.cython.extract_patches.calc_slices' ignored\n",
        "Exception ValueError: ValueError('got differing extents in dimension 1 (got 29 and 0)',) in 'menpofast.image.cython.extract_patches.slice_image' ignored\n",
        "Exception "
       ]
      },
      {
       "output_type": "stream",
       "stream": "stdout",
       "text": [
        " 31\n",
        "Initial error: 0.1436\n",
        "Final error: 0.0924\n",
        "Image: "
       ]
      },
      {
       "output_type": "stream",
       "stream": "stdout",
       "text": [
        " 31\n",
        "Initial error: 0.1436\n",
        "Final error: nan\n",
        "Image: "
       ]
      },
      {
       "output_type": "stream",
       "stream": "stderr",
       "text": [
        "OverflowError: 'Python int too large to convert to C long' in 'menpofast.image.cython.extract_patches.calc_slices' ignored\n",
        "Exception ValueError: ValueError('got differing extents in dimension 1 (got 29 and 0)',) in 'menpofast.image.cython.extract_patches.slice_image' ignored\n",
        "Exception "
       ]
      },
      {
       "output_type": "stream",
       "stream": "stderr",
       "text": [
        "OverflowError: 'Python int too large to convert to C long' in 'menpofast.image.cython.extract_patches.calc_slices' ignored\n",
        "Exception ValueError: ValueError('got differing extents in dimension 1 (got 29 and 0)',) in 'menpofast.image.cython.extract_patches.slice_image' ignored\n",
        "Exception OverflowError: 'Python int too large to convert to C long' in 'menpofast.image.cython.extract_patches.calc_slices' ignored\n",
        "Exception ValueError: ValueError('got differing extents in dimension 1 (got 29 and 0)',) in 'menpofast.image.cython.extract_patches.slice_image' ignored\n",
        "Exception OverflowError: 'Python int too large to convert to C long' in 'menpofast.image.cython.extract_patches.calc_slices' ignored\n",
        "Exception ValueError: ValueError('got differing extents in dimension 1 (got 29 and 0)',) in 'menpofast.image.cython.extract_patches.slice_image' ignored\n",
        "Exception OverflowError: 'Python int too large to convert to C long' in 'menpofast.image.cython.extract_patches.calc_slices' ignored\n",
        "Exception ValueError: ValueError('got differing extents in dimension 1 (got 29 and 0)',) in 'menpofast.image.cython.extract_patches.slice_image' ignored\n",
        "Exception "
       ]
      },
      {
       "output_type": "stream",
       "stream": "stderr",
       "text": [
        "OverflowError: 'Python int too large to convert to C long' in 'menpofast.image.cython.extract_patches.calc_slices' ignored\n",
        "Exception ValueError: ValueError('got differing extents in dimension 1 (got 29 and 0)',) in 'menpofast.image.cython.extract_patches.slice_image' ignored\n",
        "Exception OverflowError: 'Python int too large to convert to C long' in 'menpofast.image.cython.extract_patches.calc_slices' ignored\n",
        "Exception ValueError: ValueError('got differing extents in dimension 1 (got 29 and 0)',) in 'menpofast.image.cython.extract_patches.slice_image' ignored\n",
        "Exception OverflowError: 'Python int too large to convert to C long' in 'menpofast.image.cython.extract_patches.calc_slices' ignored\n",
        "Exception ValueError: ValueError('got differing extents in dimension 1 (got 29 and 0)',) in 'menpofast.image.cython.extract_patches.slice_image' ignored\n",
        "Exception OverflowError: 'Python int too large to convert to C long' in 'menpofast.image.cython.extract_patches.calc_slices' ignored\n",
        "Exception ValueError: ValueError('got differing extents in dimension 1 (got 29 and 0)',) in 'menpofast.image.cython.extract_patches.slice_image' ignored\n",
        "Exception "
       ]
      },
      {
       "output_type": "stream",
       "stream": "stdout",
       "text": [
        " 32\n",
        "Initial error: 0.0526\n",
        "Final error: 0.0319\n",
        "Image: "
       ]
      },
      {
       "output_type": "stream",
       "stream": "stdout",
       "text": [
        " 32\n",
        "Initial error: 0.0526\n",
        "Final error: nan\n",
        "Image: "
       ]
      },
      {
       "output_type": "stream",
       "stream": "stderr",
       "text": [
        "OverflowError: 'Python int too large to convert to C long' in 'menpofast.image.cython.extract_patches.calc_slices' ignored\n",
        "Exception ValueError: ValueError('got differing extents in dimension 1 (got 29 and 0)',) in 'menpofast.image.cython.extract_patches.slice_image' ignored\n",
        "Exception "
       ]
      },
      {
       "output_type": "stream",
       "stream": "stderr",
       "text": [
        "OverflowError: 'Python int too large to convert to C long' in 'menpofast.image.cython.extract_patches.calc_slices' ignored\n",
        "Exception ValueError: ValueError('got differing extents in dimension 1 (got 29 and 0)',) in 'menpofast.image.cython.extract_patches.slice_image' ignored\n",
        "Exception OverflowError: 'Python int too large to convert to C long' in 'menpofast.image.cython.extract_patches.calc_slices' ignored\n",
        "Exception ValueError: ValueError('got differing extents in dimension 1 (got 29 and 0)',) in 'menpofast.image.cython.extract_patches.slice_image' ignored\n",
        "Exception OverflowError: 'Python int too large to convert to C long' in 'menpofast.image.cython.extract_patches.calc_slices' ignored\n",
        "Exception ValueError: ValueError('got differing extents in dimension 1 (got 29 and 0)',) in 'menpofast.image.cython.extract_patches.slice_image' ignored\n",
        "Exception OverflowError: 'Python int too large to convert to C long' in 'menpofast.image.cython.extract_patches.calc_slices' ignored\n",
        "Exception ValueError: ValueError('got differing extents in dimension 1 (got 29 and 0)',) in 'menpofast.image.cython.extract_patches.slice_image' ignored\n",
        "Exception "
       ]
      },
      {
       "output_type": "stream",
       "stream": "stderr",
       "text": [
        "OverflowError: 'Python int too large to convert to C long' in 'menpofast.image.cython.extract_patches.calc_slices' ignored\n",
        "Exception ValueError: ValueError('got differing extents in dimension 1 (got 29 and 0)',) in 'menpofast.image.cython.extract_patches.slice_image' ignored\n",
        "Exception OverflowError: 'Python int too large to convert to C long' in 'menpofast.image.cython.extract_patches.calc_slices' ignored\n",
        "Exception ValueError: ValueError('got differing extents in dimension 1 (got 29 and 0)',) in 'menpofast.image.cython.extract_patches.slice_image' ignored\n",
        "Exception OverflowError: 'Python int too large to convert to C long' in 'menpofast.image.cython.extract_patches.calc_slices' ignored\n",
        "Exception ValueError: ValueError('got differing extents in dimension 1 (got 29 and 0)',) in 'menpofast.image.cython.extract_patches.slice_image' ignored\n",
        "Exception OverflowError: 'Python int too large to convert to C long' in 'menpofast.image.cython.extract_patches.calc_slices' ignored\n",
        "Exception ValueError: ValueError('got differing extents in dimension 1 (got 29 and 0)',) in 'menpofast.image.cython.extract_patches.slice_image' ignored\n",
        "Exception "
       ]
      },
      {
       "output_type": "stream",
       "stream": "stdout",
       "text": [
        " 33\n",
        "Initial error: 0.0652\n",
        "Final error: 0.0303\n",
        "Image: "
       ]
      },
      {
       "output_type": "stream",
       "stream": "stdout",
       "text": [
        " 33\n",
        "Initial error: 0.0652\n",
        "Final error: nan\n",
        "Image: "
       ]
      },
      {
       "output_type": "stream",
       "stream": "stderr",
       "text": [
        "OverflowError: 'Python int too large to convert to C long' in 'menpofast.image.cython.extract_patches.calc_slices' ignored\n",
        "Exception ValueError: ValueError('got differing extents in dimension 1 (got 29 and 0)',) in 'menpofast.image.cython.extract_patches.slice_image' ignored\n",
        "Exception "
       ]
      },
      {
       "output_type": "stream",
       "stream": "stderr",
       "text": [
        "OverflowError: 'Python int too large to convert to C long' in 'menpofast.image.cython.extract_patches.calc_slices' ignored\n",
        "Exception ValueError: ValueError('got differing extents in dimension 1 (got 29 and 0)',) in 'menpofast.image.cython.extract_patches.slice_image' ignored\n",
        "Exception OverflowError: 'Python int too large to convert to C long' in 'menpofast.image.cython.extract_patches.calc_slices' ignored\n",
        "Exception ValueError: ValueError('got differing extents in dimension 1 (got 29 and 0)',) in 'menpofast.image.cython.extract_patches.slice_image' ignored\n",
        "Exception OverflowError: 'Python int too large to convert to C long' in 'menpofast.image.cython.extract_patches.calc_slices' ignored\n",
        "Exception ValueError: ValueError('got differing extents in dimension 1 (got 29 and 0)',) in 'menpofast.image.cython.extract_patches.slice_image' ignored\n",
        "Exception OverflowError: 'Python int too large to convert to C long' in 'menpofast.image.cython.extract_patches.calc_slices' ignored\n",
        "Exception ValueError: ValueError('got differing extents in dimension 1 (got 29 and 0)',) in 'menpofast.image.cython.extract_patches.slice_image' ignored\n",
        "Exception "
       ]
      },
      {
       "output_type": "stream",
       "stream": "stderr",
       "text": [
        "OverflowError: 'Python int too large to convert to C long' in 'menpofast.image.cython.extract_patches.calc_slices' ignored\n",
        "Exception ValueError: ValueError('got differing extents in dimension 1 (got 29 and 0)',) in 'menpofast.image.cython.extract_patches.slice_image' ignored\n",
        "Exception OverflowError: 'Python int too large to convert to C long' in 'menpofast.image.cython.extract_patches.calc_slices' ignored\n",
        "Exception ValueError: ValueError('got differing extents in dimension 1 (got 29 and 0)',) in 'menpofast.image.cython.extract_patches.slice_image' ignored\n",
        "Exception OverflowError: 'Python int too large to convert to C long' in 'menpofast.image.cython.extract_patches.calc_slices' ignored\n",
        "Exception ValueError: ValueError('got differing extents in dimension 1 (got 29 and 0)',) in 'menpofast.image.cython.extract_patches.slice_image' ignored\n",
        "Exception OverflowError: 'Python int too large to convert to C long' in 'menpofast.image.cython.extract_patches.calc_slices' ignored\n",
        "Exception ValueError: ValueError('got differing extents in dimension 1 (got 29 and 0)',) in 'menpofast.image.cython.extract_patches.slice_image' ignored\n",
        "Exception "
       ]
      },
      {
       "output_type": "stream",
       "stream": "stdout",
       "text": [
        " 34\n",
        "Initial error: 0.0898\n",
        "Final error: 0.0379\n",
        "Image: "
       ]
      },
      {
       "output_type": "stream",
       "stream": "stdout",
       "text": [
        " 34\n",
        "Initial error: 0.0898\n",
        "Final error: nan\n",
        "Image: "
       ]
      },
      {
       "output_type": "stream",
       "stream": "stderr",
       "text": [
        "OverflowError: 'Python int too large to convert to C long' in 'menpofast.image.cython.extract_patches.calc_slices' ignored\n",
        "Exception ValueError: ValueError('got differing extents in dimension 1 (got 29 and 0)',) in 'menpofast.image.cython.extract_patches.slice_image' ignored\n",
        "Exception "
       ]
      },
      {
       "output_type": "stream",
       "stream": "stderr",
       "text": [
        "OverflowError: 'Python int too large to convert to C long' in 'menpofast.image.cython.extract_patches.calc_slices' ignored\n",
        "Exception ValueError: ValueError('got differing extents in dimension 1 (got 29 and 0)',) in 'menpofast.image.cython.extract_patches.slice_image' ignored\n",
        "Exception OverflowError: 'Python int too large to convert to C long' in 'menpofast.image.cython.extract_patches.calc_slices' ignored\n",
        "Exception ValueError: ValueError('got differing extents in dimension 1 (got 29 and 0)',) in 'menpofast.image.cython.extract_patches.slice_image' ignored\n",
        "Exception OverflowError: 'Python int too large to convert to C long' in 'menpofast.image.cython.extract_patches.calc_slices' ignored\n",
        "Exception ValueError: ValueError('got differing extents in dimension 1 (got 29 and 0)',) in 'menpofast.image.cython.extract_patches.slice_image' ignored\n",
        "Exception OverflowError: 'Python int too large to convert to C long' in 'menpofast.image.cython.extract_patches.calc_slices' ignored\n",
        "Exception ValueError: ValueError('got differing extents in dimension 1 (got 29 and 0)',) in 'menpofast.image.cython.extract_patches.slice_image' ignored\n",
        "Exception "
       ]
      },
      {
       "output_type": "stream",
       "stream": "stderr",
       "text": [
        "OverflowError: 'Python int too large to convert to C long' in 'menpofast.image.cython.extract_patches.calc_slices' ignored\n",
        "Exception ValueError: ValueError('got differing extents in dimension 1 (got 29 and 0)',) in 'menpofast.image.cython.extract_patches.slice_image' ignored\n",
        "Exception OverflowError: 'Python int too large to convert to C long' in 'menpofast.image.cython.extract_patches.calc_slices' ignored\n",
        "Exception ValueError: ValueError('got differing extents in dimension 1 (got 29 and 0)',) in 'menpofast.image.cython.extract_patches.slice_image' ignored\n",
        "Exception OverflowError: 'Python int too large to convert to C long' in 'menpofast.image.cython.extract_patches.calc_slices' ignored\n",
        "Exception ValueError: ValueError('got differing extents in dimension 1 (got 29 and 0)',) in 'menpofast.image.cython.extract_patches.slice_image' ignored\n",
        "Exception OverflowError: 'Python int too large to convert to C long' in 'menpofast.image.cython.extract_patches.calc_slices' ignored\n",
        "Exception ValueError: ValueError('got differing extents in dimension 1 (got 29 and 0)',) in 'menpofast.image.cython.extract_patches.slice_image' ignored\n",
        "Exception "
       ]
      },
      {
       "output_type": "stream",
       "stream": "stdout",
       "text": [
        " 35\n",
        "Initial error: 0.0559\n",
        "Final error: 0.0265\n",
        "Image: "
       ]
      },
      {
       "output_type": "stream",
       "stream": "stdout",
       "text": [
        " 35\n",
        "Initial error: 0.0559\n",
        "Final error: nan\n",
        "Image: "
       ]
      },
      {
       "output_type": "stream",
       "stream": "stderr",
       "text": [
        "OverflowError: 'Python int too large to convert to C long' in 'menpofast.image.cython.extract_patches.calc_slices' ignored\n",
        "Exception ValueError: ValueError('got differing extents in dimension 1 (got 29 and 0)',) in 'menpofast.image.cython.extract_patches.slice_image' ignored\n",
        "Exception "
       ]
      },
      {
       "output_type": "stream",
       "stream": "stderr",
       "text": [
        "OverflowError: 'Python int too large to convert to C long' in 'menpofast.image.cython.extract_patches.calc_slices' ignored\n",
        "Exception ValueError: ValueError('got differing extents in dimension 1 (got 29 and 0)',) in 'menpofast.image.cython.extract_patches.slice_image' ignored\n",
        "Exception OverflowError: 'Python int too large to convert to C long' in 'menpofast.image.cython.extract_patches.calc_slices' ignored\n",
        "Exception ValueError: ValueError('got differing extents in dimension 1 (got 29 and 0)',) in 'menpofast.image.cython.extract_patches.slice_image' ignored\n",
        "Exception OverflowError: 'Python int too large to convert to C long' in 'menpofast.image.cython.extract_patches.calc_slices' ignored\n",
        "Exception ValueError: ValueError('got differing extents in dimension 1 (got 29 and 0)',) in 'menpofast.image.cython.extract_patches.slice_image' ignored\n",
        "Exception OverflowError: 'Python int too large to convert to C long' in 'menpofast.image.cython.extract_patches.calc_slices' ignored\n",
        "Exception ValueError: ValueError('got differing extents in dimension 1 (got 29 and 0)',) in 'menpofast.image.cython.extract_patches.slice_image' ignored\n",
        "Exception "
       ]
      },
      {
       "output_type": "stream",
       "stream": "stderr",
       "text": [
        "OverflowError: 'Python int too large to convert to C long' in 'menpofast.image.cython.extract_patches.calc_slices' ignored\n",
        "Exception ValueError: ValueError('got differing extents in dimension 1 (got 29 and 0)',) in 'menpofast.image.cython.extract_patches.slice_image' ignored\n",
        "Exception OverflowError: 'Python int too large to convert to C long' in 'menpofast.image.cython.extract_patches.calc_slices' ignored\n",
        "Exception ValueError: ValueError('got differing extents in dimension 1 (got 29 and 0)',) in 'menpofast.image.cython.extract_patches.slice_image' ignored\n",
        "Exception OverflowError: 'Python int too large to convert to C long' in 'menpofast.image.cython.extract_patches.calc_slices' ignored\n",
        "Exception ValueError: ValueError('got differing extents in dimension 1 (got 29 and 0)',) in 'menpofast.image.cython.extract_patches.slice_image' ignored\n",
        "Exception OverflowError: 'Python int too large to convert to C long' in 'menpofast.image.cython.extract_patches.calc_slices' ignored\n",
        "Exception ValueError: ValueError('got differing extents in dimension 1 (got 29 and 0)',) in 'menpofast.image.cython.extract_patches.slice_image' ignored\n",
        "Exception "
       ]
      },
      {
       "output_type": "stream",
       "stream": "stdout",
       "text": [
        " 36\n",
        "Initial error: 0.1397\n",
        "Final error: 0.1382\n",
        "Image: "
       ]
      },
      {
       "output_type": "stream",
       "stream": "stdout",
       "text": [
        " 36\n",
        "Initial error: 0.1397\n",
        "Final error: nan\n",
        "Image: "
       ]
      },
      {
       "output_type": "stream",
       "stream": "stderr",
       "text": [
        "OverflowError: 'Python int too large to convert to C long' in 'menpofast.image.cython.extract_patches.calc_slices' ignored\n",
        "Exception ValueError: ValueError('got differing extents in dimension 1 (got 29 and 0)',) in 'menpofast.image.cython.extract_patches.slice_image' ignored\n",
        "Exception "
       ]
      },
      {
       "output_type": "stream",
       "stream": "stderr",
       "text": [
        "OverflowError: 'Python int too large to convert to C long' in 'menpofast.image.cython.extract_patches.calc_slices' ignored\n",
        "Exception ValueError: ValueError('got differing extents in dimension 1 (got 29 and 0)',) in 'menpofast.image.cython.extract_patches.slice_image' ignored\n",
        "Exception OverflowError: 'Python int too large to convert to C long' in 'menpofast.image.cython.extract_patches.calc_slices' ignored\n",
        "Exception ValueError: ValueError('got differing extents in dimension 1 (got 29 and 0)',) in 'menpofast.image.cython.extract_patches.slice_image' ignored\n",
        "Exception OverflowError: 'Python int too large to convert to C long' in 'menpofast.image.cython.extract_patches.calc_slices' ignored\n",
        "Exception ValueError: ValueError('got differing extents in dimension 1 (got 29 and 0)',) in 'menpofast.image.cython.extract_patches.slice_image' ignored\n",
        "Exception OverflowError: 'Python int too large to convert to C long' in 'menpofast.image.cython.extract_patches.calc_slices' ignored\n",
        "Exception ValueError: ValueError('got differing extents in dimension 1 (got 29 and 0)',) in 'menpofast.image.cython.extract_patches.slice_image' ignored\n",
        "Exception "
       ]
      },
      {
       "output_type": "stream",
       "stream": "stderr",
       "text": [
        "OverflowError: 'Python int too large to convert to C long' in 'menpofast.image.cython.extract_patches.calc_slices' ignored\n",
        "Exception ValueError: ValueError('got differing extents in dimension 1 (got 29 and 0)',) in 'menpofast.image.cython.extract_patches.slice_image' ignored\n",
        "Exception OverflowError: 'Python int too large to convert to C long' in 'menpofast.image.cython.extract_patches.calc_slices' ignored\n",
        "Exception ValueError: ValueError('got differing extents in dimension 1 (got 29 and 0)',) in 'menpofast.image.cython.extract_patches.slice_image' ignored\n",
        "Exception OverflowError: 'Python int too large to convert to C long' in 'menpofast.image.cython.extract_patches.calc_slices' ignored\n",
        "Exception ValueError: ValueError('got differing extents in dimension 1 (got 29 and 0)',) in 'menpofast.image.cython.extract_patches.slice_image' ignored\n",
        "Exception OverflowError: 'Python int too large to convert to C long' in 'menpofast.image.cython.extract_patches.calc_slices' ignored\n",
        "Exception ValueError: ValueError('got differing extents in dimension 1 (got 29 and 0)',) in 'menpofast.image.cython.extract_patches.slice_image' ignored\n",
        "Exception "
       ]
      },
      {
       "output_type": "stream",
       "stream": "stdout",
       "text": [
        " 37\n",
        "Initial error: 0.1383\n",
        "Final error: 0.0824\n",
        "Image: "
       ]
      },
      {
       "output_type": "stream",
       "stream": "stdout",
       "text": [
        " 37\n",
        "Initial error: 0.1383\n",
        "Final error: nan\n",
        "Image: "
       ]
      },
      {
       "output_type": "stream",
       "stream": "stderr",
       "text": [
        "OverflowError: 'Python int too large to convert to C long' in 'menpofast.image.cython.extract_patches.calc_slices' ignored\n",
        "Exception ValueError: ValueError('got differing extents in dimension 1 (got 29 and 0)',) in 'menpofast.image.cython.extract_patches.slice_image' ignored\n",
        "Exception "
       ]
      },
      {
       "output_type": "stream",
       "stream": "stderr",
       "text": [
        "OverflowError: 'Python int too large to convert to C long' in 'menpofast.image.cython.extract_patches.calc_slices' ignored\n",
        "Exception ValueError: ValueError('got differing extents in dimension 1 (got 29 and 0)',) in 'menpofast.image.cython.extract_patches.slice_image' ignored\n",
        "Exception OverflowError: 'Python int too large to convert to C long' in 'menpofast.image.cython.extract_patches.calc_slices' ignored\n",
        "Exception ValueError: ValueError('got differing extents in dimension 1 (got 29 and 0)',) in 'menpofast.image.cython.extract_patches.slice_image' ignored\n",
        "Exception OverflowError: 'Python int too large to convert to C long' in 'menpofast.image.cython.extract_patches.calc_slices' ignored\n",
        "Exception ValueError: ValueError('got differing extents in dimension 1 (got 29 and 0)',) in 'menpofast.image.cython.extract_patches.slice_image' ignored\n",
        "Exception OverflowError: 'Python int too large to convert to C long' in 'menpofast.image.cython.extract_patches.calc_slices' ignored\n",
        "Exception ValueError: ValueError('got differing extents in dimension 1 (got 29 and 0)',) in 'menpofast.image.cython.extract_patches.slice_image' ignored\n",
        "Exception "
       ]
      },
      {
       "output_type": "stream",
       "stream": "stderr",
       "text": [
        "OverflowError: 'Python int too large to convert to C long' in 'menpofast.image.cython.extract_patches.calc_slices' ignored\n",
        "Exception ValueError: ValueError('got differing extents in dimension 1 (got 29 and 0)',) in 'menpofast.image.cython.extract_patches.slice_image' ignored\n",
        "Exception OverflowError: 'Python int too large to convert to C long' in 'menpofast.image.cython.extract_patches.calc_slices' ignored\n",
        "Exception ValueError: ValueError('got differing extents in dimension 1 (got 29 and 0)',) in 'menpofast.image.cython.extract_patches.slice_image' ignored\n",
        "Exception OverflowError: 'Python int too large to convert to C long' in 'menpofast.image.cython.extract_patches.calc_slices' ignored\n",
        "Exception ValueError: ValueError('got differing extents in dimension 1 (got 29 and 0)',) in 'menpofast.image.cython.extract_patches.slice_image' ignored\n",
        "Exception OverflowError: 'Python int too large to convert to C long' in 'menpofast.image.cython.extract_patches.calc_slices' ignored\n",
        "Exception ValueError: ValueError('got differing extents in dimension 1 (got 29 and 0)',) in 'menpofast.image.cython.extract_patches.slice_image' ignored\n",
        "Exception "
       ]
      },
      {
       "output_type": "stream",
       "stream": "stdout",
       "text": [
        " 38\n",
        "Initial error: 0.0832\n",
        "Final error: 0.0341\n",
        "Image: "
       ]
      },
      {
       "output_type": "stream",
       "stream": "stdout",
       "text": [
        " 38\n",
        "Initial error: 0.0832\n",
        "Final error: nan\n",
        "Image: "
       ]
      },
      {
       "output_type": "stream",
       "stream": "stderr",
       "text": [
        "OverflowError: 'Python int too large to convert to C long' in 'menpofast.image.cython.extract_patches.calc_slices' ignored\n",
        "Exception ValueError: ValueError('got differing extents in dimension 1 (got 29 and 0)',) in 'menpofast.image.cython.extract_patches.slice_image' ignored\n",
        "Exception "
       ]
      },
      {
       "output_type": "stream",
       "stream": "stderr",
       "text": [
        "OverflowError: 'Python int too large to convert to C long' in 'menpofast.image.cython.extract_patches.calc_slices' ignored\n",
        "Exception ValueError: ValueError('got differing extents in dimension 1 (got 29 and 0)',) in 'menpofast.image.cython.extract_patches.slice_image' ignored\n",
        "Exception OverflowError: 'Python int too large to convert to C long' in 'menpofast.image.cython.extract_patches.calc_slices' ignored\n",
        "Exception ValueError: ValueError('got differing extents in dimension 1 (got 29 and 0)',) in 'menpofast.image.cython.extract_patches.slice_image' ignored\n",
        "Exception OverflowError: 'Python int too large to convert to C long' in 'menpofast.image.cython.extract_patches.calc_slices' ignored\n",
        "Exception ValueError: ValueError('got differing extents in dimension 1 (got 29 and 0)',) in 'menpofast.image.cython.extract_patches.slice_image' ignored\n",
        "Exception OverflowError: 'Python int too large to convert to C long' in 'menpofast.image.cython.extract_patches.calc_slices' ignored\n",
        "Exception ValueError: ValueError('got differing extents in dimension 1 (got 29 and 0)',) in 'menpofast.image.cython.extract_patches.slice_image' ignored\n",
        "Exception "
       ]
      },
      {
       "output_type": "stream",
       "stream": "stderr",
       "text": [
        "OverflowError: 'Python int too large to convert to C long' in 'menpofast.image.cython.extract_patches.calc_slices' ignored\n",
        "Exception ValueError: ValueError('got differing extents in dimension 1 (got 29 and 0)',) in 'menpofast.image.cython.extract_patches.slice_image' ignored\n",
        "Exception OverflowError: 'Python int too large to convert to C long' in 'menpofast.image.cython.extract_patches.calc_slices' ignored\n",
        "Exception ValueError: ValueError('got differing extents in dimension 1 (got 29 and 0)',) in 'menpofast.image.cython.extract_patches.slice_image' ignored\n",
        "Exception OverflowError: 'Python int too large to convert to C long' in 'menpofast.image.cython.extract_patches.calc_slices' ignored\n",
        "Exception ValueError: ValueError('got differing extents in dimension 1 (got 29 and 0)',) in 'menpofast.image.cython.extract_patches.slice_image' ignored\n",
        "Exception OverflowError: 'Python int too large to convert to C long' in 'menpofast.image.cython.extract_patches.calc_slices' ignored\n",
        "Exception ValueError: ValueError('got differing extents in dimension 1 (got 29 and 0)',) in 'menpofast.image.cython.extract_patches.slice_image' ignored\n",
        "Exception "
       ]
      },
      {
       "output_type": "stream",
       "stream": "stdout",
       "text": [
        " 39\n",
        "Initial error: 0.0557\n",
        "Final error: 0.0331\n",
        "Image: "
       ]
      },
      {
       "output_type": "stream",
       "stream": "stdout",
       "text": [
        " 39\n",
        "Initial error: 0.0557\n",
        "Final error: nan\n",
        "Image: "
       ]
      },
      {
       "output_type": "stream",
       "stream": "stderr",
       "text": [
        "OverflowError: 'Python int too large to convert to C long' in 'menpofast.image.cython.extract_patches.calc_slices' ignored\n",
        "Exception ValueError: ValueError('got differing extents in dimension 1 (got 29 and 0)',) in 'menpofast.image.cython.extract_patches.slice_image' ignored\n",
        "Exception "
       ]
      },
      {
       "output_type": "stream",
       "stream": "stderr",
       "text": [
        "OverflowError: 'Python int too large to convert to C long' in 'menpofast.image.cython.extract_patches.calc_slices' ignored\n",
        "Exception ValueError: ValueError('got differing extents in dimension 1 (got 29 and 0)',) in 'menpofast.image.cython.extract_patches.slice_image' ignored\n",
        "Exception OverflowError: 'Python int too large to convert to C long' in 'menpofast.image.cython.extract_patches.calc_slices' ignored\n",
        "Exception ValueError: ValueError('got differing extents in dimension 1 (got 29 and 0)',) in 'menpofast.image.cython.extract_patches.slice_image' ignored\n",
        "Exception OverflowError: 'Python int too large to convert to C long' in 'menpofast.image.cython.extract_patches.calc_slices' ignored\n",
        "Exception ValueError: ValueError('got differing extents in dimension 1 (got 29 and 0)',) in 'menpofast.image.cython.extract_patches.slice_image' ignored\n",
        "Exception OverflowError: 'Python int too large to convert to C long' in 'menpofast.image.cython.extract_patches.calc_slices' ignored\n",
        "Exception ValueError: ValueError('got differing extents in dimension 1 (got 29 and 0)',) in 'menpofast.image.cython.extract_patches.slice_image' ignored\n",
        "Exception "
       ]
      },
      {
       "output_type": "stream",
       "stream": "stderr",
       "text": [
        "OverflowError: 'Python int too large to convert to C long' in 'menpofast.image.cython.extract_patches.calc_slices' ignored\n",
        "Exception ValueError: ValueError('got differing extents in dimension 1 (got 29 and 0)',) in 'menpofast.image.cython.extract_patches.slice_image' ignored\n",
        "Exception OverflowError: 'Python int too large to convert to C long' in 'menpofast.image.cython.extract_patches.calc_slices' ignored\n",
        "Exception ValueError: ValueError('got differing extents in dimension 1 (got 29 and 0)',) in 'menpofast.image.cython.extract_patches.slice_image' ignored\n",
        "Exception OverflowError: 'Python int too large to convert to C long' in 'menpofast.image.cython.extract_patches.calc_slices' ignored\n",
        "Exception ValueError: ValueError('got differing extents in dimension 1 (got 29 and 0)',) in 'menpofast.image.cython.extract_patches.slice_image' ignored\n",
        "Exception OverflowError: 'Python int too large to convert to C long' in 'menpofast.image.cython.extract_patches.calc_slices' ignored\n",
        "Exception ValueError: ValueError('got differing extents in dimension 1 (got 29 and 0)',) in 'menpofast.image.cython.extract_patches.slice_image' ignored\n",
        "Exception "
       ]
      },
      {
       "output_type": "stream",
       "stream": "stdout",
       "text": [
        " 40\n",
        "Initial error: 0.0686\n",
        "Final error: 0.0543\n",
        "Image: "
       ]
      },
      {
       "output_type": "stream",
       "stream": "stdout",
       "text": [
        " 40\n",
        "Initial error: 0.0686\n",
        "Final error: nan\n",
        "Image: "
       ]
      },
      {
       "output_type": "stream",
       "stream": "stderr",
       "text": [
        "OverflowError: 'Python int too large to convert to C long' in 'menpofast.image.cython.extract_patches.calc_slices' ignored\n",
        "Exception ValueError: ValueError('got differing extents in dimension 1 (got 29 and 0)',) in 'menpofast.image.cython.extract_patches.slice_image' ignored\n",
        "Exception "
       ]
      },
      {
       "output_type": "stream",
       "stream": "stderr",
       "text": [
        "OverflowError: 'Python int too large to convert to C long' in 'menpofast.image.cython.extract_patches.calc_slices' ignored\n",
        "Exception ValueError: ValueError('got differing extents in dimension 1 (got 29 and 0)',) in 'menpofast.image.cython.extract_patches.slice_image' ignored\n",
        "Exception OverflowError: 'Python int too large to convert to C long' in 'menpofast.image.cython.extract_patches.calc_slices' ignored\n",
        "Exception ValueError: ValueError('got differing extents in dimension 1 (got 29 and 0)',) in 'menpofast.image.cython.extract_patches.slice_image' ignored\n",
        "Exception OverflowError: 'Python int too large to convert to C long' in 'menpofast.image.cython.extract_patches.calc_slices' ignored\n",
        "Exception ValueError: ValueError('got differing extents in dimension 1 (got 29 and 0)',) in 'menpofast.image.cython.extract_patches.slice_image' ignored\n",
        "Exception OverflowError: 'Python int too large to convert to C long' in 'menpofast.image.cython.extract_patches.calc_slices' ignored\n",
        "Exception ValueError: ValueError('got differing extents in dimension 1 (got 29 and 0)',) in 'menpofast.image.cython.extract_patches.slice_image' ignored\n",
        "Exception "
       ]
      },
      {
       "output_type": "stream",
       "stream": "stderr",
       "text": [
        "OverflowError: 'Python int too large to convert to C long' in 'menpofast.image.cython.extract_patches.calc_slices' ignored\n",
        "Exception ValueError: ValueError('got differing extents in dimension 1 (got 29 and 0)',) in 'menpofast.image.cython.extract_patches.slice_image' ignored\n",
        "Exception OverflowError: 'Python int too large to convert to C long' in 'menpofast.image.cython.extract_patches.calc_slices' ignored\n",
        "Exception ValueError: ValueError('got differing extents in dimension 1 (got 29 and 0)',) in 'menpofast.image.cython.extract_patches.slice_image' ignored\n",
        "Exception OverflowError: 'Python int too large to convert to C long' in 'menpofast.image.cython.extract_patches.calc_slices' ignored\n",
        "Exception ValueError: ValueError('got differing extents in dimension 1 (got 29 and 0)',) in 'menpofast.image.cython.extract_patches.slice_image' ignored\n",
        "Exception OverflowError: 'Python int too large to convert to C long' in 'menpofast.image.cython.extract_patches.calc_slices' ignored\n",
        "Exception ValueError: ValueError('got differing extents in dimension 1 (got 29 and 0)',) in 'menpofast.image.cython.extract_patches.slice_image' ignored\n",
        "Exception "
       ]
      },
      {
       "output_type": "stream",
       "stream": "stdout",
       "text": [
        " 41\n",
        "Initial error: 0.1327\n",
        "Final error: 0.0978\n",
        "Image: "
       ]
      },
      {
       "output_type": "stream",
       "stream": "stdout",
       "text": [
        " 41\n",
        "Initial error: 0.1327\n",
        "Final error: nan\n",
        "Image: "
       ]
      },
      {
       "output_type": "stream",
       "stream": "stderr",
       "text": [
        "OverflowError: 'Python int too large to convert to C long' in 'menpofast.image.cython.extract_patches.calc_slices' ignored\n",
        "Exception ValueError: ValueError('got differing extents in dimension 1 (got 29 and 0)',) in 'menpofast.image.cython.extract_patches.slice_image' ignored\n",
        "Exception "
       ]
      },
      {
       "output_type": "stream",
       "stream": "stderr",
       "text": [
        "OverflowError: 'Python int too large to convert to C long' in 'menpofast.image.cython.extract_patches.calc_slices' ignored\n",
        "Exception ValueError: ValueError('got differing extents in dimension 1 (got 29 and 0)',) in 'menpofast.image.cython.extract_patches.slice_image' ignored\n",
        "Exception OverflowError: 'Python int too large to convert to C long' in 'menpofast.image.cython.extract_patches.calc_slices' ignored\n",
        "Exception ValueError: ValueError('got differing extents in dimension 1 (got 29 and 0)',) in 'menpofast.image.cython.extract_patches.slice_image' ignored\n",
        "Exception OverflowError: 'Python int too large to convert to C long' in 'menpofast.image.cython.extract_patches.calc_slices' ignored\n",
        "Exception ValueError: ValueError('got differing extents in dimension 1 (got 29 and 0)',) in 'menpofast.image.cython.extract_patches.slice_image' ignored\n",
        "Exception OverflowError: 'Python int too large to convert to C long' in 'menpofast.image.cython.extract_patches.calc_slices' ignored\n",
        "Exception ValueError: ValueError('got differing extents in dimension 1 (got 29 and 0)',) in 'menpofast.image.cython.extract_patches.slice_image' ignored\n",
        "Exception "
       ]
      },
      {
       "output_type": "stream",
       "stream": "stderr",
       "text": [
        "OverflowError: 'Python int too large to convert to C long' in 'menpofast.image.cython.extract_patches.calc_slices' ignored\n",
        "Exception ValueError: ValueError('got differing extents in dimension 1 (got 29 and 0)',) in 'menpofast.image.cython.extract_patches.slice_image' ignored\n",
        "Exception OverflowError: 'Python int too large to convert to C long' in 'menpofast.image.cython.extract_patches.calc_slices' ignored\n",
        "Exception ValueError: ValueError('got differing extents in dimension 1 (got 29 and 0)',) in 'menpofast.image.cython.extract_patches.slice_image' ignored\n",
        "Exception OverflowError: 'Python int too large to convert to C long' in 'menpofast.image.cython.extract_patches.calc_slices' ignored\n",
        "Exception ValueError: ValueError('got differing extents in dimension 1 (got 29 and 0)',) in 'menpofast.image.cython.extract_patches.slice_image' ignored\n",
        "Exception OverflowError: 'Python int too large to convert to C long' in 'menpofast.image.cython.extract_patches.calc_slices' ignored\n",
        "Exception ValueError: ValueError('got differing extents in dimension 1 (got 29 and 0)',) in 'menpofast.image.cython.extract_patches.slice_image' ignored\n",
        "Exception "
       ]
      },
      {
       "output_type": "stream",
       "stream": "stdout",
       "text": [
        " 42\n",
        "Initial error: 0.0939\n",
        "Final error: 0.0634\n",
        "Image: "
       ]
      },
      {
       "output_type": "stream",
       "stream": "stdout",
       "text": [
        " 42\n",
        "Initial error: 0.0939\n",
        "Final error: nan\n",
        "Image: "
       ]
      },
      {
       "output_type": "stream",
       "stream": "stderr",
       "text": [
        "OverflowError: 'Python int too large to convert to C long' in 'menpofast.image.cython.extract_patches.calc_slices' ignored\n",
        "Exception ValueError: ValueError('got differing extents in dimension 1 (got 29 and 0)',) in 'menpofast.image.cython.extract_patches.slice_image' ignored\n",
        "Exception "
       ]
      },
      {
       "output_type": "stream",
       "stream": "stderr",
       "text": [
        "OverflowError: 'Python int too large to convert to C long' in 'menpofast.image.cython.extract_patches.calc_slices' ignored\n",
        "Exception ValueError: ValueError('got differing extents in dimension 1 (got 29 and 0)',) in 'menpofast.image.cython.extract_patches.slice_image' ignored\n",
        "Exception OverflowError: 'Python int too large to convert to C long' in 'menpofast.image.cython.extract_patches.calc_slices' ignored\n",
        "Exception ValueError: ValueError('got differing extents in dimension 1 (got 29 and 0)',) in 'menpofast.image.cython.extract_patches.slice_image' ignored\n",
        "Exception OverflowError: 'Python int too large to convert to C long' in 'menpofast.image.cython.extract_patches.calc_slices' ignored\n",
        "Exception ValueError: ValueError('got differing extents in dimension 1 (got 29 and 0)',) in 'menpofast.image.cython.extract_patches.slice_image' ignored\n",
        "Exception OverflowError: 'Python int too large to convert to C long' in 'menpofast.image.cython.extract_patches.calc_slices' ignored\n",
        "Exception ValueError: ValueError('got differing extents in dimension 1 (got 29 and 0)',) in 'menpofast.image.cython.extract_patches.slice_image' ignored\n",
        "Exception "
       ]
      },
      {
       "output_type": "stream",
       "stream": "stderr",
       "text": [
        "OverflowError: 'Python int too large to convert to C long' in 'menpofast.image.cython.extract_patches.calc_slices' ignored\n",
        "Exception ValueError: ValueError('got differing extents in dimension 1 (got 29 and 0)',) in 'menpofast.image.cython.extract_patches.slice_image' ignored\n",
        "Exception OverflowError: 'Python int too large to convert to C long' in 'menpofast.image.cython.extract_patches.calc_slices' ignored\n",
        "Exception ValueError: ValueError('got differing extents in dimension 1 (got 29 and 0)',) in 'menpofast.image.cython.extract_patches.slice_image' ignored\n",
        "Exception OverflowError: 'Python int too large to convert to C long' in 'menpofast.image.cython.extract_patches.calc_slices' ignored\n",
        "Exception ValueError: ValueError('got differing extents in dimension 1 (got 29 and 0)',) in 'menpofast.image.cython.extract_patches.slice_image' ignored\n",
        "Exception OverflowError: 'Python int too large to convert to C long' in 'menpofast.image.cython.extract_patches.calc_slices' ignored\n",
        "Exception ValueError: ValueError('got differing extents in dimension 1 (got 29 and 0)',) in 'menpofast.image.cython.extract_patches.slice_image' ignored\n",
        "Exception "
       ]
      },
      {
       "output_type": "stream",
       "stream": "stdout",
       "text": [
        " 43\n",
        "Initial error: 0.0720\n",
        "Final error: 0.0570\n",
        "Image: "
       ]
      },
      {
       "output_type": "stream",
       "stream": "stdout",
       "text": [
        " 43\n",
        "Initial error: 0.0720\n",
        "Final error: nan\n",
        "Image: "
       ]
      },
      {
       "output_type": "stream",
       "stream": "stderr",
       "text": [
        "OverflowError: 'Python int too large to convert to C long' in 'menpofast.image.cython.extract_patches.calc_slices' ignored\n",
        "Exception ValueError: ValueError('got differing extents in dimension 1 (got 29 and 0)',) in 'menpofast.image.cython.extract_patches.slice_image' ignored\n",
        "Exception "
       ]
      },
      {
       "output_type": "stream",
       "stream": "stderr",
       "text": [
        "OverflowError: 'Python int too large to convert to C long' in 'menpofast.image.cython.extract_patches.calc_slices' ignored\n",
        "Exception ValueError: ValueError('got differing extents in dimension 1 (got 29 and 0)',) in 'menpofast.image.cython.extract_patches.slice_image' ignored\n",
        "Exception OverflowError: 'Python int too large to convert to C long' in 'menpofast.image.cython.extract_patches.calc_slices' ignored\n",
        "Exception ValueError: ValueError('got differing extents in dimension 1 (got 29 and 0)',) in 'menpofast.image.cython.extract_patches.slice_image' ignored\n",
        "Exception OverflowError: 'Python int too large to convert to C long' in 'menpofast.image.cython.extract_patches.calc_slices' ignored\n",
        "Exception ValueError: ValueError('got differing extents in dimension 1 (got 29 and 0)',) in 'menpofast.image.cython.extract_patches.slice_image' ignored\n",
        "Exception OverflowError: 'Python int too large to convert to C long' in 'menpofast.image.cython.extract_patches.calc_slices' ignored\n",
        "Exception ValueError: ValueError('got differing extents in dimension 1 (got 29 and 0)',) in 'menpofast.image.cython.extract_patches.slice_image' ignored\n",
        "Exception "
       ]
      },
      {
       "output_type": "stream",
       "stream": "stderr",
       "text": [
        "OverflowError: 'Python int too large to convert to C long' in 'menpofast.image.cython.extract_patches.calc_slices' ignored\n",
        "Exception ValueError: ValueError('got differing extents in dimension 1 (got 29 and 0)',) in 'menpofast.image.cython.extract_patches.slice_image' ignored\n",
        "Exception OverflowError: 'Python int too large to convert to C long' in 'menpofast.image.cython.extract_patches.calc_slices' ignored\n",
        "Exception ValueError: ValueError('got differing extents in dimension 1 (got 29 and 0)',) in 'menpofast.image.cython.extract_patches.slice_image' ignored\n",
        "Exception OverflowError: 'Python int too large to convert to C long' in 'menpofast.image.cython.extract_patches.calc_slices' ignored\n",
        "Exception ValueError: ValueError('got differing extents in dimension 1 (got 29 and 0)',) in 'menpofast.image.cython.extract_patches.slice_image' ignored\n",
        "Exception OverflowError: 'Python int too large to convert to C long' in 'menpofast.image.cython.extract_patches.calc_slices' ignored\n",
        "Exception ValueError: ValueError('got differing extents in dimension 1 (got 29 and 0)',) in 'menpofast.image.cython.extract_patches.slice_image' ignored\n",
        "Exception "
       ]
      },
      {
       "output_type": "stream",
       "stream": "stdout",
       "text": [
        " 44\n",
        "Initial error: 0.0593\n",
        "Final error: 0.0494\n",
        "Image: "
       ]
      },
      {
       "output_type": "stream",
       "stream": "stdout",
       "text": [
        " 44\n",
        "Initial error: 0.0593\n",
        "Final error: nan\n",
        "Image: "
       ]
      },
      {
       "output_type": "stream",
       "stream": "stderr",
       "text": [
        "OverflowError: 'Python int too large to convert to C long' in 'menpofast.image.cython.extract_patches.calc_slices' ignored\n",
        "Exception ValueError: ValueError('got differing extents in dimension 1 (got 29 and 0)',) in 'menpofast.image.cython.extract_patches.slice_image' ignored\n",
        "Exception "
       ]
      },
      {
       "output_type": "stream",
       "stream": "stderr",
       "text": [
        "OverflowError: 'Python int too large to convert to C long' in 'menpofast.image.cython.extract_patches.calc_slices' ignored\n",
        "Exception ValueError: ValueError('got differing extents in dimension 1 (got 29 and 0)',) in 'menpofast.image.cython.extract_patches.slice_image' ignored\n",
        "Exception OverflowError: 'Python int too large to convert to C long' in 'menpofast.image.cython.extract_patches.calc_slices' ignored\n",
        "Exception ValueError: ValueError('got differing extents in dimension 1 (got 29 and 0)',) in 'menpofast.image.cython.extract_patches.slice_image' ignored\n",
        "Exception OverflowError: 'Python int too large to convert to C long' in 'menpofast.image.cython.extract_patches.calc_slices' ignored\n",
        "Exception ValueError: ValueError('got differing extents in dimension 1 (got 29 and 0)',) in 'menpofast.image.cython.extract_patches.slice_image' ignored\n",
        "Exception OverflowError: 'Python int too large to convert to C long' in 'menpofast.image.cython.extract_patches.calc_slices' ignored\n",
        "Exception ValueError: ValueError('got differing extents in dimension 1 (got 29 and 0)',) in 'menpofast.image.cython.extract_patches.slice_image' ignored\n",
        "Exception "
       ]
      },
      {
       "output_type": "stream",
       "stream": "stderr",
       "text": [
        "OverflowError: 'Python int too large to convert to C long' in 'menpofast.image.cython.extract_patches.calc_slices' ignored\n",
        "Exception ValueError: ValueError('got differing extents in dimension 1 (got 29 and 0)',) in 'menpofast.image.cython.extract_patches.slice_image' ignored\n",
        "Exception OverflowError: 'Python int too large to convert to C long' in 'menpofast.image.cython.extract_patches.calc_slices' ignored\n",
        "Exception ValueError: ValueError('got differing extents in dimension 1 (got 29 and 0)',) in 'menpofast.image.cython.extract_patches.slice_image' ignored\n",
        "Exception OverflowError: 'Python int too large to convert to C long' in 'menpofast.image.cython.extract_patches.calc_slices' ignored\n",
        "Exception ValueError: ValueError('got differing extents in dimension 1 (got 29 and 0)',) in 'menpofast.image.cython.extract_patches.slice_image' ignored\n",
        "Exception OverflowError: 'Python int too large to convert to C long' in 'menpofast.image.cython.extract_patches.calc_slices' ignored\n",
        "Exception ValueError: ValueError('got differing extents in dimension 1 (got 29 and 0)',) in 'menpofast.image.cython.extract_patches.slice_image' ignored\n",
        "Exception "
       ]
      },
      {
       "output_type": "stream",
       "stream": "stdout",
       "text": [
        " 45\n",
        "Initial error: 0.1861\n",
        "Final error: 0.1778\n",
        "Image: "
       ]
      },
      {
       "output_type": "stream",
       "stream": "stdout",
       "text": [
        " 45\n",
        "Initial error: 0.1861\n",
        "Final error: nan\n",
        "Image: "
       ]
      },
      {
       "output_type": "stream",
       "stream": "stderr",
       "text": [
        "OverflowError: 'Python int too large to convert to C long' in 'menpofast.image.cython.extract_patches.calc_slices' ignored\n",
        "Exception ValueError: ValueError('got differing extents in dimension 1 (got 29 and 0)',) in 'menpofast.image.cython.extract_patches.slice_image' ignored\n",
        "Exception "
       ]
      },
      {
       "output_type": "stream",
       "stream": "stderr",
       "text": [
        "OverflowError: 'Python int too large to convert to C long' in 'menpofast.image.cython.extract_patches.calc_slices' ignored\n",
        "Exception ValueError: ValueError('got differing extents in dimension 1 (got 29 and 0)',) in 'menpofast.image.cython.extract_patches.slice_image' ignored\n",
        "Exception OverflowError: 'Python int too large to convert to C long' in 'menpofast.image.cython.extract_patches.calc_slices' ignored\n",
        "Exception ValueError: ValueError('got differing extents in dimension 1 (got 29 and 0)',) in 'menpofast.image.cython.extract_patches.slice_image' ignored\n",
        "Exception OverflowError: 'Python int too large to convert to C long' in 'menpofast.image.cython.extract_patches.calc_slices' ignored\n",
        "Exception ValueError: ValueError('got differing extents in dimension 1 (got 29 and 0)',) in 'menpofast.image.cython.extract_patches.slice_image' ignored\n",
        "Exception OverflowError: 'Python int too large to convert to C long' in 'menpofast.image.cython.extract_patches.calc_slices' ignored\n",
        "Exception ValueError: ValueError('got differing extents in dimension 1 (got 29 and 0)',) in 'menpofast.image.cython.extract_patches.slice_image' ignored\n",
        "Exception "
       ]
      },
      {
       "output_type": "stream",
       "stream": "stderr",
       "text": [
        "OverflowError: 'Python int too large to convert to C long' in 'menpofast.image.cython.extract_patches.calc_slices' ignored\n",
        "Exception ValueError: ValueError('got differing extents in dimension 1 (got 29 and 0)',) in 'menpofast.image.cython.extract_patches.slice_image' ignored\n",
        "Exception OverflowError: 'Python int too large to convert to C long' in 'menpofast.image.cython.extract_patches.calc_slices' ignored\n",
        "Exception ValueError: ValueError('got differing extents in dimension 1 (got 29 and 0)',) in 'menpofast.image.cython.extract_patches.slice_image' ignored\n",
        "Exception OverflowError: 'Python int too large to convert to C long' in 'menpofast.image.cython.extract_patches.calc_slices' ignored\n",
        "Exception ValueError: ValueError('got differing extents in dimension 1 (got 29 and 0)',) in 'menpofast.image.cython.extract_patches.slice_image' ignored\n",
        "Exception OverflowError: 'Python int too large to convert to C long' in 'menpofast.image.cython.extract_patches.calc_slices' ignored\n",
        "Exception ValueError: ValueError('got differing extents in dimension 1 (got 29 and 0)',) in 'menpofast.image.cython.extract_patches.slice_image' ignored\n",
        "Exception "
       ]
      },
      {
       "output_type": "stream",
       "stream": "stdout",
       "text": [
        " 46\n",
        "Initial error: 0.0665\n",
        "Final error: 0.0485\n",
        "Image: "
       ]
      },
      {
       "output_type": "stream",
       "stream": "stdout",
       "text": [
        " 46\n",
        "Initial error: 0.0665\n",
        "Final error: nan\n",
        "Image: "
       ]
      },
      {
       "output_type": "stream",
       "stream": "stderr",
       "text": [
        "OverflowError: 'Python int too large to convert to C long' in 'menpofast.image.cython.extract_patches.calc_slices' ignored\n",
        "Exception ValueError: ValueError('got differing extents in dimension 1 (got 29 and 0)',) in 'menpofast.image.cython.extract_patches.slice_image' ignored\n",
        "Exception "
       ]
      },
      {
       "output_type": "stream",
       "stream": "stderr",
       "text": [
        "OverflowError: 'Python int too large to convert to C long' in 'menpofast.image.cython.extract_patches.calc_slices' ignored\n",
        "Exception ValueError: ValueError('got differing extents in dimension 1 (got 29 and 0)',) in 'menpofast.image.cython.extract_patches.slice_image' ignored\n",
        "Exception OverflowError: 'Python int too large to convert to C long' in 'menpofast.image.cython.extract_patches.calc_slices' ignored\n",
        "Exception ValueError: ValueError('got differing extents in dimension 1 (got 29 and 0)',) in 'menpofast.image.cython.extract_patches.slice_image' ignored\n",
        "Exception OverflowError: 'Python int too large to convert to C long' in 'menpofast.image.cython.extract_patches.calc_slices' ignored\n",
        "Exception ValueError: ValueError('got differing extents in dimension 1 (got 29 and 0)',) in 'menpofast.image.cython.extract_patches.slice_image' ignored\n",
        "Exception OverflowError: 'Python int too large to convert to C long' in 'menpofast.image.cython.extract_patches.calc_slices' ignored\n",
        "Exception ValueError: ValueError('got differing extents in dimension 1 (got 29 and 0)',) in 'menpofast.image.cython.extract_patches.slice_image' ignored\n",
        "Exception "
       ]
      },
      {
       "output_type": "stream",
       "stream": "stderr",
       "text": [
        "OverflowError: 'Python int too large to convert to C long' in 'menpofast.image.cython.extract_patches.calc_slices' ignored\n",
        "Exception ValueError: ValueError('got differing extents in dimension 1 (got 29 and 0)',) in 'menpofast.image.cython.extract_patches.slice_image' ignored\n",
        "Exception OverflowError: 'Python int too large to convert to C long' in 'menpofast.image.cython.extract_patches.calc_slices' ignored\n",
        "Exception ValueError: ValueError('got differing extents in dimension 1 (got 29 and 0)',) in 'menpofast.image.cython.extract_patches.slice_image' ignored\n",
        "Exception OverflowError: 'Python int too large to convert to C long' in 'menpofast.image.cython.extract_patches.calc_slices' ignored\n",
        "Exception ValueError: ValueError('got differing extents in dimension 1 (got 29 and 0)',) in 'menpofast.image.cython.extract_patches.slice_image' ignored\n",
        "Exception OverflowError: 'Python int too large to convert to C long' in 'menpofast.image.cython.extract_patches.calc_slices' ignored\n",
        "Exception ValueError: ValueError('got differing extents in dimension 1 (got 29 and 0)',) in 'menpofast.image.cython.extract_patches.slice_image' ignored\n",
        "Exception "
       ]
      },
      {
       "output_type": "stream",
       "stream": "stdout",
       "text": [
        " 47\n",
        "Initial error: 0.0943\n",
        "Final error: 0.0620\n",
        "Image: "
       ]
      },
      {
       "output_type": "stream",
       "stream": "stdout",
       "text": [
        " 47\n",
        "Initial error: 0.0943\n",
        "Final error: nan\n",
        "Image: "
       ]
      },
      {
       "output_type": "stream",
       "stream": "stderr",
       "text": [
        "OverflowError: 'Python int too large to convert to C long' in 'menpofast.image.cython.extract_patches.calc_slices' ignored\n",
        "Exception ValueError: ValueError('got differing extents in dimension 1 (got 29 and 0)',) in 'menpofast.image.cython.extract_patches.slice_image' ignored\n",
        "Exception "
       ]
      },
      {
       "output_type": "stream",
       "stream": "stderr",
       "text": [
        "OverflowError: 'Python int too large to convert to C long' in 'menpofast.image.cython.extract_patches.calc_slices' ignored\n",
        "Exception ValueError: ValueError('got differing extents in dimension 1 (got 29 and 0)',) in 'menpofast.image.cython.extract_patches.slice_image' ignored\n",
        "Exception OverflowError: 'Python int too large to convert to C long' in 'menpofast.image.cython.extract_patches.calc_slices' ignored\n",
        "Exception ValueError: ValueError('got differing extents in dimension 1 (got 29 and 0)',) in 'menpofast.image.cython.extract_patches.slice_image' ignored\n",
        "Exception OverflowError: 'Python int too large to convert to C long' in 'menpofast.image.cython.extract_patches.calc_slices' ignored\n",
        "Exception ValueError: ValueError('got differing extents in dimension 1 (got 29 and 0)',) in 'menpofast.image.cython.extract_patches.slice_image' ignored\n",
        "Exception OverflowError: 'Python int too large to convert to C long' in 'menpofast.image.cython.extract_patches.calc_slices' ignored\n",
        "Exception ValueError: ValueError('got differing extents in dimension 1 (got 29 and 0)',) in 'menpofast.image.cython.extract_patches.slice_image' ignored\n",
        "Exception "
       ]
      },
      {
       "output_type": "stream",
       "stream": "stderr",
       "text": [
        "OverflowError: 'Python int too large to convert to C long' in 'menpofast.image.cython.extract_patches.calc_slices' ignored\n",
        "Exception ValueError: ValueError('got differing extents in dimension 1 (got 29 and 0)',) in 'menpofast.image.cython.extract_patches.slice_image' ignored\n",
        "Exception OverflowError: 'Python int too large to convert to C long' in 'menpofast.image.cython.extract_patches.calc_slices' ignored\n",
        "Exception ValueError: ValueError('got differing extents in dimension 1 (got 29 and 0)',) in 'menpofast.image.cython.extract_patches.slice_image' ignored\n",
        "Exception OverflowError: 'Python int too large to convert to C long' in 'menpofast.image.cython.extract_patches.calc_slices' ignored\n",
        "Exception ValueError: ValueError('got differing extents in dimension 1 (got 29 and 0)',) in 'menpofast.image.cython.extract_patches.slice_image' ignored\n",
        "Exception OverflowError: 'Python int too large to convert to C long' in 'menpofast.image.cython.extract_patches.calc_slices' ignored\n",
        "Exception ValueError: ValueError('got differing extents in dimension 1 (got 29 and 0)',) in 'menpofast.image.cython.extract_patches.slice_image' ignored\n",
        "Exception "
       ]
      },
      {
       "output_type": "stream",
       "stream": "stdout",
       "text": [
        " 48\n",
        "Initial error: 0.0736\n",
        "Final error: 0.0572\n",
        "Image: "
       ]
      },
      {
       "output_type": "stream",
       "stream": "stdout",
       "text": [
        " 48\n",
        "Initial error: 0.0736\n",
        "Final error: nan\n",
        "Image: "
       ]
      },
      {
       "output_type": "stream",
       "stream": "stderr",
       "text": [
        "OverflowError: 'Python int too large to convert to C long' in 'menpofast.image.cython.extract_patches.calc_slices' ignored\n",
        "Exception ValueError: ValueError('got differing extents in dimension 1 (got 29 and 0)',) in 'menpofast.image.cython.extract_patches.slice_image' ignored\n",
        "Exception "
       ]
      },
      {
       "output_type": "stream",
       "stream": "stderr",
       "text": [
        "OverflowError: 'Python int too large to convert to C long' in 'menpofast.image.cython.extract_patches.calc_slices' ignored\n",
        "Exception ValueError: ValueError('got differing extents in dimension 1 (got 29 and 0)',) in 'menpofast.image.cython.extract_patches.slice_image' ignored\n",
        "Exception OverflowError: 'Python int too large to convert to C long' in 'menpofast.image.cython.extract_patches.calc_slices' ignored\n",
        "Exception ValueError: ValueError('got differing extents in dimension 1 (got 29 and 0)',) in 'menpofast.image.cython.extract_patches.slice_image' ignored\n",
        "Exception OverflowError: 'Python int too large to convert to C long' in 'menpofast.image.cython.extract_patches.calc_slices' ignored\n",
        "Exception ValueError: ValueError('got differing extents in dimension 1 (got 29 and 0)',) in 'menpofast.image.cython.extract_patches.slice_image' ignored\n",
        "Exception OverflowError: 'Python int too large to convert to C long' in 'menpofast.image.cython.extract_patches.calc_slices' ignored\n",
        "Exception ValueError: ValueError('got differing extents in dimension 1 (got 29 and 0)',) in 'menpofast.image.cython.extract_patches.slice_image' ignored\n",
        "Exception "
       ]
      },
      {
       "output_type": "stream",
       "stream": "stderr",
       "text": [
        "OverflowError: 'Python int too large to convert to C long' in 'menpofast.image.cython.extract_patches.calc_slices' ignored\n",
        "Exception ValueError: ValueError('got differing extents in dimension 1 (got 29 and 0)',) in 'menpofast.image.cython.extract_patches.slice_image' ignored\n",
        "Exception OverflowError: 'Python int too large to convert to C long' in 'menpofast.image.cython.extract_patches.calc_slices' ignored\n",
        "Exception ValueError: ValueError('got differing extents in dimension 1 (got 29 and 0)',) in 'menpofast.image.cython.extract_patches.slice_image' ignored\n",
        "Exception OverflowError: 'Python int too large to convert to C long' in 'menpofast.image.cython.extract_patches.calc_slices' ignored\n",
        "Exception ValueError: ValueError('got differing extents in dimension 1 (got 29 and 0)',) in 'menpofast.image.cython.extract_patches.slice_image' ignored\n",
        "Exception OverflowError: 'Python int too large to convert to C long' in 'menpofast.image.cython.extract_patches.calc_slices' ignored\n",
        "Exception ValueError: ValueError('got differing extents in dimension 1 (got 29 and 0)',) in 'menpofast.image.cython.extract_patches.slice_image' ignored\n",
        "Exception "
       ]
      },
      {
       "output_type": "stream",
       "stream": "stdout",
       "text": [
        " 49\n",
        "Initial error: 0.1094\n",
        "Final error: 0.0551\n",
        "Image: "
       ]
      },
      {
       "output_type": "stream",
       "stream": "stdout",
       "text": [
        " 49\n",
        "Initial error: 0.1094\n",
        "Final error: nan\n",
        "Image: "
       ]
      },
      {
       "output_type": "stream",
       "stream": "stderr",
       "text": [
        "OverflowError: 'Python int too large to convert to C long' in 'menpofast.image.cython.extract_patches.calc_slices' ignored\n",
        "Exception ValueError: ValueError('got differing extents in dimension 1 (got 29 and 0)',) in 'menpofast.image.cython.extract_patches.slice_image' ignored\n",
        "Exception "
       ]
      },
      {
       "output_type": "stream",
       "stream": "stderr",
       "text": [
        "OverflowError: 'Python int too large to convert to C long' in 'menpofast.image.cython.extract_patches.calc_slices' ignored\n",
        "Exception ValueError: ValueError('got differing extents in dimension 1 (got 29 and 0)',) in 'menpofast.image.cython.extract_patches.slice_image' ignored\n",
        "Exception OverflowError: 'Python int too large to convert to C long' in 'menpofast.image.cython.extract_patches.calc_slices' ignored\n",
        "Exception ValueError: ValueError('got differing extents in dimension 1 (got 29 and 0)',) in 'menpofast.image.cython.extract_patches.slice_image' ignored\n",
        "Exception OverflowError: 'Python int too large to convert to C long' in 'menpofast.image.cython.extract_patches.calc_slices' ignored\n",
        "Exception ValueError: ValueError('got differing extents in dimension 1 (got 29 and 0)',) in 'menpofast.image.cython.extract_patches.slice_image' ignored\n",
        "Exception OverflowError: 'Python int too large to convert to C long' in 'menpofast.image.cython.extract_patches.calc_slices' ignored\n",
        "Exception ValueError: ValueError('got differing extents in dimension 1 (got 29 and 0)',) in 'menpofast.image.cython.extract_patches.slice_image' ignored\n",
        "Exception "
       ]
      },
      {
       "output_type": "stream",
       "stream": "stderr",
       "text": [
        "OverflowError: 'Python int too large to convert to C long' in 'menpofast.image.cython.extract_patches.calc_slices' ignored\n",
        "Exception ValueError: ValueError('got differing extents in dimension 1 (got 29 and 0)',) in 'menpofast.image.cython.extract_patches.slice_image' ignored\n",
        "Exception OverflowError: 'Python int too large to convert to C long' in 'menpofast.image.cython.extract_patches.calc_slices' ignored\n",
        "Exception ValueError: ValueError('got differing extents in dimension 1 (got 29 and 0)',) in 'menpofast.image.cython.extract_patches.slice_image' ignored\n",
        "Exception OverflowError: 'Python int too large to convert to C long' in 'menpofast.image.cython.extract_patches.calc_slices' ignored\n",
        "Exception ValueError: ValueError('got differing extents in dimension 1 (got 29 and 0)',) in 'menpofast.image.cython.extract_patches.slice_image' ignored\n",
        "Exception OverflowError: 'Python int too large to convert to C long' in 'menpofast.image.cython.extract_patches.calc_slices' ignored\n",
        "Exception ValueError: ValueError('got differing extents in dimension 1 (got 29 and 0)',) in 'menpofast.image.cython.extract_patches.slice_image' ignored\n",
        "Exception "
       ]
      },
      {
       "output_type": "stream",
       "stream": "stdout",
       "text": [
        " 50\n",
        "Initial error: 0.0751\n",
        "Final error: 0.0460\n",
        "Image: "
       ]
      },
      {
       "output_type": "stream",
       "stream": "stdout",
       "text": [
        " 50\n",
        "Initial error: 0.0751\n",
        "Final error: nan\n",
        "Image: "
       ]
      },
      {
       "output_type": "stream",
       "stream": "stderr",
       "text": [
        "OverflowError: 'Python int too large to convert to C long' in 'menpofast.image.cython.extract_patches.calc_slices' ignored\n",
        "Exception ValueError: ValueError('got differing extents in dimension 1 (got 29 and 0)',) in 'menpofast.image.cython.extract_patches.slice_image' ignored\n",
        "Exception "
       ]
      },
      {
       "output_type": "stream",
       "stream": "stderr",
       "text": [
        "OverflowError: 'Python int too large to convert to C long' in 'menpofast.image.cython.extract_patches.calc_slices' ignored\n",
        "Exception ValueError: ValueError('got differing extents in dimension 1 (got 29 and 0)',) in 'menpofast.image.cython.extract_patches.slice_image' ignored\n",
        "Exception OverflowError: 'Python int too large to convert to C long' in 'menpofast.image.cython.extract_patches.calc_slices' ignored\n",
        "Exception ValueError: ValueError('got differing extents in dimension 1 (got 29 and 0)',) in 'menpofast.image.cython.extract_patches.slice_image' ignored\n",
        "Exception OverflowError: 'Python int too large to convert to C long' in 'menpofast.image.cython.extract_patches.calc_slices' ignored\n",
        "Exception ValueError: ValueError('got differing extents in dimension 1 (got 29 and 0)',) in 'menpofast.image.cython.extract_patches.slice_image' ignored\n",
        "Exception OverflowError: 'Python int too large to convert to C long' in 'menpofast.image.cython.extract_patches.calc_slices' ignored\n",
        "Exception ValueError: ValueError('got differing extents in dimension 1 (got 29 and 0)',) in 'menpofast.image.cython.extract_patches.slice_image' ignored\n",
        "Exception "
       ]
      },
      {
       "output_type": "stream",
       "stream": "stderr",
       "text": [
        "OverflowError: 'Python int too large to convert to C long' in 'menpofast.image.cython.extract_patches.calc_slices' ignored\n",
        "Exception ValueError: ValueError('got differing extents in dimension 1 (got 29 and 0)',) in 'menpofast.image.cython.extract_patches.slice_image' ignored\n",
        "Exception OverflowError: 'Python int too large to convert to C long' in 'menpofast.image.cython.extract_patches.calc_slices' ignored\n",
        "Exception ValueError: ValueError('got differing extents in dimension 1 (got 29 and 0)',) in 'menpofast.image.cython.extract_patches.slice_image' ignored\n",
        "Exception OverflowError: 'Python int too large to convert to C long' in 'menpofast.image.cython.extract_patches.calc_slices' ignored\n",
        "Exception ValueError: ValueError('got differing extents in dimension 1 (got 29 and 0)',) in 'menpofast.image.cython.extract_patches.slice_image' ignored\n",
        "Exception OverflowError: 'Python int too large to convert to C long' in 'menpofast.image.cython.extract_patches.calc_slices' ignored\n",
        "Exception ValueError: ValueError('got differing extents in dimension 1 (got 29 and 0)',) in 'menpofast.image.cython.extract_patches.slice_image' ignored\n",
        "Exception "
       ]
      },
      {
       "output_type": "stream",
       "stream": "stdout",
       "text": [
        " 51\n",
        "Initial error: 0.0720\n",
        "Final error: 0.0372\n",
        "Image: "
       ]
      },
      {
       "output_type": "stream",
       "stream": "stdout",
       "text": [
        " 51\n",
        "Initial error: 0.0720\n",
        "Final error: nan\n",
        "Image: "
       ]
      },
      {
       "output_type": "stream",
       "stream": "stderr",
       "text": [
        "OverflowError: 'Python int too large to convert to C long' in 'menpofast.image.cython.extract_patches.calc_slices' ignored\n",
        "Exception ValueError: ValueError('got differing extents in dimension 1 (got 29 and 0)',) in 'menpofast.image.cython.extract_patches.slice_image' ignored\n",
        "Exception "
       ]
      },
      {
       "output_type": "stream",
       "stream": "stderr",
       "text": [
        "OverflowError: 'Python int too large to convert to C long' in 'menpofast.image.cython.extract_patches.calc_slices' ignored\n",
        "Exception ValueError: ValueError('got differing extents in dimension 1 (got 29 and 0)',) in 'menpofast.image.cython.extract_patches.slice_image' ignored\n",
        "Exception OverflowError: 'Python int too large to convert to C long' in 'menpofast.image.cython.extract_patches.calc_slices' ignored\n",
        "Exception ValueError: ValueError('got differing extents in dimension 1 (got 29 and 0)',) in 'menpofast.image.cython.extract_patches.slice_image' ignored\n",
        "Exception OverflowError: 'Python int too large to convert to C long' in 'menpofast.image.cython.extract_patches.calc_slices' ignored\n",
        "Exception ValueError: ValueError('got differing extents in dimension 1 (got 29 and 0)',) in 'menpofast.image.cython.extract_patches.slice_image' ignored\n",
        "Exception OverflowError: 'Python int too large to convert to C long' in 'menpofast.image.cython.extract_patches.calc_slices' ignored\n",
        "Exception ValueError: ValueError('got differing extents in dimension 1 (got 29 and 0)',) in 'menpofast.image.cython.extract_patches.slice_image' ignored\n",
        "Exception "
       ]
      },
      {
       "output_type": "stream",
       "stream": "stderr",
       "text": [
        "OverflowError: 'Python int too large to convert to C long' in 'menpofast.image.cython.extract_patches.calc_slices' ignored\n",
        "Exception ValueError: ValueError('got differing extents in dimension 1 (got 29 and 0)',) in 'menpofast.image.cython.extract_patches.slice_image' ignored\n",
        "Exception OverflowError: 'Python int too large to convert to C long' in 'menpofast.image.cython.extract_patches.calc_slices' ignored\n",
        "Exception ValueError: ValueError('got differing extents in dimension 1 (got 29 and 0)',) in 'menpofast.image.cython.extract_patches.slice_image' ignored\n",
        "Exception OverflowError: 'Python int too large to convert to C long' in 'menpofast.image.cython.extract_patches.calc_slices' ignored\n",
        "Exception ValueError: ValueError('got differing extents in dimension 1 (got 29 and 0)',) in 'menpofast.image.cython.extract_patches.slice_image' ignored\n",
        "Exception OverflowError: 'Python int too large to convert to C long' in 'menpofast.image.cython.extract_patches.calc_slices' ignored\n",
        "Exception ValueError: ValueError('got differing extents in dimension 1 (got 29 and 0)',) in 'menpofast.image.cython.extract_patches.slice_image' ignored\n",
        "Exception "
       ]
      },
      {
       "output_type": "stream",
       "stream": "stdout",
       "text": [
        " 52\n",
        "Initial error: 0.0498\n",
        "Final error: 0.0376\n",
        "Image: "
       ]
      },
      {
       "output_type": "stream",
       "stream": "stdout",
       "text": [
        " 52\n",
        "Initial error: 0.0498\n",
        "Final error: nan\n",
        "Image: "
       ]
      },
      {
       "output_type": "stream",
       "stream": "stderr",
       "text": [
        "OverflowError: 'Python int too large to convert to C long' in 'menpofast.image.cython.extract_patches.calc_slices' ignored\n",
        "Exception ValueError: ValueError('got differing extents in dimension 1 (got 29 and 0)',) in 'menpofast.image.cython.extract_patches.slice_image' ignored\n",
        "Exception "
       ]
      },
      {
       "output_type": "stream",
       "stream": "stderr",
       "text": [
        "OverflowError: 'Python int too large to convert to C long' in 'menpofast.image.cython.extract_patches.calc_slices' ignored\n",
        "Exception ValueError: ValueError('got differing extents in dimension 1 (got 29 and 0)',) in 'menpofast.image.cython.extract_patches.slice_image' ignored\n",
        "Exception OverflowError: 'Python int too large to convert to C long' in 'menpofast.image.cython.extract_patches.calc_slices' ignored\n",
        "Exception ValueError: ValueError('got differing extents in dimension 1 (got 29 and 0)',) in 'menpofast.image.cython.extract_patches.slice_image' ignored\n",
        "Exception OverflowError: 'Python int too large to convert to C long' in 'menpofast.image.cython.extract_patches.calc_slices' ignored\n",
        "Exception ValueError: ValueError('got differing extents in dimension 1 (got 29 and 0)',) in 'menpofast.image.cython.extract_patches.slice_image' ignored\n",
        "Exception OverflowError: 'Python int too large to convert to C long' in 'menpofast.image.cython.extract_patches.calc_slices' ignored\n",
        "Exception ValueError: ValueError('got differing extents in dimension 1 (got 29 and 0)',) in 'menpofast.image.cython.extract_patches.slice_image' ignored\n",
        "Exception "
       ]
      },
      {
       "output_type": "stream",
       "stream": "stderr",
       "text": [
        "OverflowError: 'Python int too large to convert to C long' in 'menpofast.image.cython.extract_patches.calc_slices' ignored\n",
        "Exception ValueError: ValueError('got differing extents in dimension 1 (got 29 and 0)',) in 'menpofast.image.cython.extract_patches.slice_image' ignored\n",
        "Exception OverflowError: 'Python int too large to convert to C long' in 'menpofast.image.cython.extract_patches.calc_slices' ignored\n",
        "Exception ValueError: ValueError('got differing extents in dimension 1 (got 29 and 0)',) in 'menpofast.image.cython.extract_patches.slice_image' ignored\n",
        "Exception OverflowError: 'Python int too large to convert to C long' in 'menpofast.image.cython.extract_patches.calc_slices' ignored\n",
        "Exception ValueError: ValueError('got differing extents in dimension 1 (got 29 and 0)',) in 'menpofast.image.cython.extract_patches.slice_image' ignored\n",
        "Exception OverflowError: 'Python int too large to convert to C long' in 'menpofast.image.cython.extract_patches.calc_slices' ignored\n",
        "Exception ValueError: ValueError('got differing extents in dimension 1 (got 29 and 0)',) in 'menpofast.image.cython.extract_patches.slice_image' ignored\n",
        "Exception "
       ]
      },
      {
       "output_type": "stream",
       "stream": "stdout",
       "text": [
        " 53\n",
        "Initial error: 0.0717\n",
        "Final error: 0.0496\n",
        "Image: "
       ]
      },
      {
       "output_type": "stream",
       "stream": "stdout",
       "text": [
        " 53\n",
        "Initial error: 0.0717\n",
        "Final error: nan\n",
        "Image: "
       ]
      },
      {
       "output_type": "stream",
       "stream": "stderr",
       "text": [
        "OverflowError: 'Python int too large to convert to C long' in 'menpofast.image.cython.extract_patches.calc_slices' ignored\n",
        "Exception ValueError: ValueError('got differing extents in dimension 1 (got 29 and 0)',) in 'menpofast.image.cython.extract_patches.slice_image' ignored\n",
        "Exception "
       ]
      },
      {
       "output_type": "stream",
       "stream": "stderr",
       "text": [
        "OverflowError: 'Python int too large to convert to C long' in 'menpofast.image.cython.extract_patches.calc_slices' ignored\n",
        "Exception ValueError: ValueError('got differing extents in dimension 1 (got 29 and 0)',) in 'menpofast.image.cython.extract_patches.slice_image' ignored\n",
        "Exception OverflowError: 'Python int too large to convert to C long' in 'menpofast.image.cython.extract_patches.calc_slices' ignored\n",
        "Exception ValueError: ValueError('got differing extents in dimension 1 (got 29 and 0)',) in 'menpofast.image.cython.extract_patches.slice_image' ignored\n",
        "Exception OverflowError: 'Python int too large to convert to C long' in 'menpofast.image.cython.extract_patches.calc_slices' ignored\n",
        "Exception ValueError: ValueError('got differing extents in dimension 1 (got 29 and 0)',) in 'menpofast.image.cython.extract_patches.slice_image' ignored\n",
        "Exception OverflowError: 'Python int too large to convert to C long' in 'menpofast.image.cython.extract_patches.calc_slices' ignored\n",
        "Exception ValueError: ValueError('got differing extents in dimension 1 (got 29 and 0)',) in 'menpofast.image.cython.extract_patches.slice_image' ignored\n",
        "Exception "
       ]
      },
      {
       "output_type": "stream",
       "stream": "stderr",
       "text": [
        "OverflowError: 'Python int too large to convert to C long' in 'menpofast.image.cython.extract_patches.calc_slices' ignored\n",
        "Exception ValueError: ValueError('got differing extents in dimension 1 (got 29 and 0)',) in 'menpofast.image.cython.extract_patches.slice_image' ignored\n",
        "Exception OverflowError: 'Python int too large to convert to C long' in 'menpofast.image.cython.extract_patches.calc_slices' ignored\n",
        "Exception ValueError: ValueError('got differing extents in dimension 1 (got 29 and 0)',) in 'menpofast.image.cython.extract_patches.slice_image' ignored\n",
        "Exception OverflowError: 'Python int too large to convert to C long' in 'menpofast.image.cython.extract_patches.calc_slices' ignored\n",
        "Exception ValueError: ValueError('got differing extents in dimension 1 (got 29 and 0)',) in 'menpofast.image.cython.extract_patches.slice_image' ignored\n",
        "Exception OverflowError: 'Python int too large to convert to C long' in 'menpofast.image.cython.extract_patches.calc_slices' ignored\n",
        "Exception ValueError: ValueError('got differing extents in dimension 1 (got 29 and 0)',) in 'menpofast.image.cython.extract_patches.slice_image' ignored\n",
        "Exception "
       ]
      },
      {
       "output_type": "stream",
       "stream": "stdout",
       "text": [
        " 54\n",
        "Initial error: 0.0774\n",
        "Final error: 0.0462\n",
        "Image: "
       ]
      },
      {
       "output_type": "stream",
       "stream": "stdout",
       "text": [
        " 54\n",
        "Initial error: 0.0774\n",
        "Final error: nan\n",
        "Image: "
       ]
      },
      {
       "output_type": "stream",
       "stream": "stderr",
       "text": [
        "OverflowError: 'Python int too large to convert to C long' in 'menpofast.image.cython.extract_patches.calc_slices' ignored\n",
        "Exception ValueError: ValueError('got differing extents in dimension 1 (got 29 and 0)',) in 'menpofast.image.cython.extract_patches.slice_image' ignored\n",
        "Exception "
       ]
      },
      {
       "output_type": "stream",
       "stream": "stderr",
       "text": [
        "OverflowError: 'Python int too large to convert to C long' in 'menpofast.image.cython.extract_patches.calc_slices' ignored\n",
        "Exception ValueError: ValueError('got differing extents in dimension 1 (got 29 and 0)',) in 'menpofast.image.cython.extract_patches.slice_image' ignored\n",
        "Exception OverflowError: 'Python int too large to convert to C long' in 'menpofast.image.cython.extract_patches.calc_slices' ignored\n",
        "Exception ValueError: ValueError('got differing extents in dimension 1 (got 29 and 0)',) in 'menpofast.image.cython.extract_patches.slice_image' ignored\n",
        "Exception OverflowError: 'Python int too large to convert to C long' in 'menpofast.image.cython.extract_patches.calc_slices' ignored\n",
        "Exception ValueError: ValueError('got differing extents in dimension 1 (got 29 and 0)',) in 'menpofast.image.cython.extract_patches.slice_image' ignored\n",
        "Exception OverflowError: 'Python int too large to convert to C long' in 'menpofast.image.cython.extract_patches.calc_slices' ignored\n",
        "Exception ValueError: ValueError('got differing extents in dimension 1 (got 29 and 0)',) in 'menpofast.image.cython.extract_patches.slice_image' ignored\n",
        "Exception "
       ]
      },
      {
       "output_type": "stream",
       "stream": "stderr",
       "text": [
        "OverflowError: 'Python int too large to convert to C long' in 'menpofast.image.cython.extract_patches.calc_slices' ignored\n",
        "Exception ValueError: ValueError('got differing extents in dimension 1 (got 29 and 0)',) in 'menpofast.image.cython.extract_patches.slice_image' ignored\n",
        "Exception OverflowError: 'Python int too large to convert to C long' in 'menpofast.image.cython.extract_patches.calc_slices' ignored\n",
        "Exception ValueError: ValueError('got differing extents in dimension 1 (got 29 and 0)',) in 'menpofast.image.cython.extract_patches.slice_image' ignored\n",
        "Exception OverflowError: 'Python int too large to convert to C long' in 'menpofast.image.cython.extract_patches.calc_slices' ignored\n",
        "Exception ValueError: ValueError('got differing extents in dimension 1 (got 29 and 0)',) in 'menpofast.image.cython.extract_patches.slice_image' ignored\n",
        "Exception OverflowError: 'Python int too large to convert to C long' in 'menpofast.image.cython.extract_patches.calc_slices' ignored\n",
        "Exception ValueError: ValueError('got differing extents in dimension 1 (got 29 and 0)',) in 'menpofast.image.cython.extract_patches.slice_image' ignored\n",
        "Exception "
       ]
      },
      {
       "output_type": "stream",
       "stream": "stdout",
       "text": [
        " 55\n",
        "Initial error: 0.0654\n",
        "Final error: 0.0433\n",
        "Image: "
       ]
      },
      {
       "output_type": "stream",
       "stream": "stdout",
       "text": [
        " 55\n",
        "Initial error: 0.0654\n",
        "Final error: nan\n",
        "Image: "
       ]
      },
      {
       "output_type": "stream",
       "stream": "stderr",
       "text": [
        "OverflowError: 'Python int too large to convert to C long' in 'menpofast.image.cython.extract_patches.calc_slices' ignored\n",
        "Exception ValueError: ValueError('got differing extents in dimension 1 (got 29 and 0)',) in 'menpofast.image.cython.extract_patches.slice_image' ignored\n",
        "Exception "
       ]
      },
      {
       "output_type": "stream",
       "stream": "stderr",
       "text": [
        "OverflowError: 'Python int too large to convert to C long' in 'menpofast.image.cython.extract_patches.calc_slices' ignored\n",
        "Exception ValueError: ValueError('got differing extents in dimension 1 (got 29 and 0)',) in 'menpofast.image.cython.extract_patches.slice_image' ignored\n",
        "Exception OverflowError: 'Python int too large to convert to C long' in 'menpofast.image.cython.extract_patches.calc_slices' ignored\n",
        "Exception ValueError: ValueError('got differing extents in dimension 1 (got 29 and 0)',) in 'menpofast.image.cython.extract_patches.slice_image' ignored\n",
        "Exception OverflowError: 'Python int too large to convert to C long' in 'menpofast.image.cython.extract_patches.calc_slices' ignored\n",
        "Exception ValueError: ValueError('got differing extents in dimension 1 (got 29 and 0)',) in 'menpofast.image.cython.extract_patches.slice_image' ignored\n",
        "Exception OverflowError: 'Python int too large to convert to C long' in 'menpofast.image.cython.extract_patches.calc_slices' ignored\n",
        "Exception ValueError: ValueError('got differing extents in dimension 1 (got 29 and 0)',) in 'menpofast.image.cython.extract_patches.slice_image' ignored\n",
        "Exception "
       ]
      },
      {
       "output_type": "stream",
       "stream": "stderr",
       "text": [
        "OverflowError: 'Python int too large to convert to C long' in 'menpofast.image.cython.extract_patches.calc_slices' ignored\n",
        "Exception ValueError: ValueError('got differing extents in dimension 1 (got 29 and 0)',) in 'menpofast.image.cython.extract_patches.slice_image' ignored\n",
        "Exception OverflowError: 'Python int too large to convert to C long' in 'menpofast.image.cython.extract_patches.calc_slices' ignored\n",
        "Exception ValueError: ValueError('got differing extents in dimension 1 (got 29 and 0)',) in 'menpofast.image.cython.extract_patches.slice_image' ignored\n",
        "Exception OverflowError: 'Python int too large to convert to C long' in 'menpofast.image.cython.extract_patches.calc_slices' ignored\n",
        "Exception ValueError: ValueError('got differing extents in dimension 1 (got 29 and 0)',) in 'menpofast.image.cython.extract_patches.slice_image' ignored\n",
        "Exception OverflowError: 'Python int too large to convert to C long' in 'menpofast.image.cython.extract_patches.calc_slices' ignored\n",
        "Exception ValueError: ValueError('got differing extents in dimension 1 (got 29 and 0)',) in 'menpofast.image.cython.extract_patches.slice_image' ignored\n",
        "Exception "
       ]
      },
      {
       "output_type": "stream",
       "stream": "stdout",
       "text": [
        " 56\n",
        "Initial error: 0.0638\n",
        "Final error: 0.0392\n",
        "Image: "
       ]
      },
      {
       "output_type": "stream",
       "stream": "stdout",
       "text": [
        " 56\n",
        "Initial error: 0.0638\n",
        "Final error: nan\n"
       ]
      },
      {
       "output_type": "stream",
       "stream": "stderr",
       "text": [
        "OverflowError: 'Python int too large to convert to C long' in 'menpofast.image.cython.extract_patches.calc_slices' ignored\n",
        "Exception ValueError: ValueError('got differing extents in dimension 1 (got 29 and 0)',) in 'menpofast.image.cython.extract_patches.slice_image' ignored\n"
       ]
      },
      {
       "ename": "KeyboardInterrupt",
       "evalue": "",
       "output_type": "pyerr",
       "traceback": [
        "\u001b[1;31m---------------------------------------------------------------------------\u001b[0m\n\u001b[1;31mKeyboardInterrupt\u001b[0m                         Traceback (most recent call last)",
        "\u001b[1;32m<ipython-input-9-f3920ad96834>\u001b[0m in \u001b[0;36m<module>\u001b[1;34m()\u001b[0m\n\u001b[0;32m     14\u001b[0m         \u001b[1;32mfor\u001b[0m \u001b[0mk\u001b[0m\u001b[1;33m,\u001b[0m \u001b[0mfitter\u001b[0m \u001b[1;32min\u001b[0m \u001b[0menumerate\u001b[0m\u001b[1;33m(\u001b[0m\u001b[0mfitters\u001b[0m\u001b[1;33m)\u001b[0m\u001b[1;33m:\u001b[0m\u001b[1;33m\u001b[0m\u001b[0m\n\u001b[0;32m     15\u001b[0m \u001b[1;33m\u001b[0m\u001b[0m\n\u001b[1;32m---> 16\u001b[1;33m             \u001b[0mfr\u001b[0m \u001b[1;33m=\u001b[0m \u001b[0mfitter\u001b[0m\u001b[1;33m.\u001b[0m\u001b[0mfit\u001b[0m\u001b[1;33m(\u001b[0m\u001b[0mi\u001b[0m\u001b[1;33m,\u001b[0m \u001b[0ms\u001b[0m\u001b[1;33m,\u001b[0m \u001b[0mgt_shape\u001b[0m\u001b[1;33m=\u001b[0m\u001b[0mgt_s\u001b[0m\u001b[1;33m,\u001b[0m \u001b[0mmax_iters\u001b[0m\u001b[1;33m=\u001b[0m\u001b[1;36m20\u001b[0m\u001b[1;33m,\u001b[0m \u001b[0mprior\u001b[0m\u001b[1;33m=\u001b[0m\u001b[0mFalse\u001b[0m\u001b[1;33m,\u001b[0m \u001b[0ma\u001b[0m\u001b[1;33m=\u001b[0m\u001b[1;36m0.7\u001b[0m\u001b[1;33m)\u001b[0m\u001b[1;33m\u001b[0m\u001b[0m\n\u001b[0m\u001b[0;32m     17\u001b[0m \u001b[1;33m\u001b[0m\u001b[0m\n\u001b[0;32m     18\u001b[0m             \u001b[0mresults\u001b[0m\u001b[1;33m[\u001b[0m\u001b[0mk\u001b[0m\u001b[1;33m]\u001b[0m\u001b[1;33m.\u001b[0m\u001b[0mappend\u001b[0m\u001b[1;33m(\u001b[0m\u001b[0mfr\u001b[0m\u001b[1;33m)\u001b[0m\u001b[1;33m\u001b[0m\u001b[0m\n",
        "\u001b[1;32m/data/pythondev/src/alabortcvpr2015/alabortcvpr2015/fitter.pyc\u001b[0m in \u001b[0;36mfit\u001b[1;34m(self, image, initial_shape, max_iters, gt_shape, **kwargs)\u001b[0m\n\u001b[0;32m    135\u001b[0m         algorithm_results = self._fit(images, initial_shapes[0],\n\u001b[0;32m    136\u001b[0m                                       \u001b[0mmax_iters\u001b[0m\u001b[1;33m=\u001b[0m\u001b[0mmax_iters\u001b[0m\u001b[1;33m,\u001b[0m\u001b[1;33m\u001b[0m\u001b[0m\n\u001b[1;32m--> 137\u001b[1;33m                                       gt_shapes=gt_shapes, **kwargs)\n\u001b[0m\u001b[0;32m    138\u001b[0m \u001b[1;33m\u001b[0m\u001b[0m\n\u001b[0;32m    139\u001b[0m         \u001b[1;31m# build multilevel fitting result\u001b[0m\u001b[1;33m\u001b[0m\u001b[1;33m\u001b[0m\u001b[0m\n",
        "\u001b[1;32m/data/pythondev/src/alabortcvpr2015/alabortcvpr2015/fitter.pyc\u001b[0m in \u001b[0;36m_fit\u001b[1;34m(self, images, initial_shape, gt_shapes, max_iters, **kwargs)\u001b[0m\n\u001b[0;32m    312\u001b[0m \u001b[1;33m\u001b[0m\u001b[0m\n\u001b[0;32m    313\u001b[0m             algorithm_result = alg.run(i, shape, gt_shape=gt_shape,\n\u001b[1;32m--> 314\u001b[1;33m                                        max_iters=it, **kwargs)\n\u001b[0m\u001b[0;32m    315\u001b[0m             \u001b[0malgorithm_results\u001b[0m\u001b[1;33m.\u001b[0m\u001b[0mappend\u001b[0m\u001b[1;33m(\u001b[0m\u001b[0malgorithm_result\u001b[0m\u001b[1;33m)\u001b[0m\u001b[1;33m\u001b[0m\u001b[0m\n\u001b[0;32m    316\u001b[0m \u001b[1;33m\u001b[0m\u001b[0m\n",
        "\u001b[1;32m/data/pythondev/src/alabortcvpr2015/alabortcvpr2015/unified/algorithm.pyc\u001b[0m in \u001b[0;36mrun\u001b[1;34m(self, image, initial_shape, gt_shape, max_iters, prior, a)\u001b[0m\n\u001b[0;32m    146\u001b[0m \u001b[1;33m\u001b[0m\u001b[0m\n\u001b[0;32m    147\u001b[0m             \u001b[1;31m# compute warped image with current weights\u001b[0m\u001b[1;33m\u001b[0m\u001b[1;33m\u001b[0m\u001b[0m\n\u001b[1;32m--> 148\u001b[1;33m             \u001b[0mi\u001b[0m \u001b[1;33m=\u001b[0m \u001b[0mself\u001b[0m\u001b[1;33m.\u001b[0m\u001b[0minterface\u001b[0m\u001b[1;33m.\u001b[0m\u001b[0mwarp\u001b[0m\u001b[1;33m(\u001b[0m\u001b[0mimage\u001b[0m\u001b[1;33m)\u001b[0m\u001b[1;33m\u001b[0m\u001b[0m\n\u001b[0m\u001b[0;32m    149\u001b[0m \u001b[1;33m\u001b[0m\u001b[0m\n\u001b[0;32m    150\u001b[0m             \u001b[1;31m# reconstruct appearance\u001b[0m\u001b[1;33m\u001b[0m\u001b[1;33m\u001b[0m\u001b[0m\n",
        "\u001b[1;32m/data/pythondev/src/alabortcvpr2015/alabortcvpr2015/aam/algorithm.pyc\u001b[0m in \u001b[0;36mwarp\u001b[1;34m(self, image)\u001b[0m\n\u001b[0;32m    263\u001b[0m     \u001b[1;32mdef\u001b[0m \u001b[0mwarp\u001b[0m\u001b[1;33m(\u001b[0m\u001b[0mself\u001b[0m\u001b[1;33m,\u001b[0m \u001b[0mimage\u001b[0m\u001b[1;33m)\u001b[0m\u001b[1;33m:\u001b[0m\u001b[1;33m\u001b[0m\u001b[0m\n\u001b[0;32m    264\u001b[0m         return image.warp_to_mask(self.algorithm.template.mask,\n\u001b[1;32m--> 265\u001b[1;33m                                   self.algorithm.transform)\n\u001b[0m\u001b[0;32m    266\u001b[0m \u001b[1;33m\u001b[0m\u001b[0m\n\u001b[0;32m    267\u001b[0m     \u001b[1;32mdef\u001b[0m \u001b[0mgradient\u001b[0m\u001b[1;33m(\u001b[0m\u001b[0mself\u001b[0m\u001b[1;33m,\u001b[0m \u001b[0mimage\u001b[0m\u001b[1;33m)\u001b[0m\u001b[1;33m:\u001b[0m\u001b[1;33m\u001b[0m\u001b[0m\n",
        "\u001b[1;32m/data/pythondev/src/menpofast/menpofast/image/base.pyc\u001b[0m in \u001b[0;36mwarp_to_mask\u001b[1;34m(self, template_mask, transform, warp_landmarks, order, mode, cval)\u001b[0m\n\u001b[0;32m    932\u001b[0m         \u001b[1;31m# sampled pixels. Store those in a (n_pixels, n_channels) array.\u001b[0m\u001b[1;33m\u001b[0m\u001b[1;33m\u001b[0m\u001b[0m\n\u001b[0;32m    933\u001b[0m         sampled_pixel_values = scipy_interpolation(\n\u001b[1;32m--> 934\u001b[1;33m             self.pixels, points_to_sample, order=order, mode=mode, cval=cval)\n\u001b[0m\u001b[0;32m    935\u001b[0m         \u001b[1;31m# set any nan values to 0\u001b[0m\u001b[1;33m\u001b[0m\u001b[1;33m\u001b[0m\u001b[0m\n\u001b[0;32m    936\u001b[0m         \u001b[0msampled_pixel_values\u001b[0m\u001b[1;33m[\u001b[0m\u001b[0mnp\u001b[0m\u001b[1;33m.\u001b[0m\u001b[0misnan\u001b[0m\u001b[1;33m(\u001b[0m\u001b[0msampled_pixel_values\u001b[0m\u001b[1;33m)\u001b[0m\u001b[1;33m]\u001b[0m \u001b[1;33m=\u001b[0m \u001b[1;36m0\u001b[0m\u001b[1;33m\u001b[0m\u001b[0m\n",
        "\u001b[1;32m/data/pythondev/src/menpofast/menpofast/image/interpolation.pyc\u001b[0m in \u001b[0;36mscipy_interpolation\u001b[1;34m(pixels, points_to_sample, mode, order, cval)\u001b[0m\n\u001b[0;32m     54\u001b[0m                                                     \u001b[0mmode\u001b[0m\u001b[1;33m=\u001b[0m\u001b[0mmode\u001b[0m\u001b[1;33m,\u001b[0m\u001b[1;33m\u001b[0m\u001b[0m\n\u001b[0;32m     55\u001b[0m                                                     \u001b[0morder\u001b[0m\u001b[1;33m=\u001b[0m\u001b[0morder\u001b[0m\u001b[1;33m,\u001b[0m\u001b[1;33m\u001b[0m\u001b[0m\n\u001b[1;32m---> 56\u001b[1;33m                                                     cval=cval))\n\u001b[0m\u001b[0;32m     57\u001b[0m     \u001b[0msampled_pixel_values\u001b[0m \u001b[1;33m=\u001b[0m \u001b[1;33m[\u001b[0m\u001b[0mv\u001b[0m\u001b[1;33m.\u001b[0m\u001b[0mreshape\u001b[0m\u001b[1;33m(\u001b[0m\u001b[1;33m[\u001b[0m\u001b[1;36m1\u001b[0m\u001b[1;33m,\u001b[0m \u001b[1;33m-\u001b[0m\u001b[1;36m1\u001b[0m\u001b[1;33m]\u001b[0m\u001b[1;33m)\u001b[0m \u001b[1;32mfor\u001b[0m \u001b[0mv\u001b[0m \u001b[1;32min\u001b[0m \u001b[0msampled_pixel_values\u001b[0m\u001b[1;33m]\u001b[0m\u001b[1;33m\u001b[0m\u001b[0m\n\u001b[0;32m     58\u001b[0m     \u001b[1;32mreturn\u001b[0m \u001b[0mnp\u001b[0m\u001b[1;33m.\u001b[0m\u001b[0mconcatenate\u001b[0m\u001b[1;33m(\u001b[0m\u001b[0msampled_pixel_values\u001b[0m\u001b[1;33m,\u001b[0m \u001b[0maxis\u001b[0m\u001b[1;33m=\u001b[0m\u001b[1;36m0\u001b[0m\u001b[1;33m)\u001b[0m\u001b[1;33m\u001b[0m\u001b[0m\n",
        "\u001b[1;32m/data/installed/anaconda/envs/menpo/lib/python2.7/site-packages/scipy/ndimage/interpolation.pyc\u001b[0m in \u001b[0;36mmap_coordinates\u001b[1;34m(input, coordinates, output, order, mode, cval, prefilter)\u001b[0m\n\u001b[0;32m    306\u001b[0m                                                    shape=output_shape)\n\u001b[0;32m    307\u001b[0m     _nd_image.geometric_transform(filtered, None, coordinates, None, None,\n\u001b[1;32m--> 308\u001b[1;33m                output, order, mode, cval, None, None)\n\u001b[0m\u001b[0;32m    309\u001b[0m     \u001b[1;32mreturn\u001b[0m \u001b[0mreturn_value\u001b[0m\u001b[1;33m\u001b[0m\u001b[0m\n\u001b[0;32m    310\u001b[0m \u001b[1;33m\u001b[0m\u001b[0m\n",
        "\u001b[1;31mKeyboardInterrupt\u001b[0m: "
       ]
      }
     ],
     "prompt_number": 9
    },
    {
     "cell_type": "heading",
     "level": 3,
     "metadata": {},
     "source": [
      "Explore results"
     ]
    },
    {
     "cell_type": "code",
     "collapsed": false,
     "input": [
      "initial_errors = [fr.initial_error() for fr in results[0]]\n",
      "\n",
      "final_errors = []\n",
      "for fitter_results in results:\n",
      "    final_errors.append([fr.final_error() for fr in fitter_results])\n",
      "    \n",
      "errors = [initial_errors] + final_errors"
     ],
     "language": "python",
     "metadata": {},
     "outputs": [],
     "prompt_number": 10
    },
    {
     "cell_type": "code",
     "collapsed": false,
     "input": [
      "from menpofit.visualize import plot_ced\n",
      "\n",
      "legend_entries = ['Initial',\n",
      "                  'Parts-AAM-PIC',\n",
      "                  'Parts-AAM-AIC',\n",
      "                  'Global-AAM-PIC',\n",
      "                  'Global-AAM-AIC',\n",
      "                  'CLM-RLMS',\n",
      "                  'Parts-UNI-PIC-RLMS',\n",
      "                  'Parts-UNI-AIC-RLMS',\n",
      "                  'Global-UNI-PIC-RLMS',\n",
      "                  'Global-UNI-AIC-RLMS']\n",
      "\n",
      "plot_ced(errors, legend_entries=legend_entries)"
     ],
     "language": "python",
     "metadata": {},
     "outputs": [
      {
       "metadata": {},
       "output_type": "display_data",
       "png": "[encoded data removed]",
       "text": [
        "<matplotlib.figure.Figure at 0x7f7e3dc0a7d0>"
       ]
      }
     ],
     "prompt_number": 11
    },
    {
     "cell_type": "heading",
     "level": 3,
     "metadata": {},
     "source": [
      "Run time"
     ]
    },
    {
     "cell_type": "code",
     "collapsed": false,
     "input": [
      "for (fitter, entry) in zip(fitters, legend_entries[1:]):\n",
      "    \n",
      "    print entry, ': '\n",
      "    \n",
      "    %time fitter.fit(i, s, gt_shape=gt_s, max_iters=20, prior=False)\n",
      "    \n",
      "    print "
     ],
     "language": "python",
     "metadata": {},
     "outputs": []
    },
    {
     "cell_type": "code",
     "collapsed": false,
     "input": [
      "from menpofit.visualize import visualize_fitting_results\n",
      "\n",
      "visualize_fitting_results(results[1])"
     ],
     "language": "python",
     "metadata": {},
     "outputs": [
      {
       "metadata": {},
       "output_type": "display_data",
       "png": "[encoded data removed]",
       "text": [
        "<matplotlib.figure.Figure at 0x7f7e3da18dd0>"
       ]
      }
     ],
     "prompt_number": 13
    },
    {
     "cell_type": "code",
     "collapsed": false,
     "input": [],
     "language": "python",
     "metadata": {},
     "outputs": []
    }
   ],
   "metadata": {}
  }
 ]
}